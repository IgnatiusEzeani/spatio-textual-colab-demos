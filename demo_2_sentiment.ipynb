{
  "cells": [
    {
      "cell_type": "markdown",
      "metadata": {
        "id": "view-in-github",
        "colab_type": "text"
      },
      "source": [
        "<a href=\"https://colab.research.google.com/github/IgnatiusEzeani/spatio-textual-colab-demos/blob/main/demo_2_sentiment.ipynb\" target=\"_parent\"><img src=\"https://colab.research.google.com/assets/colab-badge.svg\" alt=\"Open In Colab\"/></a>"
      ]
    },
    {
      "cell_type": "markdown",
      "metadata": {
        "id": "NHEI31rJWhul"
      },
      "source": [
        "# Sentiment Classification with `spatio-textual`\n",
        "\n",
        "In this demo, we explore the sentiment classification and analysis features withi the `spatio-textual` package.\n",
        "\n",
        "It defaults to the a rule-based approach but includes the supports for large language models and HuggingFace"
      ],
      "id": "NHEI31rJWhul"
    },
    {
      "cell_type": "markdown",
      "metadata": {
        "id": "M0-v9I7vWhum"
      },
      "source": [
        "## Table of Contents\n",
        "1. [Setup](#setup)\n",
        "2. [Imports](#imports)\n",
        "3. [Data & Quick Demo](#data-demo)\n",
        "4. [Main Tutorial](#main)\n",
        "5. [Tips & Troubleshooting](#tips)\n",
        "6. [Summary](#summary)\n"
      ],
      "id": "M0-v9I7vWhum"
    },
    {
      "cell_type": "markdown",
      "metadata": {
        "id": "dQW-pHRfWhun"
      },
      "source": [
        "## Setting up  <a id='setup'></a>"
      ],
      "id": "dQW-pHRfWhun"
    },
    {
      "cell_type": "markdown",
      "source": [
        "As earlier, download the `spaCy` model and install the `spatio-textual` package"
      ],
      "metadata": {
        "id": "oXJ3IV5qJ5zJ"
      },
      "id": "oXJ3IV5qJ5zJ"
    },
    {
      "cell_type": "code",
      "execution_count": null,
      "metadata": {
        "id": "GKJhFm_eWhun"
      },
      "outputs": [],
      "source": [
        "!python -m spacy download en_core_web_trf\n",
        "!pip install -q git+https://github.com/SpaceTimeNarratives/spatio-textual.git"
      ],
      "id": "GKJhFm_eWhun"
    },
    {
      "cell_type": "markdown",
      "metadata": {
        "id": "1-WwNlpCWhuo"
      },
      "source": [
        "## Imports  <a id='imports'></a>"
      ],
      "id": "1-WwNlpCWhuo"
    },
    {
      "cell_type": "markdown",
      "source": [
        "Let's import the necessary modules: `load_spacy_model` and `Annotator` from `spatio_textual.utils`; and `SentimentAnalyzer` from `spatio_textual.sentiment`\n",
        "\n",
        "We also need `pandas` for working with data frames."
      ],
      "metadata": {
        "id": "BIUz-8-MK8_B"
      },
      "id": "BIUz-8-MK8_B"
    },
    {
      "cell_type": "code",
      "execution_count": null,
      "metadata": {
        "id": "q3AtEKIeWhuo"
      },
      "outputs": [],
      "source": [
        "import spatio_textual\n",
        "from spatio_textual.utils import load_spacy_model, Annotator\n",
        "from spatio_textual.sentiment import SentimentAnalyzer\n",
        "import pandas as pd"
      ],
      "id": "q3AtEKIeWhuo"
    },
    {
      "cell_type": "markdown",
      "metadata": {
        "id": "Ifuk54AsWhuo"
      },
      "source": [
        "## Data & Quick Demo  <a id='data-demo'></a>"
      ],
      "id": "Ifuk54AsWhuo"
    },
    {
      "cell_type": "code",
      "execution_count": null,
      "metadata": {
        "id": "qZJZ-4ieWhuo"
      },
      "outputs": [],
      "source": [
        "texts = [\n",
        "    \"I felt safe and relieved when we reached the farmhouse.\",\n",
        "    \"We were afraid, hungry, and cold during the march.\",\n",
        "    \"They asked us questions.\",\n",
        "]\n",
        "sa = SentimentAnalyzer(\"rule\")\n",
        "sa.predict(texts)\n"
      ],
      "id": "qZJZ-4ieWhuo"
    },
    {
      "cell_type": "markdown",
      "metadata": {
        "id": "V8MAJnxnWhup"
      },
      "source": [
        "## Main Tutorial  <a id='main'></a>\n",
        "### 1) Annotate + attach sentiment"
      ],
      "id": "V8MAJnxnWhup"
    },
    {
      "cell_type": "code",
      "execution_count": null,
      "metadata": {
        "id": "f_5zL7sSWhup"
      },
      "outputs": [],
      "source": [
        "nlp = load_spacy_model(\"en_core_web_sm\")\n",
        "ann = Annotator(nlp)\n",
        "recs = ann.annotate_texts(texts, file_id=\"sent_demo\", include_text=True)\n",
        "preds = sa.predict([r[\"text\"] for r in recs])\n",
        "for r, p in zip(recs, preds):\n",
        "    r.update({\"sentiment_label\": p[\"label\"], \"sentiment_score\": p[\"score\"]})\n",
        "pd.DataFrame([{k:r.get(k) for k in [\"segId\",\"text\",\"sentiment_label\",\"sentiment_score\"]} for r in recs])\n"
      ],
      "id": "f_5zL7sSWhup"
    },
    {
      "cell_type": "markdown",
      "metadata": {
        "id": "Zd6lTV1KWhup"
      },
      "source": [
        "### 2) Hooking up an HF pipeline (example)"
      ],
      "id": "Zd6lTV1KWhup"
    },
    {
      "cell_type": "code",
      "execution_count": null,
      "metadata": {
        "id": "26l6x5wqWhup"
      },
      "outputs": [],
      "source": [
        "# from transformers import pipeline\n",
        "# hf = pipeline(\"sentiment-analysis\", model=\"cardiffnlp/twitter-roberta-base-sentiment-latest\")\n",
        "# hf(texts)\n"
      ],
      "id": "26l6x5wqWhup"
    },
    {
      "cell_type": "markdown",
      "metadata": {
        "id": "WUug1mSxWhup"
      },
      "source": [
        "## Tips & Troubleshooting  <a id='tips'></a>\n",
        "- Rule backend is offline and immediate but simplistic; HF/LLM provide richer signals.\n",
        "- Keep inputs as short segments for better classifier performance.\n"
      ],
      "id": "WUug1mSxWhup"
    },
    {
      "cell_type": "markdown",
      "metadata": {
        "id": "0vmoCDVPWhup"
      },
      "source": [
        "## Summary  <a id='summary'></a>\n",
        "You ran sentiment classification with the rule backend and saw how to plug an HF pipeline.\n"
      ],
      "id": "0vmoCDVPWhup"
    }
  ],
  "metadata": {
    "colab": {
      "name": "demo_2_sentiment.ipynb",
      "provenance": [],
      "include_colab_link": true
    },
    "kernelspec": {
      "display_name": "Python 3",
      "language": "python",
      "name": "python3"
    },
    "language_info": {
      "name": "python",
      "pygments_lexer": "ipython3"
    }
  },
  "nbformat": 4,
  "nbformat_minor": 5
}