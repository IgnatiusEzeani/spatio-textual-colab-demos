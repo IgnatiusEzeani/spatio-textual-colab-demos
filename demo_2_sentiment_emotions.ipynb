{
  "cells": [
    {
      "cell_type": "markdown",
      "metadata": {
        "id": "view-in-github",
        "colab_type": "text"
      },
      "source": [
        "<a href=\"https://colab.research.google.com/github/IgnatiusEzeani/spatio-textual-colab-demos/blob/main/demo_2_sentiment_emotions.ipynb\" target=\"_parent\"><img src=\"https://colab.research.google.com/assets/colab-badge.svg\" alt=\"Open In Colab\"/></a>"
      ]
    },
    {
      "cell_type": "markdown",
      "metadata": {
        "id": "NHEI31rJWhul"
      },
      "source": [
        "# Classifying Sentiment and Emotion with `spatio-textual`\n",
        "\n",
        "In this demo, we explore the sentiment classification and analysis features withi the `spatio-textual` package.\n",
        "\n",
        "It defaults to the a rule-based approach but includes the supports for large language models and HuggingFace"
      ],
      "id": "NHEI31rJWhul"
    },
    {
      "cell_type": "markdown",
      "source": [
        "---"
      ],
      "metadata": {
        "id": "aRZrsPRAaM83"
      },
      "id": "aRZrsPRAaM83"
    },
    {
      "cell_type": "markdown",
      "metadata": {
        "id": "dQW-pHRfWhun"
      },
      "source": [
        "## Setting up"
      ],
      "id": "dQW-pHRfWhun"
    },
    {
      "cell_type": "markdown",
      "source": [
        "### Downloads\n",
        "As earlier, download the `spaCy` model and install the `spatio-textual` package"
      ],
      "metadata": {
        "id": "oXJ3IV5qJ5zJ"
      },
      "id": "oXJ3IV5qJ5zJ"
    },
    {
      "cell_type": "code",
      "execution_count": 1,
      "metadata": {
        "id": "GKJhFm_eWhun",
        "colab": {
          "base_uri": "https://localhost:8080/"
        },
        "outputId": "98e68858-2e41-4006-ccf9-401d0fb02fe7"
      },
      "outputs": [
        {
          "output_type": "stream",
          "name": "stdout",
          "text": [
            "Collecting en-core-web-trf==3.8.0\n",
            "  Downloading https://github.com/explosion/spacy-models/releases/download/en_core_web_trf-3.8.0/en_core_web_trf-3.8.0-py3-none-any.whl (457.4 MB)\n",
            "\u001b[2K     \u001b[90m━━━━━━━━━━━━━━━━━━━━━━━━━━━━━━━━━━━━━━━\u001b[0m \u001b[32m457.4/457.4 MB\u001b[0m \u001b[31m3.0 MB/s\u001b[0m eta \u001b[36m0:00:00\u001b[0m\n",
            "\u001b[?25hCollecting spacy-curated-transformers<1.0.0,>=0.2.2 (from en-core-web-trf==3.8.0)\n",
            "  Downloading spacy_curated_transformers-0.3.1-py2.py3-none-any.whl.metadata (2.7 kB)\n",
            "Collecting curated-transformers<0.2.0,>=0.1.0 (from spacy-curated-transformers<1.0.0,>=0.2.2->en-core-web-trf==3.8.0)\n",
            "  Downloading curated_transformers-0.1.1-py2.py3-none-any.whl.metadata (965 bytes)\n",
            "Collecting curated-tokenizers<0.1.0,>=0.0.9 (from spacy-curated-transformers<1.0.0,>=0.2.2->en-core-web-trf==3.8.0)\n",
            "  Downloading curated_tokenizers-0.0.9-cp312-cp312-manylinux_2_17_x86_64.manylinux2014_x86_64.whl.metadata (1.9 kB)\n",
            "Requirement already satisfied: torch>=1.12.0 in /usr/local/lib/python3.12/dist-packages (from spacy-curated-transformers<1.0.0,>=0.2.2->en-core-web-trf==3.8.0) (2.8.0+cu126)\n",
            "Requirement already satisfied: regex>=2022 in /usr/local/lib/python3.12/dist-packages (from curated-tokenizers<0.1.0,>=0.0.9->spacy-curated-transformers<1.0.0,>=0.2.2->en-core-web-trf==3.8.0) (2024.11.6)\n",
            "Requirement already satisfied: filelock in /usr/local/lib/python3.12/dist-packages (from torch>=1.12.0->spacy-curated-transformers<1.0.0,>=0.2.2->en-core-web-trf==3.8.0) (3.19.1)\n",
            "Requirement already satisfied: typing-extensions>=4.10.0 in /usr/local/lib/python3.12/dist-packages (from torch>=1.12.0->spacy-curated-transformers<1.0.0,>=0.2.2->en-core-web-trf==3.8.0) (4.15.0)\n",
            "Requirement already satisfied: setuptools in /usr/local/lib/python3.12/dist-packages (from torch>=1.12.0->spacy-curated-transformers<1.0.0,>=0.2.2->en-core-web-trf==3.8.0) (75.2.0)\n",
            "Requirement already satisfied: sympy>=1.13.3 in /usr/local/lib/python3.12/dist-packages (from torch>=1.12.0->spacy-curated-transformers<1.0.0,>=0.2.2->en-core-web-trf==3.8.0) (1.13.3)\n",
            "Requirement already satisfied: networkx in /usr/local/lib/python3.12/dist-packages (from torch>=1.12.0->spacy-curated-transformers<1.0.0,>=0.2.2->en-core-web-trf==3.8.0) (3.5)\n",
            "Requirement already satisfied: jinja2 in /usr/local/lib/python3.12/dist-packages (from torch>=1.12.0->spacy-curated-transformers<1.0.0,>=0.2.2->en-core-web-trf==3.8.0) (3.1.6)\n",
            "Requirement already satisfied: fsspec in /usr/local/lib/python3.12/dist-packages (from torch>=1.12.0->spacy-curated-transformers<1.0.0,>=0.2.2->en-core-web-trf==3.8.0) (2025.3.0)\n",
            "Requirement already satisfied: nvidia-cuda-nvrtc-cu12==12.6.77 in /usr/local/lib/python3.12/dist-packages (from torch>=1.12.0->spacy-curated-transformers<1.0.0,>=0.2.2->en-core-web-trf==3.8.0) (12.6.77)\n",
            "Requirement already satisfied: nvidia-cuda-runtime-cu12==12.6.77 in /usr/local/lib/python3.12/dist-packages (from torch>=1.12.0->spacy-curated-transformers<1.0.0,>=0.2.2->en-core-web-trf==3.8.0) (12.6.77)\n",
            "Requirement already satisfied: nvidia-cuda-cupti-cu12==12.6.80 in /usr/local/lib/python3.12/dist-packages (from torch>=1.12.0->spacy-curated-transformers<1.0.0,>=0.2.2->en-core-web-trf==3.8.0) (12.6.80)\n",
            "Requirement already satisfied: nvidia-cudnn-cu12==9.10.2.21 in /usr/local/lib/python3.12/dist-packages (from torch>=1.12.0->spacy-curated-transformers<1.0.0,>=0.2.2->en-core-web-trf==3.8.0) (9.10.2.21)\n",
            "Requirement already satisfied: nvidia-cublas-cu12==12.6.4.1 in /usr/local/lib/python3.12/dist-packages (from torch>=1.12.0->spacy-curated-transformers<1.0.0,>=0.2.2->en-core-web-trf==3.8.0) (12.6.4.1)\n",
            "Requirement already satisfied: nvidia-cufft-cu12==11.3.0.4 in /usr/local/lib/python3.12/dist-packages (from torch>=1.12.0->spacy-curated-transformers<1.0.0,>=0.2.2->en-core-web-trf==3.8.0) (11.3.0.4)\n",
            "Requirement already satisfied: nvidia-curand-cu12==10.3.7.77 in /usr/local/lib/python3.12/dist-packages (from torch>=1.12.0->spacy-curated-transformers<1.0.0,>=0.2.2->en-core-web-trf==3.8.0) (10.3.7.77)\n",
            "Requirement already satisfied: nvidia-cusolver-cu12==11.7.1.2 in /usr/local/lib/python3.12/dist-packages (from torch>=1.12.0->spacy-curated-transformers<1.0.0,>=0.2.2->en-core-web-trf==3.8.0) (11.7.1.2)\n",
            "Requirement already satisfied: nvidia-cusparse-cu12==12.5.4.2 in /usr/local/lib/python3.12/dist-packages (from torch>=1.12.0->spacy-curated-transformers<1.0.0,>=0.2.2->en-core-web-trf==3.8.0) (12.5.4.2)\n",
            "Requirement already satisfied: nvidia-cusparselt-cu12==0.7.1 in /usr/local/lib/python3.12/dist-packages (from torch>=1.12.0->spacy-curated-transformers<1.0.0,>=0.2.2->en-core-web-trf==3.8.0) (0.7.1)\n",
            "Requirement already satisfied: nvidia-nccl-cu12==2.27.3 in /usr/local/lib/python3.12/dist-packages (from torch>=1.12.0->spacy-curated-transformers<1.0.0,>=0.2.2->en-core-web-trf==3.8.0) (2.27.3)\n",
            "Requirement already satisfied: nvidia-nvtx-cu12==12.6.77 in /usr/local/lib/python3.12/dist-packages (from torch>=1.12.0->spacy-curated-transformers<1.0.0,>=0.2.2->en-core-web-trf==3.8.0) (12.6.77)\n",
            "Requirement already satisfied: nvidia-nvjitlink-cu12==12.6.85 in /usr/local/lib/python3.12/dist-packages (from torch>=1.12.0->spacy-curated-transformers<1.0.0,>=0.2.2->en-core-web-trf==3.8.0) (12.6.85)\n",
            "Requirement already satisfied: nvidia-cufile-cu12==1.11.1.6 in /usr/local/lib/python3.12/dist-packages (from torch>=1.12.0->spacy-curated-transformers<1.0.0,>=0.2.2->en-core-web-trf==3.8.0) (1.11.1.6)\n",
            "Requirement already satisfied: triton==3.4.0 in /usr/local/lib/python3.12/dist-packages (from torch>=1.12.0->spacy-curated-transformers<1.0.0,>=0.2.2->en-core-web-trf==3.8.0) (3.4.0)\n",
            "Requirement already satisfied: mpmath<1.4,>=1.1.0 in /usr/local/lib/python3.12/dist-packages (from sympy>=1.13.3->torch>=1.12.0->spacy-curated-transformers<1.0.0,>=0.2.2->en-core-web-trf==3.8.0) (1.3.0)\n",
            "Requirement already satisfied: MarkupSafe>=2.0 in /usr/local/lib/python3.12/dist-packages (from jinja2->torch>=1.12.0->spacy-curated-transformers<1.0.0,>=0.2.2->en-core-web-trf==3.8.0) (3.0.2)\n",
            "Downloading spacy_curated_transformers-0.3.1-py2.py3-none-any.whl (237 kB)\n",
            "\u001b[2K   \u001b[90m━━━━━━━━━━━━━━━━━━━━━━━━━━━━━━━━━━━━━━━━\u001b[0m \u001b[32m237.9/237.9 kB\u001b[0m \u001b[31m5.1 MB/s\u001b[0m eta \u001b[36m0:00:00\u001b[0m\n",
            "\u001b[?25hDownloading curated_tokenizers-0.0.9-cp312-cp312-manylinux_2_17_x86_64.manylinux2014_x86_64.whl (734 kB)\n",
            "\u001b[2K   \u001b[90m━━━━━━━━━━━━━━━━━━━━━━━━━━━━━━━━━━━━━━━━\u001b[0m \u001b[32m734.0/734.0 kB\u001b[0m \u001b[31m28.3 MB/s\u001b[0m eta \u001b[36m0:00:00\u001b[0m\n",
            "\u001b[?25hDownloading curated_transformers-0.1.1-py2.py3-none-any.whl (25 kB)\n",
            "Installing collected packages: curated-tokenizers, curated-transformers, spacy-curated-transformers, en-core-web-trf\n",
            "Successfully installed curated-tokenizers-0.0.9 curated-transformers-0.1.1 en-core-web-trf-3.8.0 spacy-curated-transformers-0.3.1\n",
            "\u001b[38;5;2m✔ Download and installation successful\u001b[0m\n",
            "You can now load the package via spacy.load('en_core_web_trf')\n",
            "\u001b[38;5;3m⚠ Restart to reload dependencies\u001b[0m\n",
            "If you are in a Jupyter or Colab notebook, you may need to restart Python in\n",
            "order to load all the package's dependencies. You can do this by selecting the\n",
            "'Restart kernel' or 'Restart runtime' option.\n",
            "  Installing build dependencies ... \u001b[?25l\u001b[?25hdone\n",
            "  Getting requirements to build wheel ... \u001b[?25l\u001b[?25hdone\n",
            "  Preparing metadata (pyproject.toml) ... \u001b[?25l\u001b[?25hdone\n",
            "\u001b[2K   \u001b[90m━━━━━━━━━━━━━━━━━━━━━━━━━━━━━━━━━━━━━━━━\u001b[0m \u001b[32m26.6/26.6 MB\u001b[0m \u001b[31m98.0 MB/s\u001b[0m eta \u001b[36m0:00:00\u001b[0m\n",
            "\u001b[?25h  Building wheel for spatio-textual (pyproject.toml) ... \u001b[?25l\u001b[?25hdone\n"
          ]
        }
      ],
      "source": [
        "!python -m spacy download en_core_web_trf\n",
        "!pip install -q git+https://github.com/SpaceTimeNarratives/spatio-textual.git"
      ],
      "id": "GKJhFm_eWhun"
    },
    {
      "cell_type": "markdown",
      "metadata": {
        "id": "1-WwNlpCWhuo"
      },
      "source": [
        "### Imports  <a id='imports'></a>\n",
        "Let's import the necessary tools: `load_spacy_model` and `Annotator` from `spatio_textual.utils`.\n",
        "\n",
        "We also need `pandas` for working with data frames."
      ],
      "id": "1-WwNlpCWhuo"
    },
    {
      "cell_type": "code",
      "execution_count": 2,
      "metadata": {
        "id": "q3AtEKIeWhuo"
      },
      "outputs": [],
      "source": [
        "import spatio_textual\n",
        "from spatio_textual.utils import load_spacy_model, Annotator\n",
        "import pandas as pd"
      ],
      "id": "q3AtEKIeWhuo"
    },
    {
      "cell_type": "markdown",
      "source": [
        "## Annotating entities\n",
        "\n",
        "As in Demo 1, we need the `spaCy` model and the `Annotator` module for the spatial entity annotations."
      ],
      "metadata": {
        "id": "9uO0PKYSQPdU"
      },
      "id": "9uO0PKYSQPdU"
    },
    {
      "cell_type": "code",
      "source": [
        "#@title ###### Use `spaCy` to instantiate `Annotator`\n",
        "nlp = load_spacy_model(\"en_core_web_trf\")\n",
        "ann = Annotator(nlp)"
      ],
      "metadata": {
        "id": "TxE6cFH9QLxN"
      },
      "id": "TxE6cFH9QLxN",
      "execution_count": 3,
      "outputs": []
    },
    {
      "cell_type": "code",
      "source": [
        "#@title ###### Using example texts\n",
        "texts = [\n",
        "    \"I felt safe and relieved when we reached the farmhouse.\",\n",
        "    \"We were afraid, hungry, and cold during the march.\",\n",
        "    \"They asked us questions.\",\n",
        "]"
      ],
      "metadata": {
        "id": "dRfsW3optxOK"
      },
      "id": "dRfsW3optxOK",
      "execution_count": 4,
      "outputs": []
    },
    {
      "cell_type": "code",
      "source": [
        "#@title ###### Annotating texts\n",
        "entities = ann.annotate_texts(\n",
        "    texts,\n",
        "    file_id=\"sent_demo\",  # Use what is relevant for your work\n",
        "    include_text=True,    # Let's you include the text in the result\n",
        "    include_verbs=True)   # Let's you extract verbs\n",
        "entities"
      ],
      "metadata": {
        "colab": {
          "base_uri": "https://localhost:8080/"
        },
        "id": "pHaQtCmbsVgm",
        "outputId": "b48c04bf-0331-4b0d-fde8-447689853b13"
      },
      "id": "pHaQtCmbsVgm",
      "execution_count": 5,
      "outputs": [
        {
          "output_type": "execute_result",
          "data": {
            "text/plain": [
              "[{'entities': [{'start_char': 45, 'token': 'farmhouse', 'tag': 'GEONOUN'}],\n",
              "  'verb_data': [{'sent-id': 0,\n",
              "    'verb': 'felt',\n",
              "    'subject': 'I',\n",
              "    'object': '',\n",
              "    'sentence': 'I felt safe and relieved when we reached the farmhouse.'},\n",
              "   {'sent-id': 0,\n",
              "    'verb': 'reached',\n",
              "    'subject': 'we',\n",
              "    'object': 'farmhouse',\n",
              "    'sentence': 'I felt safe and relieved when we reached the farmhouse.'}],\n",
              "  'fileId': 'sent_demo',\n",
              "  'segId': 1,\n",
              "  'text': 'I felt safe and relieved when we reached the farmhouse.',\n",
              "  'segCount': 3},\n",
              " {'entities': [],\n",
              "  'verb_data': [],\n",
              "  'fileId': 'sent_demo',\n",
              "  'segId': 2,\n",
              "  'text': 'We were afraid, hungry, and cold during the march.',\n",
              "  'segCount': 3},\n",
              " {'entities': [],\n",
              "  'verb_data': [{'sent-id': 0,\n",
              "    'verb': 'asked',\n",
              "    'subject': 'They',\n",
              "    'object': 'questions',\n",
              "    'sentence': 'They asked us questions.'}],\n",
              "  'fileId': 'sent_demo',\n",
              "  'segId': 3,\n",
              "  'text': 'They asked us questions.',\n",
              "  'segCount': 3}]"
            ]
          },
          "metadata": {},
          "execution_count": 5
        }
      ]
    },
    {
      "cell_type": "code",
      "source": [
        "pd.DataFrame([{k:row.get(k) for k in [\n",
        "    \"segId\",\"text\",\"entities\",\"verb_data\"]} for row in entities])"
      ],
      "metadata": {
        "colab": {
          "base_uri": "https://localhost:8080/",
          "height": 196
        },
        "id": "ITpr6Q9RvhnS",
        "outputId": "7c67ae05-b054-42d9-896c-34210307888d"
      },
      "id": "ITpr6Q9RvhnS",
      "execution_count": 6,
      "outputs": [
        {
          "output_type": "execute_result",
          "data": {
            "text/plain": [
              "   segId                                               text  \\\n",
              "0      1  I felt safe and relieved when we reached the f...   \n",
              "1      2  We were afraid, hungry, and cold during the ma...   \n",
              "2      3                           They asked us questions.   \n",
              "\n",
              "                                            entities  \\\n",
              "0  [{'start_char': 45, 'token': 'farmhouse', 'tag...   \n",
              "1                                                 []   \n",
              "2                                                 []   \n",
              "\n",
              "                                           verb_data  \n",
              "0  [{'sent-id': 0, 'verb': 'felt', 'subject': 'I'...  \n",
              "1                                                 []  \n",
              "2  [{'sent-id': 0, 'verb': 'asked', 'subject': 'T...  "
            ],
            "text/html": [
              "\n",
              "  <div id=\"df-0830b1a6-ef26-41a3-b840-203944e5bfa1\" class=\"colab-df-container\">\n",
              "    <div>\n",
              "<style scoped>\n",
              "    .dataframe tbody tr th:only-of-type {\n",
              "        vertical-align: middle;\n",
              "    }\n",
              "\n",
              "    .dataframe tbody tr th {\n",
              "        vertical-align: top;\n",
              "    }\n",
              "\n",
              "    .dataframe thead th {\n",
              "        text-align: right;\n",
              "    }\n",
              "</style>\n",
              "<table border=\"1\" class=\"dataframe\">\n",
              "  <thead>\n",
              "    <tr style=\"text-align: right;\">\n",
              "      <th></th>\n",
              "      <th>segId</th>\n",
              "      <th>text</th>\n",
              "      <th>entities</th>\n",
              "      <th>verb_data</th>\n",
              "    </tr>\n",
              "  </thead>\n",
              "  <tbody>\n",
              "    <tr>\n",
              "      <th>0</th>\n",
              "      <td>1</td>\n",
              "      <td>I felt safe and relieved when we reached the f...</td>\n",
              "      <td>[{'start_char': 45, 'token': 'farmhouse', 'tag...</td>\n",
              "      <td>[{'sent-id': 0, 'verb': 'felt', 'subject': 'I'...</td>\n",
              "    </tr>\n",
              "    <tr>\n",
              "      <th>1</th>\n",
              "      <td>2</td>\n",
              "      <td>We were afraid, hungry, and cold during the ma...</td>\n",
              "      <td>[]</td>\n",
              "      <td>[]</td>\n",
              "    </tr>\n",
              "    <tr>\n",
              "      <th>2</th>\n",
              "      <td>3</td>\n",
              "      <td>They asked us questions.</td>\n",
              "      <td>[]</td>\n",
              "      <td>[{'sent-id': 0, 'verb': 'asked', 'subject': 'T...</td>\n",
              "    </tr>\n",
              "  </tbody>\n",
              "</table>\n",
              "</div>\n",
              "    <div class=\"colab-df-buttons\">\n",
              "\n",
              "  <div class=\"colab-df-container\">\n",
              "    <button class=\"colab-df-convert\" onclick=\"convertToInteractive('df-0830b1a6-ef26-41a3-b840-203944e5bfa1')\"\n",
              "            title=\"Convert this dataframe to an interactive table.\"\n",
              "            style=\"display:none;\">\n",
              "\n",
              "  <svg xmlns=\"http://www.w3.org/2000/svg\" height=\"24px\" viewBox=\"0 -960 960 960\">\n",
              "    <path d=\"M120-120v-720h720v720H120Zm60-500h600v-160H180v160Zm220 220h160v-160H400v160Zm0 220h160v-160H400v160ZM180-400h160v-160H180v160Zm440 0h160v-160H620v160ZM180-180h160v-160H180v160Zm440 0h160v-160H620v160Z\"/>\n",
              "  </svg>\n",
              "    </button>\n",
              "\n",
              "  <style>\n",
              "    .colab-df-container {\n",
              "      display:flex;\n",
              "      gap: 12px;\n",
              "    }\n",
              "\n",
              "    .colab-df-convert {\n",
              "      background-color: #E8F0FE;\n",
              "      border: none;\n",
              "      border-radius: 50%;\n",
              "      cursor: pointer;\n",
              "      display: none;\n",
              "      fill: #1967D2;\n",
              "      height: 32px;\n",
              "      padding: 0 0 0 0;\n",
              "      width: 32px;\n",
              "    }\n",
              "\n",
              "    .colab-df-convert:hover {\n",
              "      background-color: #E2EBFA;\n",
              "      box-shadow: 0px 1px 2px rgba(60, 64, 67, 0.3), 0px 1px 3px 1px rgba(60, 64, 67, 0.15);\n",
              "      fill: #174EA6;\n",
              "    }\n",
              "\n",
              "    .colab-df-buttons div {\n",
              "      margin-bottom: 4px;\n",
              "    }\n",
              "\n",
              "    [theme=dark] .colab-df-convert {\n",
              "      background-color: #3B4455;\n",
              "      fill: #D2E3FC;\n",
              "    }\n",
              "\n",
              "    [theme=dark] .colab-df-convert:hover {\n",
              "      background-color: #434B5C;\n",
              "      box-shadow: 0px 1px 3px 1px rgba(0, 0, 0, 0.15);\n",
              "      filter: drop-shadow(0px 1px 2px rgba(0, 0, 0, 0.3));\n",
              "      fill: #FFFFFF;\n",
              "    }\n",
              "  </style>\n",
              "\n",
              "    <script>\n",
              "      const buttonEl =\n",
              "        document.querySelector('#df-0830b1a6-ef26-41a3-b840-203944e5bfa1 button.colab-df-convert');\n",
              "      buttonEl.style.display =\n",
              "        google.colab.kernel.accessAllowed ? 'block' : 'none';\n",
              "\n",
              "      async function convertToInteractive(key) {\n",
              "        const element = document.querySelector('#df-0830b1a6-ef26-41a3-b840-203944e5bfa1');\n",
              "        const dataTable =\n",
              "          await google.colab.kernel.invokeFunction('convertToInteractive',\n",
              "                                                    [key], {});\n",
              "        if (!dataTable) return;\n",
              "\n",
              "        const docLinkHtml = 'Like what you see? Visit the ' +\n",
              "          '<a target=\"_blank\" href=https://colab.research.google.com/notebooks/data_table.ipynb>data table notebook</a>'\n",
              "          + ' to learn more about interactive tables.';\n",
              "        element.innerHTML = '';\n",
              "        dataTable['output_type'] = 'display_data';\n",
              "        await google.colab.output.renderOutput(dataTable, element);\n",
              "        const docLink = document.createElement('div');\n",
              "        docLink.innerHTML = docLinkHtml;\n",
              "        element.appendChild(docLink);\n",
              "      }\n",
              "    </script>\n",
              "  </div>\n",
              "\n",
              "\n",
              "    <div id=\"df-37029437-f0e3-4243-a51f-7698a33bfe9d\">\n",
              "      <button class=\"colab-df-quickchart\" onclick=\"quickchart('df-37029437-f0e3-4243-a51f-7698a33bfe9d')\"\n",
              "                title=\"Suggest charts\"\n",
              "                style=\"display:none;\">\n",
              "\n",
              "<svg xmlns=\"http://www.w3.org/2000/svg\" height=\"24px\"viewBox=\"0 0 24 24\"\n",
              "     width=\"24px\">\n",
              "    <g>\n",
              "        <path d=\"M19 3H5c-1.1 0-2 .9-2 2v14c0 1.1.9 2 2 2h14c1.1 0 2-.9 2-2V5c0-1.1-.9-2-2-2zM9 17H7v-7h2v7zm4 0h-2V7h2v10zm4 0h-2v-4h2v4z\"/>\n",
              "    </g>\n",
              "</svg>\n",
              "      </button>\n",
              "\n",
              "<style>\n",
              "  .colab-df-quickchart {\n",
              "      --bg-color: #E8F0FE;\n",
              "      --fill-color: #1967D2;\n",
              "      --hover-bg-color: #E2EBFA;\n",
              "      --hover-fill-color: #174EA6;\n",
              "      --disabled-fill-color: #AAA;\n",
              "      --disabled-bg-color: #DDD;\n",
              "  }\n",
              "\n",
              "  [theme=dark] .colab-df-quickchart {\n",
              "      --bg-color: #3B4455;\n",
              "      --fill-color: #D2E3FC;\n",
              "      --hover-bg-color: #434B5C;\n",
              "      --hover-fill-color: #FFFFFF;\n",
              "      --disabled-bg-color: #3B4455;\n",
              "      --disabled-fill-color: #666;\n",
              "  }\n",
              "\n",
              "  .colab-df-quickchart {\n",
              "    background-color: var(--bg-color);\n",
              "    border: none;\n",
              "    border-radius: 50%;\n",
              "    cursor: pointer;\n",
              "    display: none;\n",
              "    fill: var(--fill-color);\n",
              "    height: 32px;\n",
              "    padding: 0;\n",
              "    width: 32px;\n",
              "  }\n",
              "\n",
              "  .colab-df-quickchart:hover {\n",
              "    background-color: var(--hover-bg-color);\n",
              "    box-shadow: 0 1px 2px rgba(60, 64, 67, 0.3), 0 1px 3px 1px rgba(60, 64, 67, 0.15);\n",
              "    fill: var(--button-hover-fill-color);\n",
              "  }\n",
              "\n",
              "  .colab-df-quickchart-complete:disabled,\n",
              "  .colab-df-quickchart-complete:disabled:hover {\n",
              "    background-color: var(--disabled-bg-color);\n",
              "    fill: var(--disabled-fill-color);\n",
              "    box-shadow: none;\n",
              "  }\n",
              "\n",
              "  .colab-df-spinner {\n",
              "    border: 2px solid var(--fill-color);\n",
              "    border-color: transparent;\n",
              "    border-bottom-color: var(--fill-color);\n",
              "    animation:\n",
              "      spin 1s steps(1) infinite;\n",
              "  }\n",
              "\n",
              "  @keyframes spin {\n",
              "    0% {\n",
              "      border-color: transparent;\n",
              "      border-bottom-color: var(--fill-color);\n",
              "      border-left-color: var(--fill-color);\n",
              "    }\n",
              "    20% {\n",
              "      border-color: transparent;\n",
              "      border-left-color: var(--fill-color);\n",
              "      border-top-color: var(--fill-color);\n",
              "    }\n",
              "    30% {\n",
              "      border-color: transparent;\n",
              "      border-left-color: var(--fill-color);\n",
              "      border-top-color: var(--fill-color);\n",
              "      border-right-color: var(--fill-color);\n",
              "    }\n",
              "    40% {\n",
              "      border-color: transparent;\n",
              "      border-right-color: var(--fill-color);\n",
              "      border-top-color: var(--fill-color);\n",
              "    }\n",
              "    60% {\n",
              "      border-color: transparent;\n",
              "      border-right-color: var(--fill-color);\n",
              "    }\n",
              "    80% {\n",
              "      border-color: transparent;\n",
              "      border-right-color: var(--fill-color);\n",
              "      border-bottom-color: var(--fill-color);\n",
              "    }\n",
              "    90% {\n",
              "      border-color: transparent;\n",
              "      border-bottom-color: var(--fill-color);\n",
              "    }\n",
              "  }\n",
              "</style>\n",
              "\n",
              "      <script>\n",
              "        async function quickchart(key) {\n",
              "          const quickchartButtonEl =\n",
              "            document.querySelector('#' + key + ' button');\n",
              "          quickchartButtonEl.disabled = true;  // To prevent multiple clicks.\n",
              "          quickchartButtonEl.classList.add('colab-df-spinner');\n",
              "          try {\n",
              "            const charts = await google.colab.kernel.invokeFunction(\n",
              "                'suggestCharts', [key], {});\n",
              "          } catch (error) {\n",
              "            console.error('Error during call to suggestCharts:', error);\n",
              "          }\n",
              "          quickchartButtonEl.classList.remove('colab-df-spinner');\n",
              "          quickchartButtonEl.classList.add('colab-df-quickchart-complete');\n",
              "        }\n",
              "        (() => {\n",
              "          let quickchartButtonEl =\n",
              "            document.querySelector('#df-37029437-f0e3-4243-a51f-7698a33bfe9d button');\n",
              "          quickchartButtonEl.style.display =\n",
              "            google.colab.kernel.accessAllowed ? 'block' : 'none';\n",
              "        })();\n",
              "      </script>\n",
              "    </div>\n",
              "\n",
              "    </div>\n",
              "  </div>\n"
            ],
            "application/vnd.google.colaboratory.intrinsic+json": {
              "type": "dataframe",
              "summary": "{\n  \"name\": \"    \\\"segId\\\",\\\"text\\\",\\\"entities\\\",\\\"verb_data\\\"]} for row in entities])\",\n  \"rows\": 3,\n  \"fields\": [\n    {\n      \"column\": \"segId\",\n      \"properties\": {\n        \"dtype\": \"number\",\n        \"std\": 1,\n        \"min\": 1,\n        \"max\": 3,\n        \"num_unique_values\": 3,\n        \"samples\": [\n          1,\n          2,\n          3\n        ],\n        \"semantic_type\": \"\",\n        \"description\": \"\"\n      }\n    },\n    {\n      \"column\": \"text\",\n      \"properties\": {\n        \"dtype\": \"string\",\n        \"num_unique_values\": 3,\n        \"samples\": [\n          \"I felt safe and relieved when we reached the farmhouse.\",\n          \"We were afraid, hungry, and cold during the march.\",\n          \"They asked us questions.\"\n        ],\n        \"semantic_type\": \"\",\n        \"description\": \"\"\n      }\n    },\n    {\n      \"column\": \"entities\",\n      \"properties\": {\n        \"dtype\": \"object\",\n        \"semantic_type\": \"\",\n        \"description\": \"\"\n      }\n    },\n    {\n      \"column\": \"verb_data\",\n      \"properties\": {\n        \"dtype\": \"object\",\n        \"semantic_type\": \"\",\n        \"description\": \"\"\n      }\n    }\n  ]\n}"
            }
          },
          "metadata": {},
          "execution_count": 6
        }
      ]
    },
    {
      "cell_type": "markdown",
      "metadata": {
        "id": "Ifuk54AsWhuo"
      },
      "source": [
        "---\n",
        "## Adding Sentiment"
      ],
      "id": "Ifuk54AsWhuo"
    },
    {
      "cell_type": "markdown",
      "source": [
        "Now we need a module called `SentimentAnalyzer` from `spatio_textual.sentiment`. It's backend supports three distinct approaches to assigning sentiments to text:\n",
        "- `rule`: uses a **rule-based** method with sentiment lexicon to estimate a sentiment score for the text\n",
        "- `hf`: uses **HuggingFace** models via its `sentiment-analysis` pipeline.   \n",
        "- `llm`: uses large language models, **LLMs** and supports some of the common providers and models:\n",
        "  - providers: `openai`, `anthropic`, `google`, `groq`, `xai`, `ollama`\n",
        "  - models: `gpt-4o-mini`, `claude-3-5-sonnet-20240620`, `gemini-1.5-pro`, `llama3:8b`"
      ],
      "metadata": {
        "id": "hMEi43IDvm93"
      },
      "id": "hMEi43IDvm93"
    },
    {
      "cell_type": "markdown",
      "source": [
        "### 1. Rule-based Sentiment Analysis\n",
        "\n",
        "In general, this approach here is very basic and simplistic. The sentiment score is easy to read: positive and negative values indictate positive and negative sentiments respectively while zero (or values very close to zero) neutral are considered neutral sentiments."
      ],
      "metadata": {
        "id": "XpPyAiIu9GtS"
      },
      "id": "XpPyAiIu9GtS"
    },
    {
      "cell_type": "code",
      "source": [
        "#@title ###### So let's import `SentimentAnalyzer`...\n",
        "from spatio_textual.sentiment import SentimentAnalyzer"
      ],
      "metadata": {
        "id": "5ghuQfxlu5aM"
      },
      "id": "5ghuQfxlu5aM",
      "execution_count": 7,
      "outputs": []
    },
    {
      "cell_type": "code",
      "source": [
        "#@title ###### ... and then classify the example...\n",
        "sa = SentimentAnalyzer(\"rule\")\n",
        "sentiment_scores = sa.predict(texts)\n",
        "sentiment_scores"
      ],
      "metadata": {
        "colab": {
          "base_uri": "https://localhost:8080/"
        },
        "id": "xNuH1cnf2eKQ",
        "outputId": "3e021586-8fd0-4084-ffe9-2aa5398b01fc"
      },
      "id": "xNuH1cnf2eKQ",
      "execution_count": 8,
      "outputs": [
        {
          "output_type": "execute_result",
          "data": {
            "text/plain": [
              "[{'label': 'positive', 'score': 0.32151273753163434},\n",
              " {'label': 'negative', 'score': -0.5827829453479102},\n",
              " {'label': 'neutral', 'score': 0.0}]"
            ]
          },
          "metadata": {},
          "execution_count": 8
        }
      ]
    },
    {
      "cell_type": "code",
      "source": [
        "#@title ###### ...and combine it with the entities\n",
        "results = entities\n",
        "for r, p in zip(results, sentiment_scores):\n",
        "    r.update({\"sentiment_label\": p[\"label\"], \"sentiment_score\": p[\"score\"]})\n",
        "\n",
        "pd.DataFrame([{k:row.get(k) for k in [\n",
        "    \"segId\",\"text\",\"entities\",\"verb_data\",\"sentiment_label\",\"sentiment_score\"\n",
        "    ]} for row in results])"
      ],
      "metadata": {
        "colab": {
          "base_uri": "https://localhost:8080/",
          "height": 196
        },
        "id": "jCNBmK8s7MHA",
        "outputId": "fd254715-4d19-4fa7-975e-9a47625d4391"
      },
      "id": "jCNBmK8s7MHA",
      "execution_count": 9,
      "outputs": [
        {
          "output_type": "execute_result",
          "data": {
            "text/plain": [
              "   segId                                               text  \\\n",
              "0      1  I felt safe and relieved when we reached the f...   \n",
              "1      2  We were afraid, hungry, and cold during the ma...   \n",
              "2      3                           They asked us questions.   \n",
              "\n",
              "                                            entities  \\\n",
              "0  [{'start_char': 45, 'token': 'farmhouse', 'tag...   \n",
              "1                                                 []   \n",
              "2                                                 []   \n",
              "\n",
              "                                           verb_data sentiment_label  \\\n",
              "0  [{'sent-id': 0, 'verb': 'felt', 'subject': 'I'...        positive   \n",
              "1                                                 []        negative   \n",
              "2  [{'sent-id': 0, 'verb': 'asked', 'subject': 'T...         neutral   \n",
              "\n",
              "   sentiment_score  \n",
              "0         0.321513  \n",
              "1        -0.582783  \n",
              "2         0.000000  "
            ],
            "text/html": [
              "\n",
              "  <div id=\"df-a8912764-28a9-4bba-b0fd-05d15ac9eaa5\" class=\"colab-df-container\">\n",
              "    <div>\n",
              "<style scoped>\n",
              "    .dataframe tbody tr th:only-of-type {\n",
              "        vertical-align: middle;\n",
              "    }\n",
              "\n",
              "    .dataframe tbody tr th {\n",
              "        vertical-align: top;\n",
              "    }\n",
              "\n",
              "    .dataframe thead th {\n",
              "        text-align: right;\n",
              "    }\n",
              "</style>\n",
              "<table border=\"1\" class=\"dataframe\">\n",
              "  <thead>\n",
              "    <tr style=\"text-align: right;\">\n",
              "      <th></th>\n",
              "      <th>segId</th>\n",
              "      <th>text</th>\n",
              "      <th>entities</th>\n",
              "      <th>verb_data</th>\n",
              "      <th>sentiment_label</th>\n",
              "      <th>sentiment_score</th>\n",
              "    </tr>\n",
              "  </thead>\n",
              "  <tbody>\n",
              "    <tr>\n",
              "      <th>0</th>\n",
              "      <td>1</td>\n",
              "      <td>I felt safe and relieved when we reached the f...</td>\n",
              "      <td>[{'start_char': 45, 'token': 'farmhouse', 'tag...</td>\n",
              "      <td>[{'sent-id': 0, 'verb': 'felt', 'subject': 'I'...</td>\n",
              "      <td>positive</td>\n",
              "      <td>0.321513</td>\n",
              "    </tr>\n",
              "    <tr>\n",
              "      <th>1</th>\n",
              "      <td>2</td>\n",
              "      <td>We were afraid, hungry, and cold during the ma...</td>\n",
              "      <td>[]</td>\n",
              "      <td>[]</td>\n",
              "      <td>negative</td>\n",
              "      <td>-0.582783</td>\n",
              "    </tr>\n",
              "    <tr>\n",
              "      <th>2</th>\n",
              "      <td>3</td>\n",
              "      <td>They asked us questions.</td>\n",
              "      <td>[]</td>\n",
              "      <td>[{'sent-id': 0, 'verb': 'asked', 'subject': 'T...</td>\n",
              "      <td>neutral</td>\n",
              "      <td>0.000000</td>\n",
              "    </tr>\n",
              "  </tbody>\n",
              "</table>\n",
              "</div>\n",
              "    <div class=\"colab-df-buttons\">\n",
              "\n",
              "  <div class=\"colab-df-container\">\n",
              "    <button class=\"colab-df-convert\" onclick=\"convertToInteractive('df-a8912764-28a9-4bba-b0fd-05d15ac9eaa5')\"\n",
              "            title=\"Convert this dataframe to an interactive table.\"\n",
              "            style=\"display:none;\">\n",
              "\n",
              "  <svg xmlns=\"http://www.w3.org/2000/svg\" height=\"24px\" viewBox=\"0 -960 960 960\">\n",
              "    <path d=\"M120-120v-720h720v720H120Zm60-500h600v-160H180v160Zm220 220h160v-160H400v160Zm0 220h160v-160H400v160ZM180-400h160v-160H180v160Zm440 0h160v-160H620v160ZM180-180h160v-160H180v160Zm440 0h160v-160H620v160Z\"/>\n",
              "  </svg>\n",
              "    </button>\n",
              "\n",
              "  <style>\n",
              "    .colab-df-container {\n",
              "      display:flex;\n",
              "      gap: 12px;\n",
              "    }\n",
              "\n",
              "    .colab-df-convert {\n",
              "      background-color: #E8F0FE;\n",
              "      border: none;\n",
              "      border-radius: 50%;\n",
              "      cursor: pointer;\n",
              "      display: none;\n",
              "      fill: #1967D2;\n",
              "      height: 32px;\n",
              "      padding: 0 0 0 0;\n",
              "      width: 32px;\n",
              "    }\n",
              "\n",
              "    .colab-df-convert:hover {\n",
              "      background-color: #E2EBFA;\n",
              "      box-shadow: 0px 1px 2px rgba(60, 64, 67, 0.3), 0px 1px 3px 1px rgba(60, 64, 67, 0.15);\n",
              "      fill: #174EA6;\n",
              "    }\n",
              "\n",
              "    .colab-df-buttons div {\n",
              "      margin-bottom: 4px;\n",
              "    }\n",
              "\n",
              "    [theme=dark] .colab-df-convert {\n",
              "      background-color: #3B4455;\n",
              "      fill: #D2E3FC;\n",
              "    }\n",
              "\n",
              "    [theme=dark] .colab-df-convert:hover {\n",
              "      background-color: #434B5C;\n",
              "      box-shadow: 0px 1px 3px 1px rgba(0, 0, 0, 0.15);\n",
              "      filter: drop-shadow(0px 1px 2px rgba(0, 0, 0, 0.3));\n",
              "      fill: #FFFFFF;\n",
              "    }\n",
              "  </style>\n",
              "\n",
              "    <script>\n",
              "      const buttonEl =\n",
              "        document.querySelector('#df-a8912764-28a9-4bba-b0fd-05d15ac9eaa5 button.colab-df-convert');\n",
              "      buttonEl.style.display =\n",
              "        google.colab.kernel.accessAllowed ? 'block' : 'none';\n",
              "\n",
              "      async function convertToInteractive(key) {\n",
              "        const element = document.querySelector('#df-a8912764-28a9-4bba-b0fd-05d15ac9eaa5');\n",
              "        const dataTable =\n",
              "          await google.colab.kernel.invokeFunction('convertToInteractive',\n",
              "                                                    [key], {});\n",
              "        if (!dataTable) return;\n",
              "\n",
              "        const docLinkHtml = 'Like what you see? Visit the ' +\n",
              "          '<a target=\"_blank\" href=https://colab.research.google.com/notebooks/data_table.ipynb>data table notebook</a>'\n",
              "          + ' to learn more about interactive tables.';\n",
              "        element.innerHTML = '';\n",
              "        dataTable['output_type'] = 'display_data';\n",
              "        await google.colab.output.renderOutput(dataTable, element);\n",
              "        const docLink = document.createElement('div');\n",
              "        docLink.innerHTML = docLinkHtml;\n",
              "        element.appendChild(docLink);\n",
              "      }\n",
              "    </script>\n",
              "  </div>\n",
              "\n",
              "\n",
              "    <div id=\"df-26d654ac-b152-440c-bb19-ddc36947257b\">\n",
              "      <button class=\"colab-df-quickchart\" onclick=\"quickchart('df-26d654ac-b152-440c-bb19-ddc36947257b')\"\n",
              "                title=\"Suggest charts\"\n",
              "                style=\"display:none;\">\n",
              "\n",
              "<svg xmlns=\"http://www.w3.org/2000/svg\" height=\"24px\"viewBox=\"0 0 24 24\"\n",
              "     width=\"24px\">\n",
              "    <g>\n",
              "        <path d=\"M19 3H5c-1.1 0-2 .9-2 2v14c0 1.1.9 2 2 2h14c1.1 0 2-.9 2-2V5c0-1.1-.9-2-2-2zM9 17H7v-7h2v7zm4 0h-2V7h2v10zm4 0h-2v-4h2v4z\"/>\n",
              "    </g>\n",
              "</svg>\n",
              "      </button>\n",
              "\n",
              "<style>\n",
              "  .colab-df-quickchart {\n",
              "      --bg-color: #E8F0FE;\n",
              "      --fill-color: #1967D2;\n",
              "      --hover-bg-color: #E2EBFA;\n",
              "      --hover-fill-color: #174EA6;\n",
              "      --disabled-fill-color: #AAA;\n",
              "      --disabled-bg-color: #DDD;\n",
              "  }\n",
              "\n",
              "  [theme=dark] .colab-df-quickchart {\n",
              "      --bg-color: #3B4455;\n",
              "      --fill-color: #D2E3FC;\n",
              "      --hover-bg-color: #434B5C;\n",
              "      --hover-fill-color: #FFFFFF;\n",
              "      --disabled-bg-color: #3B4455;\n",
              "      --disabled-fill-color: #666;\n",
              "  }\n",
              "\n",
              "  .colab-df-quickchart {\n",
              "    background-color: var(--bg-color);\n",
              "    border: none;\n",
              "    border-radius: 50%;\n",
              "    cursor: pointer;\n",
              "    display: none;\n",
              "    fill: var(--fill-color);\n",
              "    height: 32px;\n",
              "    padding: 0;\n",
              "    width: 32px;\n",
              "  }\n",
              "\n",
              "  .colab-df-quickchart:hover {\n",
              "    background-color: var(--hover-bg-color);\n",
              "    box-shadow: 0 1px 2px rgba(60, 64, 67, 0.3), 0 1px 3px 1px rgba(60, 64, 67, 0.15);\n",
              "    fill: var(--button-hover-fill-color);\n",
              "  }\n",
              "\n",
              "  .colab-df-quickchart-complete:disabled,\n",
              "  .colab-df-quickchart-complete:disabled:hover {\n",
              "    background-color: var(--disabled-bg-color);\n",
              "    fill: var(--disabled-fill-color);\n",
              "    box-shadow: none;\n",
              "  }\n",
              "\n",
              "  .colab-df-spinner {\n",
              "    border: 2px solid var(--fill-color);\n",
              "    border-color: transparent;\n",
              "    border-bottom-color: var(--fill-color);\n",
              "    animation:\n",
              "      spin 1s steps(1) infinite;\n",
              "  }\n",
              "\n",
              "  @keyframes spin {\n",
              "    0% {\n",
              "      border-color: transparent;\n",
              "      border-bottom-color: var(--fill-color);\n",
              "      border-left-color: var(--fill-color);\n",
              "    }\n",
              "    20% {\n",
              "      border-color: transparent;\n",
              "      border-left-color: var(--fill-color);\n",
              "      border-top-color: var(--fill-color);\n",
              "    }\n",
              "    30% {\n",
              "      border-color: transparent;\n",
              "      border-left-color: var(--fill-color);\n",
              "      border-top-color: var(--fill-color);\n",
              "      border-right-color: var(--fill-color);\n",
              "    }\n",
              "    40% {\n",
              "      border-color: transparent;\n",
              "      border-right-color: var(--fill-color);\n",
              "      border-top-color: var(--fill-color);\n",
              "    }\n",
              "    60% {\n",
              "      border-color: transparent;\n",
              "      border-right-color: var(--fill-color);\n",
              "    }\n",
              "    80% {\n",
              "      border-color: transparent;\n",
              "      border-right-color: var(--fill-color);\n",
              "      border-bottom-color: var(--fill-color);\n",
              "    }\n",
              "    90% {\n",
              "      border-color: transparent;\n",
              "      border-bottom-color: var(--fill-color);\n",
              "    }\n",
              "  }\n",
              "</style>\n",
              "\n",
              "      <script>\n",
              "        async function quickchart(key) {\n",
              "          const quickchartButtonEl =\n",
              "            document.querySelector('#' + key + ' button');\n",
              "          quickchartButtonEl.disabled = true;  // To prevent multiple clicks.\n",
              "          quickchartButtonEl.classList.add('colab-df-spinner');\n",
              "          try {\n",
              "            const charts = await google.colab.kernel.invokeFunction(\n",
              "                'suggestCharts', [key], {});\n",
              "          } catch (error) {\n",
              "            console.error('Error during call to suggestCharts:', error);\n",
              "          }\n",
              "          quickchartButtonEl.classList.remove('colab-df-spinner');\n",
              "          quickchartButtonEl.classList.add('colab-df-quickchart-complete');\n",
              "        }\n",
              "        (() => {\n",
              "          let quickchartButtonEl =\n",
              "            document.querySelector('#df-26d654ac-b152-440c-bb19-ddc36947257b button');\n",
              "          quickchartButtonEl.style.display =\n",
              "            google.colab.kernel.accessAllowed ? 'block' : 'none';\n",
              "        })();\n",
              "      </script>\n",
              "    </div>\n",
              "\n",
              "    </div>\n",
              "  </div>\n"
            ],
            "application/vnd.google.colaboratory.intrinsic+json": {
              "type": "dataframe",
              "summary": "{\n  \"name\": \"    ]} for row in results])\",\n  \"rows\": 3,\n  \"fields\": [\n    {\n      \"column\": \"segId\",\n      \"properties\": {\n        \"dtype\": \"number\",\n        \"std\": 1,\n        \"min\": 1,\n        \"max\": 3,\n        \"num_unique_values\": 3,\n        \"samples\": [\n          1,\n          2,\n          3\n        ],\n        \"semantic_type\": \"\",\n        \"description\": \"\"\n      }\n    },\n    {\n      \"column\": \"text\",\n      \"properties\": {\n        \"dtype\": \"string\",\n        \"num_unique_values\": 3,\n        \"samples\": [\n          \"I felt safe and relieved when we reached the farmhouse.\",\n          \"We were afraid, hungry, and cold during the march.\",\n          \"They asked us questions.\"\n        ],\n        \"semantic_type\": \"\",\n        \"description\": \"\"\n      }\n    },\n    {\n      \"column\": \"entities\",\n      \"properties\": {\n        \"dtype\": \"object\",\n        \"semantic_type\": \"\",\n        \"description\": \"\"\n      }\n    },\n    {\n      \"column\": \"verb_data\",\n      \"properties\": {\n        \"dtype\": \"object\",\n        \"semantic_type\": \"\",\n        \"description\": \"\"\n      }\n    },\n    {\n      \"column\": \"sentiment_label\",\n      \"properties\": {\n        \"dtype\": \"string\",\n        \"num_unique_values\": 3,\n        \"samples\": [\n          \"positive\",\n          \"negative\",\n          \"neutral\"\n        ],\n        \"semantic_type\": \"\",\n        \"description\": \"\"\n      }\n    },\n    {\n      \"column\": \"sentiment_score\",\n      \"properties\": {\n        \"dtype\": \"number\",\n        \"std\": 0.45839522318956244,\n        \"min\": -0.5827829453479102,\n        \"max\": 0.32151273753163434,\n        \"num_unique_values\": 3,\n        \"samples\": [\n          0.32151273753163434,\n          -0.5827829453479102,\n          0.0\n        ],\n        \"semantic_type\": \"\",\n        \"description\": \"\"\n      }\n    }\n  ]\n}"
            }
          },
          "metadata": {},
          "execution_count": 9
        }
      ]
    },
    {
      "cell_type": "markdown",
      "source": [
        "### 2. Sentiment Analysis with transformer model\n",
        "\n",
        "To use the `HuggingFace` pipeline for sentiment analysis at the backend, we simply pass the `hf` parameter while initialising the `SentimentAnalyzer` object.\n",
        "\n",
        "The default model is [CardiffNLP](https://cardiffnlp.github.io/)'s [twitter-roberta-base-sentiment-latest](https://huggingface.co/cardiffnlp/twitter-roberta-base-sentiment-latest) but you can pass any other model on HuggingFace"
      ],
      "metadata": {
        "id": "NVn4p9HqZimN"
      },
      "id": "NVn4p9HqZimN"
    },
    {
      "cell_type": "code",
      "source": [
        "sa = SentimentAnalyzer(\"hf\")"
      ],
      "metadata": {
        "id": "BCRhuJHfAlUw"
      },
      "id": "BCRhuJHfAlUw",
      "execution_count": 10,
      "outputs": []
    },
    {
      "cell_type": "code",
      "source": [
        "sentiment_scores = sa.predict(texts)\n",
        "sentiment_scores"
      ],
      "metadata": {
        "colab": {
          "base_uri": "https://localhost:8080/"
        },
        "id": "KickdAR4GJ8z",
        "outputId": "70080849-0ddd-453a-a004-0acb01df627b"
      },
      "id": "KickdAR4GJ8z",
      "execution_count": 12,
      "outputs": [
        {
          "output_type": "execute_result",
          "data": {
            "text/plain": [
              "[{'label': 'positive', 'score': 0.8691964745521545},\n",
              " {'label': 'negative', 'score': 0.8452902436256409},\n",
              " {'label': 'neutral', 'score': 0.8955906629562378}]"
            ]
          },
          "metadata": {},
          "execution_count": 12
        }
      ]
    },
    {
      "cell_type": "code",
      "source": [
        "from transformers import pipeline\n",
        "hf = pipeline(\"sentiment-analysis\", model=\"cardiffnlp/twitter-roberta-base-sentiment-latest\")\n",
        "sentiment_analysis = pipeline(\"sentiment-analysis\",model=\"siebert/sentiment-roberta-large-english\")"
      ],
      "metadata": {
        "id": "A1Q5o1PNZYt0"
      },
      "id": "A1Q5o1PNZYt0",
      "execution_count": null,
      "outputs": []
    },
    {
      "cell_type": "markdown",
      "source": [
        "### 3. LLM-based Sentiment Analysis"
      ],
      "metadata": {
        "id": "7PMJR_HS7acT"
      },
      "id": "7PMJR_HS7acT"
    },
    {
      "cell_type": "code",
      "source": [
        "from spatio_textual.llm import LLMRouter"
      ],
      "metadata": {
        "id": "F2rt2apk7SPJ"
      },
      "id": "F2rt2apk7SPJ",
      "execution_count": null,
      "outputs": []
    },
    {
      "cell_type": "markdown",
      "source": [
        "### Quick Demo  <a id='data-demo'></a>"
      ],
      "metadata": {
        "id": "uUM9JqxcH4zj"
      },
      "id": "uUM9JqxcH4zj"
    },
    {
      "cell_type": "code",
      "execution_count": null,
      "metadata": {
        "id": "qZJZ-4ieWhuo"
      },
      "outputs": [],
      "source": [
        "texts = [\n",
        "    \"I felt safe and relieved when we reached the farmhouse.\",\n",
        "    \"We were afraid, hungry, and cold during the march.\",\n",
        "    \"They asked us questions.\",\n",
        "]\n",
        "sa = SentimentAnalyzer(\"rule\")\n",
        "sa.predict(texts)\n"
      ],
      "id": "qZJZ-4ieWhuo"
    },
    {
      "cell_type": "markdown",
      "metadata": {
        "id": "V8MAJnxnWhup"
      },
      "source": [
        "### Main Tutorial\n",
        "#### 1. Annotate + attach sentiment\n",
        "We can annotate the texts and attach sentiment score using `SentimentAnalyzer(\"rule\")` i.e. the default rule-based approach in `spatio-textual`"
      ],
      "id": "V8MAJnxnWhup"
    },
    {
      "cell_type": "code",
      "execution_count": null,
      "metadata": {
        "id": "f_5zL7sSWhup"
      },
      "outputs": [],
      "source": [
        "recs = ann.annotate_texts(\n",
        "    texts,\n",
        "    file_id=\"sent_demo\", # Use what is relevant for your work\n",
        "    include_text=True, # Let's you include the text in the result\n",
        "    include_verbs=True) # Let's you extract verbs\n",
        "\n",
        "sa = SentimentAnalyzer(\"rule\")\n",
        "preds = sa.predict([r[\"text\"] for r in recs])\n",
        "\n",
        "for r, p in zip(recs, preds):\n",
        "    r.update({\"sentiment_label\": p[\"label\"], \"sentiment_score\": p[\"score\"]})\n"
      ],
      "id": "f_5zL7sSWhup"
    },
    {
      "cell_type": "markdown",
      "metadata": {
        "id": "Zd6lTV1KWhup"
      },
      "source": [
        "#### 2. Using a HuggingFace pipeline\n",
        "We can also use a transformer-based sentiment analysis model from HuggingFace.\n",
        "\n",
        "Here are using the [twitter-roberta-base-sentiment-latest](https://huggingface.co/cardiffnlp/twitter-roberta-base-sentiment-latest) from the [CardiffNLP](https://cardiffnlp.github.io/) team."
      ],
      "id": "Zd6lTV1KWhup"
    },
    {
      "cell_type": "code",
      "execution_count": null,
      "metadata": {
        "id": "26l6x5wqWhup"
      },
      "outputs": [],
      "source": [
        "recs = ann.annotate_texts(\n",
        "    texts,\n",
        "    file_id=\"sent_demo\",  # Use what is relevant for your work\n",
        "    include_text=True,    # Let's you include the text in the result\n",
        "    include_verbs=True)   # Let's you extract verbs\n",
        "\n",
        "hf_sentiments = hf(texts)\n",
        "for r, p in zip(recs, hf_sentiments):\n",
        "    r.update({\"hf_sentiment_label\": p[\"label\"],\n",
        "              \"hf_sentiment_score\": p[\"score\"]})\n",
        "\n",
        "pd.DataFrame([{k:r.get(k) for k in [\n",
        "    \"segId\",\"entities\",\"verb_data\",\"text\",\n",
        "    \"hf_sentiment_label\",\"hf_sentiment_score\"]}\n",
        "              for r in recs])"
      ],
      "id": "26l6x5wqWhup"
    },
    {
      "cell_type": "markdown",
      "source": [
        "#### 2. Hooking up an LLM for sentiment classification\n",
        "`spatio-textual` has a built in LLM support for theses providers and their models:\n",
        "\n",
        "* **openai**: `gpt-4o-mini`\n",
        "* **anthropic**: `claude-3-5-sonnet-20240620`\n",
        "* **google**: `gemini-1.5-pro`\n",
        "* **groq**: `llama3-70b-8192` (or mixtral, etc)\n",
        "* **xai**: `grok-beta` (use `base_url=https://api.x.ai, OPENAI-compatible`)\n",
        "* **ollama**: `llama3:8b` (local)\n"
      ],
      "metadata": {
        "id": "12qvRBOzfs54"
      },
      "id": "12qvRBOzfs54"
    },
    {
      "cell_type": "code",
      "source": [
        "router = LLMRouter(\n",
        "    provider=\"openai\",\n",
        "    model=\"gpt-4o-mini\",\n",
        "    api_key=\"\",\n",
        "    # Optional overrides (or use env vars):\n",
        "    # api_key=\"...\",                # else OPENAI_API_KEY / ANTHROPIC_API_KEY / GOOGLE_API_KEY / GROQ_API_KEY\n",
        "    # base_url=\"https://api.x.ai\",  # for OpenAI-compatible endpoints like xAI/Together\n",
        "    temperature=0.0,\n",
        "    max_tokens=64,\n",
        ")\n",
        "\n",
        "# Your existing ann pipeline\n",
        "recs = ann.annotate_texts(\n",
        "    texts,\n",
        "    file_id=\"sent_demo\",\n",
        "    include_text=True,\n",
        "    include_verbs=True\n",
        ")\n",
        "\n",
        "# Drop-in LLM sentiment\n",
        "llm_sentiments = router.sentiment(texts, rate_limit_s=0.0)\n",
        "\n",
        "for r, p in zip(recs, llm_sentiments):\n",
        "    r.update({\"llm_sentiment_label\": p[\"label\"], \"llm_sentiment_score\": p[\"score\"]})\n",
        "\n",
        "pd.DataFrame([{k:r.get(k) for k in [\n",
        "    \"segId\",\"entities\",\"verb_data\",\"text\",\n",
        "    \"llm_sentiment_label\",\"llm_sentiment_score\"]}\n",
        "              for r in recs])"
      ],
      "metadata": {
        "id": "rwTznIFXnAtZ"
      },
      "id": "rwTznIFXnAtZ",
      "execution_count": null,
      "outputs": []
    },
    {
      "cell_type": "markdown",
      "metadata": {
        "id": "WUug1mSxWhup"
      },
      "source": [
        "## Tips & Troubleshooting  <a id='tips'></a>\n",
        "- Rule backend is offline and immediate but simplistic; HF/LLM provide richer signals.\n",
        "- Keep inputs as short segments for better classifier performance.\n"
      ],
      "id": "WUug1mSxWhup"
    },
    {
      "cell_type": "markdown",
      "metadata": {
        "id": "0vmoCDVPWhup"
      },
      "source": [
        "## Summary  <a id='summary'></a>\n",
        "You ran sentiment classification with the rule backend and saw how to plug an HF pipeline.\n"
      ],
      "id": "0vmoCDVPWhup"
    },
    {
      "cell_type": "markdown",
      "source": [
        "### Draft usage examples"
      ],
      "metadata": {
        "id": "OSCfrP01eECC"
      },
      "id": "OSCfrP01eECC"
    },
    {
      "cell_type": "markdown",
      "source": [
        "A. Use LLM provider via env (no code changes beyond backend=\"llm\")"
      ],
      "metadata": {
        "id": "oc8fDydmpuVp"
      },
      "id": "oc8fDydmpuVp"
    },
    {
      "cell_type": "code",
      "source": [
        "\n",
        "# Example for OpenAI\n",
        "export LLM_PROVIDER=openai\n",
        "export LLM_MODEL=gpt-4o-mini\n",
        "export OPENAI_API_KEY=sk-...\n",
        "\n",
        "# Then in Python:\n",
        "from spatio_textual.sentiment import SentimentAnalyzer\n",
        "sa = SentimentAnalyzer(backend=\"llm\")\n",
        "sa.predict([\"Anne Frank was taken from Amsterdam to Auschwitz.\"])\n",
        "B) Pass an LLMRouter instance (explicit)\n",
        "python\n",
        "Copy code\n",
        "from spatio_textual.llm import LLMRouter\n",
        "from spatio_textual.sentiment import SentimentAnalyzer\n",
        "\n",
        "router = LLMRouter(provider=\"openai\", model=\"gpt-4o-mini\")\n",
        "sa = SentimentAnalyzer(backend=\"llm\", llm_fn=router)\n",
        "sa.predict([\"Anne Frank was taken from Amsterdam to Auschwitz.\"])\n",
        "C) Hugging Face Transformers\n",
        "python\n",
        "Copy code\n",
        "from spatio_textual.sentiment import SentimentAnalyzer\n",
        "sa = SentimentAnalyzer(backend=\"hf\", model_name=\"cardiffnlp/twitter-roberta-base-sentiment-latest\")\n",
        "sa.predict([\"Anne Frank was taken from Amsterdam to Auschwitz.\"])"
      ],
      "metadata": {
        "id": "lJ6W2v72eBwR"
      },
      "id": "lJ6W2v72eBwR",
      "execution_count": null,
      "outputs": []
    }
  ],
  "metadata": {
    "colab": {
      "provenance": [],
      "machine_shape": "hm",
      "gpuType": "T4",
      "include_colab_link": true
    },
    "kernelspec": {
      "display_name": "Python 3",
      "name": "python3"
    },
    "language_info": {
      "name": "python",
      "pygments_lexer": "ipython3"
    },
    "accelerator": "GPU"
  },
  "nbformat": 4,
  "nbformat_minor": 5
}