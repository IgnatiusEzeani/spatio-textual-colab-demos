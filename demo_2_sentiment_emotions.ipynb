{
  "cells": [
    {
      "cell_type": "markdown",
      "metadata": {
        "id": "view-in-github",
        "colab_type": "text"
      },
      "source": [
        "<a href=\"https://colab.research.google.com/github/IgnatiusEzeani/spatio-textual-colab-demos/blob/main/demo_2_sentiment_emotions.ipynb\" target=\"_parent\"><img src=\"https://colab.research.google.com/assets/colab-badge.svg\" alt=\"Open In Colab\"/></a>"
      ]
    },
    {
      "cell_type": "markdown",
      "metadata": {
        "id": "NHEI31rJWhul"
      },
      "source": [
        "# Classifying Sentiment and Emotion with `spatio-textual`\n",
        "\n",
        "In this demo, we explore the sentiment classification and analysis features withi the `spatio-textual` package.\n",
        "\n",
        "It defaults to the a rule-based approach but includes the supports for large language models and HuggingFace"
      ],
      "id": "NHEI31rJWhul"
    },
    {
      "cell_type": "markdown",
      "source": [
        "---"
      ],
      "metadata": {
        "id": "aRZrsPRAaM83"
      },
      "id": "aRZrsPRAaM83"
    },
    {
      "cell_type": "markdown",
      "metadata": {
        "id": "dQW-pHRfWhun"
      },
      "source": [
        "## Setting up"
      ],
      "id": "dQW-pHRfWhun"
    },
    {
      "cell_type": "markdown",
      "source": [
        "### Downloads\n",
        "As earlier, download the [spaCy](https://spacy.io/)'s NLP model, `en_core_web_trf`, and install the `spatio-textual` package."
      ],
      "metadata": {
        "id": "oXJ3IV5qJ5zJ"
      },
      "id": "oXJ3IV5qJ5zJ"
    },
    {
      "cell_type": "code",
      "execution_count": null,
      "metadata": {
        "id": "GKJhFm_eWhun",
        "colab": {
          "base_uri": "https://localhost:8080/"
        },
        "outputId": "fbafb5eb-daf3-4c4a-d144-2c4594ebbb7d"
      },
      "outputs": [
        {
          "output_type": "stream",
          "name": "stdout",
          "text": [
            "\u001b[2K     \u001b[90m━━━━━━━━━━━━━━━━━━━━━━━━━━━━━━━━━━━━━━━\u001b[0m \u001b[32m457.4/457.4 MB\u001b[0m \u001b[31m2.7 MB/s\u001b[0m eta \u001b[36m0:00:00\u001b[0m\n",
            "\u001b[2K   \u001b[90m━━━━━━━━━━━━━━━━━━━━━━━━━━━━━━━━━━━━━━━━\u001b[0m \u001b[32m237.9/237.9 kB\u001b[0m \u001b[31m2.8 MB/s\u001b[0m eta \u001b[36m0:00:00\u001b[0m\n",
            "\u001b[2K   \u001b[90m━━━━━━━━━━━━━━━━━━━━━━━━━━━━━━━━━━━━━━━━\u001b[0m \u001b[32m734.0/734.0 kB\u001b[0m \u001b[31m15.1 MB/s\u001b[0m eta \u001b[36m0:00:00\u001b[0m\n",
            "\u001b[?25h\u001b[38;5;2m✔ Download and installation successful\u001b[0m\n",
            "You can now load the package via spacy.load('en_core_web_trf')\n",
            "\u001b[38;5;3m⚠ Restart to reload dependencies\u001b[0m\n",
            "If you are in a Jupyter or Colab notebook, you may need to restart Python in\n",
            "order to load all the package's dependencies. You can do this by selecting the\n",
            "'Restart kernel' or 'Restart runtime' option.\n",
            "  Installing build dependencies ... \u001b[?25l\u001b[?25hdone\n",
            "  Getting requirements to build wheel ... \u001b[?25l\u001b[?25hdone\n",
            "  Preparing metadata (pyproject.toml) ... \u001b[?25l\u001b[?25hdone\n",
            "\u001b[2K   \u001b[90m━━━━━━━━━━━━━━━━━━━━━━━━━━━━━━━━━━━━━━━━\u001b[0m \u001b[32m26.6/26.6 MB\u001b[0m \u001b[31m85.8 MB/s\u001b[0m eta \u001b[36m0:00:00\u001b[0m\n",
            "\u001b[?25h  Building wheel for spatio-textual (pyproject.toml) ... \u001b[?25l\u001b[?25hdone\n"
          ]
        }
      ],
      "source": [
        "!python -m spacy download en_core_web_trf -q\n",
        "!pip install -q git+https://github.com/SpaceTimeNarratives/spatio-textual.git"
      ],
      "id": "GKJhFm_eWhun"
    },
    {
      "cell_type": "markdown",
      "metadata": {
        "id": "1-WwNlpCWhuo"
      },
      "source": [
        "### Imports  <a id='imports'></a>\n",
        "Let's import the necessary tools: `load_spacy_model` and `Annotator` from `spatio_textual.utils`.\n",
        "\n",
        "We also need `pandas` for working with data frames."
      ],
      "id": "1-WwNlpCWhuo"
    },
    {
      "cell_type": "code",
      "execution_count": null,
      "metadata": {
        "id": "q3AtEKIeWhuo"
      },
      "outputs": [],
      "source": [
        "import spatio_textual\n",
        "from spatio_textual.utils import load_spacy_model, Annotator\n",
        "import pandas as pd"
      ],
      "id": "q3AtEKIeWhuo"
    },
    {
      "cell_type": "markdown",
      "source": [
        "### Annotating entities\n",
        "\n",
        "As in Demo 1, we need the `spaCy` model and the `Annotator` module for the spatial entity annotations."
      ],
      "metadata": {
        "id": "9uO0PKYSQPdU"
      },
      "id": "9uO0PKYSQPdU"
    },
    {
      "cell_type": "code",
      "source": [
        "#@title ###### Use `spaCy` nlp model to instantiate `Annotator`\n",
        "nlp = load_spacy_model(\"en_core_web_trf\")\n",
        "ann = Annotator(nlp)"
      ],
      "metadata": {
        "id": "TxE6cFH9QLxN"
      },
      "id": "TxE6cFH9QLxN",
      "execution_count": null,
      "outputs": []
    },
    {
      "cell_type": "code",
      "source": [
        "#@title ###### Consider these example texts\n",
        "texts = [\n",
        "    \"I felt safe and relieved when we reached the farmhouse.\",\n",
        "    \"We were afraid, hungry, and cold during the march.\",\n",
        "    \"They asked us questions.\",\n",
        "]"
      ],
      "metadata": {
        "id": "dRfsW3optxOK"
      },
      "id": "dRfsW3optxOK",
      "execution_count": null,
      "outputs": []
    },
    {
      "cell_type": "code",
      "source": [
        "#@title ###### We start by annotating the `entities` (see [Demo 1](https://github.com/SpaceTimeNarratives/spatio-textual-colab-demos/blob/main/demo_1_entity_annotation.ipynb))\n",
        "entities = ann.annotate_texts(\n",
        "    texts,\n",
        "    file_id=\"sent_demo\",  # Use what is relevant for your work\n",
        "    include_text=True,    # Let's you include the text in the result\n",
        "    include_verbs=True)   # Let's you extract verbs\n",
        "entities"
      ],
      "metadata": {
        "colab": {
          "base_uri": "https://localhost:8080/"
        },
        "collapsed": true,
        "id": "pHaQtCmbsVgm",
        "outputId": "677d47aa-48b1-441c-f1d2-0f541ed2d7b1"
      },
      "id": "pHaQtCmbsVgm",
      "execution_count": null,
      "outputs": [
        {
          "output_type": "execute_result",
          "data": {
            "text/plain": [
              "[{'entities': [{'start_char': 45, 'token': 'farmhouse', 'tag': 'GEONOUN'}],\n",
              "  'verb_data': [{'sent-id': 0,\n",
              "    'verb': 'felt',\n",
              "    'subject': 'I',\n",
              "    'object': '',\n",
              "    'sentence': 'I felt safe and relieved when we reached the farmhouse.'},\n",
              "   {'sent-id': 0,\n",
              "    'verb': 'reached',\n",
              "    'subject': 'we',\n",
              "    'object': 'farmhouse',\n",
              "    'sentence': 'I felt safe and relieved when we reached the farmhouse.'}],\n",
              "  'fileId': 'sent_demo',\n",
              "  'segId': 1,\n",
              "  'text': 'I felt safe and relieved when we reached the farmhouse.',\n",
              "  'segCount': 3},\n",
              " {'entities': [],\n",
              "  'verb_data': [],\n",
              "  'fileId': 'sent_demo',\n",
              "  'segId': 2,\n",
              "  'text': 'We were afraid, hungry, and cold during the march.',\n",
              "  'segCount': 3},\n",
              " {'entities': [],\n",
              "  'verb_data': [{'sent-id': 0,\n",
              "    'verb': 'asked',\n",
              "    'subject': 'They',\n",
              "    'object': 'questions',\n",
              "    'sentence': 'They asked us questions.'}],\n",
              "  'fileId': 'sent_demo',\n",
              "  'segId': 3,\n",
              "  'text': 'They asked us questions.',\n",
              "  'segCount': 3}]"
            ]
          },
          "metadata": {},
          "execution_count": 5
        }
      ]
    },
    {
      "cell_type": "code",
      "source": [
        "pd.DataFrame([{k:row.get(k) for k in [\n",
        "    \"segId\",\"text\",\"entities\",\"verb_data\"]} for row in entities])"
      ],
      "metadata": {
        "colab": {
          "base_uri": "https://localhost:8080/",
          "height": 196
        },
        "id": "ITpr6Q9RvhnS",
        "outputId": "caedcbb4-6195-445d-f7b7-fa111b2bee14"
      },
      "id": "ITpr6Q9RvhnS",
      "execution_count": null,
      "outputs": [
        {
          "output_type": "execute_result",
          "data": {
            "text/plain": [
              "   segId                                               text  \\\n",
              "0      1  I felt safe and relieved when we reached the f...   \n",
              "1      2  We were afraid, hungry, and cold during the ma...   \n",
              "2      3                           They asked us questions.   \n",
              "\n",
              "                                            entities  \\\n",
              "0  [{'start_char': 45, 'token': 'farmhouse', 'tag...   \n",
              "1                                                 []   \n",
              "2                                                 []   \n",
              "\n",
              "                                           verb_data  \n",
              "0  [{'sent-id': 0, 'verb': 'felt', 'subject': 'I'...  \n",
              "1                                                 []  \n",
              "2  [{'sent-id': 0, 'verb': 'asked', 'subject': 'T...  "
            ],
            "text/html": [
              "\n",
              "  <div id=\"df-a126a799-ef78-47c6-8fd8-1c693005ebc2\" class=\"colab-df-container\">\n",
              "    <div>\n",
              "<style scoped>\n",
              "    .dataframe tbody tr th:only-of-type {\n",
              "        vertical-align: middle;\n",
              "    }\n",
              "\n",
              "    .dataframe tbody tr th {\n",
              "        vertical-align: top;\n",
              "    }\n",
              "\n",
              "    .dataframe thead th {\n",
              "        text-align: right;\n",
              "    }\n",
              "</style>\n",
              "<table border=\"1\" class=\"dataframe\">\n",
              "  <thead>\n",
              "    <tr style=\"text-align: right;\">\n",
              "      <th></th>\n",
              "      <th>segId</th>\n",
              "      <th>text</th>\n",
              "      <th>entities</th>\n",
              "      <th>verb_data</th>\n",
              "    </tr>\n",
              "  </thead>\n",
              "  <tbody>\n",
              "    <tr>\n",
              "      <th>0</th>\n",
              "      <td>1</td>\n",
              "      <td>I felt safe and relieved when we reached the f...</td>\n",
              "      <td>[{'start_char': 45, 'token': 'farmhouse', 'tag...</td>\n",
              "      <td>[{'sent-id': 0, 'verb': 'felt', 'subject': 'I'...</td>\n",
              "    </tr>\n",
              "    <tr>\n",
              "      <th>1</th>\n",
              "      <td>2</td>\n",
              "      <td>We were afraid, hungry, and cold during the ma...</td>\n",
              "      <td>[]</td>\n",
              "      <td>[]</td>\n",
              "    </tr>\n",
              "    <tr>\n",
              "      <th>2</th>\n",
              "      <td>3</td>\n",
              "      <td>They asked us questions.</td>\n",
              "      <td>[]</td>\n",
              "      <td>[{'sent-id': 0, 'verb': 'asked', 'subject': 'T...</td>\n",
              "    </tr>\n",
              "  </tbody>\n",
              "</table>\n",
              "</div>\n",
              "    <div class=\"colab-df-buttons\">\n",
              "\n",
              "  <div class=\"colab-df-container\">\n",
              "    <button class=\"colab-df-convert\" onclick=\"convertToInteractive('df-a126a799-ef78-47c6-8fd8-1c693005ebc2')\"\n",
              "            title=\"Convert this dataframe to an interactive table.\"\n",
              "            style=\"display:none;\">\n",
              "\n",
              "  <svg xmlns=\"http://www.w3.org/2000/svg\" height=\"24px\" viewBox=\"0 -960 960 960\">\n",
              "    <path d=\"M120-120v-720h720v720H120Zm60-500h600v-160H180v160Zm220 220h160v-160H400v160Zm0 220h160v-160H400v160ZM180-400h160v-160H180v160Zm440 0h160v-160H620v160ZM180-180h160v-160H180v160Zm440 0h160v-160H620v160Z\"/>\n",
              "  </svg>\n",
              "    </button>\n",
              "\n",
              "  <style>\n",
              "    .colab-df-container {\n",
              "      display:flex;\n",
              "      gap: 12px;\n",
              "    }\n",
              "\n",
              "    .colab-df-convert {\n",
              "      background-color: #E8F0FE;\n",
              "      border: none;\n",
              "      border-radius: 50%;\n",
              "      cursor: pointer;\n",
              "      display: none;\n",
              "      fill: #1967D2;\n",
              "      height: 32px;\n",
              "      padding: 0 0 0 0;\n",
              "      width: 32px;\n",
              "    }\n",
              "\n",
              "    .colab-df-convert:hover {\n",
              "      background-color: #E2EBFA;\n",
              "      box-shadow: 0px 1px 2px rgba(60, 64, 67, 0.3), 0px 1px 3px 1px rgba(60, 64, 67, 0.15);\n",
              "      fill: #174EA6;\n",
              "    }\n",
              "\n",
              "    .colab-df-buttons div {\n",
              "      margin-bottom: 4px;\n",
              "    }\n",
              "\n",
              "    [theme=dark] .colab-df-convert {\n",
              "      background-color: #3B4455;\n",
              "      fill: #D2E3FC;\n",
              "    }\n",
              "\n",
              "    [theme=dark] .colab-df-convert:hover {\n",
              "      background-color: #434B5C;\n",
              "      box-shadow: 0px 1px 3px 1px rgba(0, 0, 0, 0.15);\n",
              "      filter: drop-shadow(0px 1px 2px rgba(0, 0, 0, 0.3));\n",
              "      fill: #FFFFFF;\n",
              "    }\n",
              "  </style>\n",
              "\n",
              "    <script>\n",
              "      const buttonEl =\n",
              "        document.querySelector('#df-a126a799-ef78-47c6-8fd8-1c693005ebc2 button.colab-df-convert');\n",
              "      buttonEl.style.display =\n",
              "        google.colab.kernel.accessAllowed ? 'block' : 'none';\n",
              "\n",
              "      async function convertToInteractive(key) {\n",
              "        const element = document.querySelector('#df-a126a799-ef78-47c6-8fd8-1c693005ebc2');\n",
              "        const dataTable =\n",
              "          await google.colab.kernel.invokeFunction('convertToInteractive',\n",
              "                                                    [key], {});\n",
              "        if (!dataTable) return;\n",
              "\n",
              "        const docLinkHtml = 'Like what you see? Visit the ' +\n",
              "          '<a target=\"_blank\" href=https://colab.research.google.com/notebooks/data_table.ipynb>data table notebook</a>'\n",
              "          + ' to learn more about interactive tables.';\n",
              "        element.innerHTML = '';\n",
              "        dataTable['output_type'] = 'display_data';\n",
              "        await google.colab.output.renderOutput(dataTable, element);\n",
              "        const docLink = document.createElement('div');\n",
              "        docLink.innerHTML = docLinkHtml;\n",
              "        element.appendChild(docLink);\n",
              "      }\n",
              "    </script>\n",
              "  </div>\n",
              "\n",
              "\n",
              "    <div id=\"df-88b303c5-1b12-4846-8339-e88ef093726b\">\n",
              "      <button class=\"colab-df-quickchart\" onclick=\"quickchart('df-88b303c5-1b12-4846-8339-e88ef093726b')\"\n",
              "                title=\"Suggest charts\"\n",
              "                style=\"display:none;\">\n",
              "\n",
              "<svg xmlns=\"http://www.w3.org/2000/svg\" height=\"24px\"viewBox=\"0 0 24 24\"\n",
              "     width=\"24px\">\n",
              "    <g>\n",
              "        <path d=\"M19 3H5c-1.1 0-2 .9-2 2v14c0 1.1.9 2 2 2h14c1.1 0 2-.9 2-2V5c0-1.1-.9-2-2-2zM9 17H7v-7h2v7zm4 0h-2V7h2v10zm4 0h-2v-4h2v4z\"/>\n",
              "    </g>\n",
              "</svg>\n",
              "      </button>\n",
              "\n",
              "<style>\n",
              "  .colab-df-quickchart {\n",
              "      --bg-color: #E8F0FE;\n",
              "      --fill-color: #1967D2;\n",
              "      --hover-bg-color: #E2EBFA;\n",
              "      --hover-fill-color: #174EA6;\n",
              "      --disabled-fill-color: #AAA;\n",
              "      --disabled-bg-color: #DDD;\n",
              "  }\n",
              "\n",
              "  [theme=dark] .colab-df-quickchart {\n",
              "      --bg-color: #3B4455;\n",
              "      --fill-color: #D2E3FC;\n",
              "      --hover-bg-color: #434B5C;\n",
              "      --hover-fill-color: #FFFFFF;\n",
              "      --disabled-bg-color: #3B4455;\n",
              "      --disabled-fill-color: #666;\n",
              "  }\n",
              "\n",
              "  .colab-df-quickchart {\n",
              "    background-color: var(--bg-color);\n",
              "    border: none;\n",
              "    border-radius: 50%;\n",
              "    cursor: pointer;\n",
              "    display: none;\n",
              "    fill: var(--fill-color);\n",
              "    height: 32px;\n",
              "    padding: 0;\n",
              "    width: 32px;\n",
              "  }\n",
              "\n",
              "  .colab-df-quickchart:hover {\n",
              "    background-color: var(--hover-bg-color);\n",
              "    box-shadow: 0 1px 2px rgba(60, 64, 67, 0.3), 0 1px 3px 1px rgba(60, 64, 67, 0.15);\n",
              "    fill: var(--button-hover-fill-color);\n",
              "  }\n",
              "\n",
              "  .colab-df-quickchart-complete:disabled,\n",
              "  .colab-df-quickchart-complete:disabled:hover {\n",
              "    background-color: var(--disabled-bg-color);\n",
              "    fill: var(--disabled-fill-color);\n",
              "    box-shadow: none;\n",
              "  }\n",
              "\n",
              "  .colab-df-spinner {\n",
              "    border: 2px solid var(--fill-color);\n",
              "    border-color: transparent;\n",
              "    border-bottom-color: var(--fill-color);\n",
              "    animation:\n",
              "      spin 1s steps(1) infinite;\n",
              "  }\n",
              "\n",
              "  @keyframes spin {\n",
              "    0% {\n",
              "      border-color: transparent;\n",
              "      border-bottom-color: var(--fill-color);\n",
              "      border-left-color: var(--fill-color);\n",
              "    }\n",
              "    20% {\n",
              "      border-color: transparent;\n",
              "      border-left-color: var(--fill-color);\n",
              "      border-top-color: var(--fill-color);\n",
              "    }\n",
              "    30% {\n",
              "      border-color: transparent;\n",
              "      border-left-color: var(--fill-color);\n",
              "      border-top-color: var(--fill-color);\n",
              "      border-right-color: var(--fill-color);\n",
              "    }\n",
              "    40% {\n",
              "      border-color: transparent;\n",
              "      border-right-color: var(--fill-color);\n",
              "      border-top-color: var(--fill-color);\n",
              "    }\n",
              "    60% {\n",
              "      border-color: transparent;\n",
              "      border-right-color: var(--fill-color);\n",
              "    }\n",
              "    80% {\n",
              "      border-color: transparent;\n",
              "      border-right-color: var(--fill-color);\n",
              "      border-bottom-color: var(--fill-color);\n",
              "    }\n",
              "    90% {\n",
              "      border-color: transparent;\n",
              "      border-bottom-color: var(--fill-color);\n",
              "    }\n",
              "  }\n",
              "</style>\n",
              "\n",
              "      <script>\n",
              "        async function quickchart(key) {\n",
              "          const quickchartButtonEl =\n",
              "            document.querySelector('#' + key + ' button');\n",
              "          quickchartButtonEl.disabled = true;  // To prevent multiple clicks.\n",
              "          quickchartButtonEl.classList.add('colab-df-spinner');\n",
              "          try {\n",
              "            const charts = await google.colab.kernel.invokeFunction(\n",
              "                'suggestCharts', [key], {});\n",
              "          } catch (error) {\n",
              "            console.error('Error during call to suggestCharts:', error);\n",
              "          }\n",
              "          quickchartButtonEl.classList.remove('colab-df-spinner');\n",
              "          quickchartButtonEl.classList.add('colab-df-quickchart-complete');\n",
              "        }\n",
              "        (() => {\n",
              "          let quickchartButtonEl =\n",
              "            document.querySelector('#df-88b303c5-1b12-4846-8339-e88ef093726b button');\n",
              "          quickchartButtonEl.style.display =\n",
              "            google.colab.kernel.accessAllowed ? 'block' : 'none';\n",
              "        })();\n",
              "      </script>\n",
              "    </div>\n",
              "\n",
              "    </div>\n",
              "  </div>\n"
            ],
            "application/vnd.google.colaboratory.intrinsic+json": {
              "type": "dataframe",
              "summary": "{\n  \"name\": \"    \\\"segId\\\",\\\"text\\\",\\\"entities\\\",\\\"verb_data\\\"]} for row in entities])\",\n  \"rows\": 3,\n  \"fields\": [\n    {\n      \"column\": \"segId\",\n      \"properties\": {\n        \"dtype\": \"number\",\n        \"std\": 1,\n        \"min\": 1,\n        \"max\": 3,\n        \"num_unique_values\": 3,\n        \"samples\": [\n          1,\n          2,\n          3\n        ],\n        \"semantic_type\": \"\",\n        \"description\": \"\"\n      }\n    },\n    {\n      \"column\": \"text\",\n      \"properties\": {\n        \"dtype\": \"string\",\n        \"num_unique_values\": 3,\n        \"samples\": [\n          \"I felt safe and relieved when we reached the farmhouse.\",\n          \"We were afraid, hungry, and cold during the march.\",\n          \"They asked us questions.\"\n        ],\n        \"semantic_type\": \"\",\n        \"description\": \"\"\n      }\n    },\n    {\n      \"column\": \"entities\",\n      \"properties\": {\n        \"dtype\": \"object\",\n        \"semantic_type\": \"\",\n        \"description\": \"\"\n      }\n    },\n    {\n      \"column\": \"verb_data\",\n      \"properties\": {\n        \"dtype\": \"object\",\n        \"semantic_type\": \"\",\n        \"description\": \"\"\n      }\n    }\n  ]\n}"
            }
          },
          "metadata": {},
          "execution_count": 6
        }
      ]
    },
    {
      "cell_type": "markdown",
      "metadata": {
        "id": "Ifuk54AsWhuo"
      },
      "source": [
        "---\n",
        "## Adding Sentiment"
      ],
      "id": "Ifuk54AsWhuo"
    },
    {
      "cell_type": "markdown",
      "source": [
        "Now we need a module called `SentimentAnalyzer` from `spatio_textual.sentiment`. It's backend supports three distinct approaches to assigning sentiments to text:\n",
        "- `rule`: uses a **rule-based** method with sentiment lexicon to estimate a sentiment score for the text\n",
        "- `hf`: uses **HuggingFace** models via its `sentiment-analysis` pipeline.   \n",
        "- `llm`: uses large language models, **LLMs** and supports some of the common providers and models:\n",
        "  - providers: `openai`, `anthropic`, `google`, `groq`, `xai`, `ollama`\n",
        "  - models: `gpt-4o-mini`, `claude-3-5-sonnet-20240620`, `gemini-1.5-pro`, `llama3:8b`"
      ],
      "metadata": {
        "id": "hMEi43IDvm93"
      },
      "id": "hMEi43IDvm93"
    },
    {
      "cell_type": "markdown",
      "source": [
        "### 1. Rule-based Sentiment Analysis"
      ],
      "metadata": {
        "id": "XpPyAiIu9GtS"
      },
      "id": "XpPyAiIu9GtS"
    },
    {
      "cell_type": "markdown",
      "source": [
        "\n",
        "This approach is quite basic. The key steps include:\n",
        "1. Split the text into words (lowercase; strip punctuation).\n",
        "2. Count how many words are in a **positive** lexicon and how many are in a **negative** lexicon.\n",
        "    * `pos = #positive words in text`\n",
        "    * `neg = #negative words in text`\n",
        "\n",
        "3. Compute a raw balance:\n",
        "    * `raw = pos − neg`.\n",
        "4. Convert that raw number into a bounded score in **\\[−1, 1]** using a smooth squash (`tanh`).\n",
        "\n",
        "$$\n",
        "\\text{score} = \\tanh\\!\\left(\\frac{\\text{raw}}{3}\\right) \\in [-1, 1]\n",
        "$$\n",
        "\n",
        "\n",
        "5. Assign a label based on the score:\n",
        "$$\n",
        "\\text{label} =\n",
        "\\begin{cases}\n",
        "\\text{positive} & \\text{if } \\text{score} > 0.15 \\\\\n",
        "\\text{negative} & \\text{if } \\text{score} < -0.15 \\\\\n",
        "\\text{neutral} & \\text{otherwise}\n",
        "\\end{cases}\n",
        "$$\n",
        "\n",
        "**Quick examples:**\n",
        "\n",
        "* 2 positive words, 1 negative: $\\text{raw}=1\\Rightarrow\\text{score}=\\tanh(1/3)\\approx 0.32\\Rightarrow$ **positive**.\n",
        "* 1 positive, 1 negative: $\\text{raw}=0\\Rightarrow\\text{score}=0\\Rightarrow$ **neutral**.\n",
        "* 0 positive, 3 negative: $\\text{raw}=-3\\Rightarrow\\text{score}=\\tanh(-1)\\approx -0.76\\Rightarrow$ **negative**.\n"
      ],
      "metadata": {
        "id": "LumR3EG4t9jH"
      },
      "id": "LumR3EG4t9jH"
    },
    {
      "cell_type": "code",
      "source": [
        "#@title ###### So let's import `SentimentAnalyzer`...\n",
        "from spatio_textual.sentiment import SentimentAnalyzer"
      ],
      "metadata": {
        "id": "5ghuQfxlu5aM"
      },
      "id": "5ghuQfxlu5aM",
      "execution_count": null,
      "outputs": []
    },
    {
      "cell_type": "code",
      "source": [
        "#@title ###### ... and then classify the example...\n",
        "sa = SentimentAnalyzer(\"rule\")\n",
        "sentiment_scores = sa.predict(texts)\n",
        "sentiment_scores"
      ],
      "metadata": {
        "colab": {
          "base_uri": "https://localhost:8080/"
        },
        "id": "xNuH1cnf2eKQ",
        "outputId": "a7f62102-7b4c-4575-a3c5-1336cf626a42"
      },
      "id": "xNuH1cnf2eKQ",
      "execution_count": null,
      "outputs": [
        {
          "output_type": "execute_result",
          "data": {
            "text/plain": [
              "[{'label': 'positive', 'score': 0.32151273753163434},\n",
              " {'label': 'neutral', 'score': 0.0},\n",
              " {'label': 'neutral', 'score': 0.0},\n",
              " {'label': 'positive', 'score': 0.32151273753163434},\n",
              " {'label': 'negative', 'score': -0.32151273753163434},\n",
              " {'label': 'neutral', 'score': 0.0},\n",
              " {'label': 'negative', 'score': -0.5827829453479102},\n",
              " {'label': 'neutral', 'score': 0.0},\n",
              " {'label': 'negative', 'score': -0.5827829453479102},\n",
              " {'label': 'negative', 'score': -0.7615941559557649},\n",
              " {'label': 'negative', 'score': -0.5827829453479102},\n",
              " {'label': 'negative', 'score': -0.32151273753163434},\n",
              " {'label': 'neutral', 'score': 0.0},\n",
              " {'label': 'neutral', 'score': 0.0}]"
            ]
          },
          "metadata": {},
          "execution_count": 11
        }
      ]
    },
    {
      "cell_type": "code",
      "source": [
        "#@title ###### ...and combine it with `entities`.\n",
        "results = entities\n",
        "for r, p in zip(results, sentiment_scores):\n",
        "    r.update({\"sentiment_label\": p[\"label\"], \"sentiment_score\": p[\"score\"]})\n",
        "\n",
        "pd.DataFrame([{k:row.get(k) for k in [\n",
        "    \"segId\",\"text\",\"entities\",\"verb_data\",\"sentiment_label\",\"sentiment_score\"\n",
        "    ]} for row in results])"
      ],
      "metadata": {
        "colab": {
          "base_uri": "https://localhost:8080/",
          "height": 196
        },
        "id": "jCNBmK8s7MHA",
        "outputId": "67a3133e-f1f4-4a16-bca6-0fee217a55b9"
      },
      "id": "jCNBmK8s7MHA",
      "execution_count": null,
      "outputs": [
        {
          "output_type": "execute_result",
          "data": {
            "text/plain": [
              "   segId                                               text  \\\n",
              "0      1  I felt safe and relieved when we reached the f...   \n",
              "1      2  We were afraid, hungry, and cold during the ma...   \n",
              "2      3                           They asked us questions.   \n",
              "\n",
              "                                            entities  \\\n",
              "0  [{'start_char': 45, 'token': 'farmhouse', 'tag...   \n",
              "1                                                 []   \n",
              "2                                                 []   \n",
              "\n",
              "                                           verb_data sentiment_label  \\\n",
              "0  [{'sent-id': 0, 'verb': 'felt', 'subject': 'I'...        positive   \n",
              "1                                                 []        negative   \n",
              "2  [{'sent-id': 0, 'verb': 'asked', 'subject': 'T...         neutral   \n",
              "\n",
              "   sentiment_score  \n",
              "0         0.321513  \n",
              "1        -0.582783  \n",
              "2         0.000000  "
            ],
            "text/html": [
              "\n",
              "  <div id=\"df-9a802e28-bc9a-4fca-9270-cf532bee1ac2\" class=\"colab-df-container\">\n",
              "    <div>\n",
              "<style scoped>\n",
              "    .dataframe tbody tr th:only-of-type {\n",
              "        vertical-align: middle;\n",
              "    }\n",
              "\n",
              "    .dataframe tbody tr th {\n",
              "        vertical-align: top;\n",
              "    }\n",
              "\n",
              "    .dataframe thead th {\n",
              "        text-align: right;\n",
              "    }\n",
              "</style>\n",
              "<table border=\"1\" class=\"dataframe\">\n",
              "  <thead>\n",
              "    <tr style=\"text-align: right;\">\n",
              "      <th></th>\n",
              "      <th>segId</th>\n",
              "      <th>text</th>\n",
              "      <th>entities</th>\n",
              "      <th>verb_data</th>\n",
              "      <th>sentiment_label</th>\n",
              "      <th>sentiment_score</th>\n",
              "    </tr>\n",
              "  </thead>\n",
              "  <tbody>\n",
              "    <tr>\n",
              "      <th>0</th>\n",
              "      <td>1</td>\n",
              "      <td>I felt safe and relieved when we reached the f...</td>\n",
              "      <td>[{'start_char': 45, 'token': 'farmhouse', 'tag...</td>\n",
              "      <td>[{'sent-id': 0, 'verb': 'felt', 'subject': 'I'...</td>\n",
              "      <td>positive</td>\n",
              "      <td>0.321513</td>\n",
              "    </tr>\n",
              "    <tr>\n",
              "      <th>1</th>\n",
              "      <td>2</td>\n",
              "      <td>We were afraid, hungry, and cold during the ma...</td>\n",
              "      <td>[]</td>\n",
              "      <td>[]</td>\n",
              "      <td>negative</td>\n",
              "      <td>-0.582783</td>\n",
              "    </tr>\n",
              "    <tr>\n",
              "      <th>2</th>\n",
              "      <td>3</td>\n",
              "      <td>They asked us questions.</td>\n",
              "      <td>[]</td>\n",
              "      <td>[{'sent-id': 0, 'verb': 'asked', 'subject': 'T...</td>\n",
              "      <td>neutral</td>\n",
              "      <td>0.000000</td>\n",
              "    </tr>\n",
              "  </tbody>\n",
              "</table>\n",
              "</div>\n",
              "    <div class=\"colab-df-buttons\">\n",
              "\n",
              "  <div class=\"colab-df-container\">\n",
              "    <button class=\"colab-df-convert\" onclick=\"convertToInteractive('df-9a802e28-bc9a-4fca-9270-cf532bee1ac2')\"\n",
              "            title=\"Convert this dataframe to an interactive table.\"\n",
              "            style=\"display:none;\">\n",
              "\n",
              "  <svg xmlns=\"http://www.w3.org/2000/svg\" height=\"24px\" viewBox=\"0 -960 960 960\">\n",
              "    <path d=\"M120-120v-720h720v720H120Zm60-500h600v-160H180v160Zm220 220h160v-160H400v160Zm0 220h160v-160H400v160ZM180-400h160v-160H180v160Zm440 0h160v-160H620v160ZM180-180h160v-160H180v160Zm440 0h160v-160H620v160Z\"/>\n",
              "  </svg>\n",
              "    </button>\n",
              "\n",
              "  <style>\n",
              "    .colab-df-container {\n",
              "      display:flex;\n",
              "      gap: 12px;\n",
              "    }\n",
              "\n",
              "    .colab-df-convert {\n",
              "      background-color: #E8F0FE;\n",
              "      border: none;\n",
              "      border-radius: 50%;\n",
              "      cursor: pointer;\n",
              "      display: none;\n",
              "      fill: #1967D2;\n",
              "      height: 32px;\n",
              "      padding: 0 0 0 0;\n",
              "      width: 32px;\n",
              "    }\n",
              "\n",
              "    .colab-df-convert:hover {\n",
              "      background-color: #E2EBFA;\n",
              "      box-shadow: 0px 1px 2px rgba(60, 64, 67, 0.3), 0px 1px 3px 1px rgba(60, 64, 67, 0.15);\n",
              "      fill: #174EA6;\n",
              "    }\n",
              "\n",
              "    .colab-df-buttons div {\n",
              "      margin-bottom: 4px;\n",
              "    }\n",
              "\n",
              "    [theme=dark] .colab-df-convert {\n",
              "      background-color: #3B4455;\n",
              "      fill: #D2E3FC;\n",
              "    }\n",
              "\n",
              "    [theme=dark] .colab-df-convert:hover {\n",
              "      background-color: #434B5C;\n",
              "      box-shadow: 0px 1px 3px 1px rgba(0, 0, 0, 0.15);\n",
              "      filter: drop-shadow(0px 1px 2px rgba(0, 0, 0, 0.3));\n",
              "      fill: #FFFFFF;\n",
              "    }\n",
              "  </style>\n",
              "\n",
              "    <script>\n",
              "      const buttonEl =\n",
              "        document.querySelector('#df-9a802e28-bc9a-4fca-9270-cf532bee1ac2 button.colab-df-convert');\n",
              "      buttonEl.style.display =\n",
              "        google.colab.kernel.accessAllowed ? 'block' : 'none';\n",
              "\n",
              "      async function convertToInteractive(key) {\n",
              "        const element = document.querySelector('#df-9a802e28-bc9a-4fca-9270-cf532bee1ac2');\n",
              "        const dataTable =\n",
              "          await google.colab.kernel.invokeFunction('convertToInteractive',\n",
              "                                                    [key], {});\n",
              "        if (!dataTable) return;\n",
              "\n",
              "        const docLinkHtml = 'Like what you see? Visit the ' +\n",
              "          '<a target=\"_blank\" href=https://colab.research.google.com/notebooks/data_table.ipynb>data table notebook</a>'\n",
              "          + ' to learn more about interactive tables.';\n",
              "        element.innerHTML = '';\n",
              "        dataTable['output_type'] = 'display_data';\n",
              "        await google.colab.output.renderOutput(dataTable, element);\n",
              "        const docLink = document.createElement('div');\n",
              "        docLink.innerHTML = docLinkHtml;\n",
              "        element.appendChild(docLink);\n",
              "      }\n",
              "    </script>\n",
              "  </div>\n",
              "\n",
              "\n",
              "    <div id=\"df-46d39bc9-cc24-4189-b8bd-5482b52b23f0\">\n",
              "      <button class=\"colab-df-quickchart\" onclick=\"quickchart('df-46d39bc9-cc24-4189-b8bd-5482b52b23f0')\"\n",
              "                title=\"Suggest charts\"\n",
              "                style=\"display:none;\">\n",
              "\n",
              "<svg xmlns=\"http://www.w3.org/2000/svg\" height=\"24px\"viewBox=\"0 0 24 24\"\n",
              "     width=\"24px\">\n",
              "    <g>\n",
              "        <path d=\"M19 3H5c-1.1 0-2 .9-2 2v14c0 1.1.9 2 2 2h14c1.1 0 2-.9 2-2V5c0-1.1-.9-2-2-2zM9 17H7v-7h2v7zm4 0h-2V7h2v10zm4 0h-2v-4h2v4z\"/>\n",
              "    </g>\n",
              "</svg>\n",
              "      </button>\n",
              "\n",
              "<style>\n",
              "  .colab-df-quickchart {\n",
              "      --bg-color: #E8F0FE;\n",
              "      --fill-color: #1967D2;\n",
              "      --hover-bg-color: #E2EBFA;\n",
              "      --hover-fill-color: #174EA6;\n",
              "      --disabled-fill-color: #AAA;\n",
              "      --disabled-bg-color: #DDD;\n",
              "  }\n",
              "\n",
              "  [theme=dark] .colab-df-quickchart {\n",
              "      --bg-color: #3B4455;\n",
              "      --fill-color: #D2E3FC;\n",
              "      --hover-bg-color: #434B5C;\n",
              "      --hover-fill-color: #FFFFFF;\n",
              "      --disabled-bg-color: #3B4455;\n",
              "      --disabled-fill-color: #666;\n",
              "  }\n",
              "\n",
              "  .colab-df-quickchart {\n",
              "    background-color: var(--bg-color);\n",
              "    border: none;\n",
              "    border-radius: 50%;\n",
              "    cursor: pointer;\n",
              "    display: none;\n",
              "    fill: var(--fill-color);\n",
              "    height: 32px;\n",
              "    padding: 0;\n",
              "    width: 32px;\n",
              "  }\n",
              "\n",
              "  .colab-df-quickchart:hover {\n",
              "    background-color: var(--hover-bg-color);\n",
              "    box-shadow: 0 1px 2px rgba(60, 64, 67, 0.3), 0 1px 3px 1px rgba(60, 64, 67, 0.15);\n",
              "    fill: var(--button-hover-fill-color);\n",
              "  }\n",
              "\n",
              "  .colab-df-quickchart-complete:disabled,\n",
              "  .colab-df-quickchart-complete:disabled:hover {\n",
              "    background-color: var(--disabled-bg-color);\n",
              "    fill: var(--disabled-fill-color);\n",
              "    box-shadow: none;\n",
              "  }\n",
              "\n",
              "  .colab-df-spinner {\n",
              "    border: 2px solid var(--fill-color);\n",
              "    border-color: transparent;\n",
              "    border-bottom-color: var(--fill-color);\n",
              "    animation:\n",
              "      spin 1s steps(1) infinite;\n",
              "  }\n",
              "\n",
              "  @keyframes spin {\n",
              "    0% {\n",
              "      border-color: transparent;\n",
              "      border-bottom-color: var(--fill-color);\n",
              "      border-left-color: var(--fill-color);\n",
              "    }\n",
              "    20% {\n",
              "      border-color: transparent;\n",
              "      border-left-color: var(--fill-color);\n",
              "      border-top-color: var(--fill-color);\n",
              "    }\n",
              "    30% {\n",
              "      border-color: transparent;\n",
              "      border-left-color: var(--fill-color);\n",
              "      border-top-color: var(--fill-color);\n",
              "      border-right-color: var(--fill-color);\n",
              "    }\n",
              "    40% {\n",
              "      border-color: transparent;\n",
              "      border-right-color: var(--fill-color);\n",
              "      border-top-color: var(--fill-color);\n",
              "    }\n",
              "    60% {\n",
              "      border-color: transparent;\n",
              "      border-right-color: var(--fill-color);\n",
              "    }\n",
              "    80% {\n",
              "      border-color: transparent;\n",
              "      border-right-color: var(--fill-color);\n",
              "      border-bottom-color: var(--fill-color);\n",
              "    }\n",
              "    90% {\n",
              "      border-color: transparent;\n",
              "      border-bottom-color: var(--fill-color);\n",
              "    }\n",
              "  }\n",
              "</style>\n",
              "\n",
              "      <script>\n",
              "        async function quickchart(key) {\n",
              "          const quickchartButtonEl =\n",
              "            document.querySelector('#' + key + ' button');\n",
              "          quickchartButtonEl.disabled = true;  // To prevent multiple clicks.\n",
              "          quickchartButtonEl.classList.add('colab-df-spinner');\n",
              "          try {\n",
              "            const charts = await google.colab.kernel.invokeFunction(\n",
              "                'suggestCharts', [key], {});\n",
              "          } catch (error) {\n",
              "            console.error('Error during call to suggestCharts:', error);\n",
              "          }\n",
              "          quickchartButtonEl.classList.remove('colab-df-spinner');\n",
              "          quickchartButtonEl.classList.add('colab-df-quickchart-complete');\n",
              "        }\n",
              "        (() => {\n",
              "          let quickchartButtonEl =\n",
              "            document.querySelector('#df-46d39bc9-cc24-4189-b8bd-5482b52b23f0 button');\n",
              "          quickchartButtonEl.style.display =\n",
              "            google.colab.kernel.accessAllowed ? 'block' : 'none';\n",
              "        })();\n",
              "      </script>\n",
              "    </div>\n",
              "\n",
              "    </div>\n",
              "  </div>\n"
            ],
            "application/vnd.google.colaboratory.intrinsic+json": {
              "type": "dataframe",
              "summary": "{\n  \"name\": \"    ]} for row in results])\",\n  \"rows\": 3,\n  \"fields\": [\n    {\n      \"column\": \"segId\",\n      \"properties\": {\n        \"dtype\": \"number\",\n        \"std\": 1,\n        \"min\": 1,\n        \"max\": 3,\n        \"num_unique_values\": 3,\n        \"samples\": [\n          1,\n          2,\n          3\n        ],\n        \"semantic_type\": \"\",\n        \"description\": \"\"\n      }\n    },\n    {\n      \"column\": \"text\",\n      \"properties\": {\n        \"dtype\": \"string\",\n        \"num_unique_values\": 3,\n        \"samples\": [\n          \"I felt safe and relieved when we reached the farmhouse.\",\n          \"We were afraid, hungry, and cold during the march.\",\n          \"They asked us questions.\"\n        ],\n        \"semantic_type\": \"\",\n        \"description\": \"\"\n      }\n    },\n    {\n      \"column\": \"entities\",\n      \"properties\": {\n        \"dtype\": \"object\",\n        \"semantic_type\": \"\",\n        \"description\": \"\"\n      }\n    },\n    {\n      \"column\": \"verb_data\",\n      \"properties\": {\n        \"dtype\": \"object\",\n        \"semantic_type\": \"\",\n        \"description\": \"\"\n      }\n    },\n    {\n      \"column\": \"sentiment_label\",\n      \"properties\": {\n        \"dtype\": \"string\",\n        \"num_unique_values\": 3,\n        \"samples\": [\n          \"positive\",\n          \"negative\",\n          \"neutral\"\n        ],\n        \"semantic_type\": \"\",\n        \"description\": \"\"\n      }\n    },\n    {\n      \"column\": \"sentiment_score\",\n      \"properties\": {\n        \"dtype\": \"number\",\n        \"std\": 0.45839522318956244,\n        \"min\": -0.5827829453479102,\n        \"max\": 0.32151273753163434,\n        \"num_unique_values\": 3,\n        \"samples\": [\n          0.32151273753163434,\n          -0.5827829453479102,\n          0.0\n        ],\n        \"semantic_type\": \"\",\n        \"description\": \"\"\n      }\n    }\n  ]\n}"
            }
          },
          "metadata": {},
          "execution_count": 9
        }
      ]
    },
    {
      "cell_type": "markdown",
      "source": [
        "### 2. Sentiment Analysis with transformer model\n",
        "\n",
        "To use the `HuggingFace` pipeline for sentiment analysis at the backend, we simply pass the `hf` parameter while initialising the `SentimentAnalyzer` object."
      ],
      "metadata": {
        "id": "NVn4p9HqZimN"
      },
      "id": "NVn4p9HqZimN"
    },
    {
      "cell_type": "code",
      "source": [
        "sa = SentimentAnalyzer(\"hf\")"
      ],
      "metadata": {
        "id": "BCRhuJHfAlUw"
      },
      "id": "BCRhuJHfAlUw",
      "execution_count": null,
      "outputs": []
    },
    {
      "cell_type": "markdown",
      "source": [
        "The default model is [CardiffNLP](https://cardiffnlp.github.io/)'s [twitter-roberta-base-sentiment-latest](https://huggingface.co/cardiffnlp/twitter-roberta-base-sentiment-latest) but you can pass any other model on HuggingFace e.g.\n",
        "\n",
        "\n",
        ">```python\n",
        ">sa = SentimentAnalyzer(\"hf\", model_name=\"siebert/sentiment-roberta-large-english\")\n",
        ">```"
      ],
      "metadata": {
        "id": "ieI7LmY2fRaZ"
      },
      "id": "ieI7LmY2fRaZ"
    },
    {
      "cell_type": "code",
      "source": [
        "import warnings\n",
        "\n",
        "with warnings.catch_warnings():\n",
        "    warnings.simplefilter(\"ignore\")\n",
        "    hf_sentiment_scores = sa.predict(texts)\n",
        "\n",
        "hf_sentiment_scores"
      ],
      "metadata": {
        "id": "KickdAR4GJ8z"
      },
      "id": "KickdAR4GJ8z",
      "execution_count": null,
      "outputs": []
    },
    {
      "cell_type": "code",
      "source": [
        "#@title ###### As earlier, we can combine the results with the extracted `entities`.\n",
        "results = entities\n",
        "for r, p in zip(results, hf_sentiment_scores):\n",
        "    r.update({\"hf_sentiment_label\": p[\"label\"], \"hf_sentiment_score\": p[\"score\"]})\n",
        "\n",
        "pd.DataFrame([{k:row.get(k) for k in [\n",
        "    \"segId\",\"text\",\"entities\",\"verb_data\",\"hf_sentiment_label\",\"hf_sentiment_score\"\n",
        "    ]} for row in results])"
      ],
      "metadata": {
        "id": "LAFgJrb0gM2h"
      },
      "id": "LAFgJrb0gM2h",
      "execution_count": null,
      "outputs": []
    },
    {
      "cell_type": "markdown",
      "source": [
        ">Observe that unlike the rule-based scores that are signed to indicate positive and negative, HuggingFace (transformer) sentiment scoring basically shows probability values indicating how 'confident' the model is in the decision.\n",
        "\n",
        "The `spatio-textual` package allows us to convert the scores to signed values if required by setting the `include_signed` parameter to `True`."
      ],
      "metadata": {
        "id": "X_-Fdv_swg7x"
      },
      "id": "X_-Fdv_swg7x"
    },
    {
      "cell_type": "code",
      "source": [
        "#@title ###### So let's try that...\n",
        "hf_sentiment_scores = sa.predict(texts, include_signed=True)\n",
        "hf_sentiment_scores"
      ],
      "metadata": {
        "id": "TCffK8Ta-kd3"
      },
      "id": "TCffK8Ta-kd3",
      "execution_count": null,
      "outputs": []
    },
    {
      "cell_type": "code",
      "source": [
        "#@title ###### ...and of course combine it with `entities`.\n",
        "results = entities\n",
        "for r, p in zip(results, hf_sentiment_scores):\n",
        "    r.update({\"hf_sentiment_label\": p[\"label\"], \"hf_sentiment_score\": p[\"score\"],\n",
        "              \"hf_signed_score\": p[\"signed\"]})\n",
        "\n",
        "pd.DataFrame([{k:row.get(k) for k in [\n",
        "    \"segId\",\"text\",\"entities\",\"verb_data\",\"hf_sentiment_label\",\n",
        "    \"hf_sentiment_score\", \"hf_signed_score\"\n",
        "    ]} for row in results])"
      ],
      "metadata": {
        "id": "RlvV4gNxAXnG"
      },
      "id": "RlvV4gNxAXnG",
      "execution_count": null,
      "outputs": []
    },
    {
      "cell_type": "markdown",
      "source": [
        "### 3. LLM-based Sentiment Analysis"
      ],
      "metadata": {
        "id": "7PMJR_HS7acT"
      },
      "id": "7PMJR_HS7acT"
    },
    {
      "cell_type": "markdown",
      "source": [
        "`spatio_textual.sentiment` has a built in LLM support for theses providers and their models: **openai**: `gpt-4o-mini`, **anthropic**: `claude-3-5-sonnet-20240620`, **google**: `gemini-1.5-pro`, **groq**: `llama3-70b-8192` (or mixtral, etc), **xai**: `grok-beta` (use `base_url=https://api.x.ai, OPENAI-compatible`), **ollama**: `llama3:8b` (local)\n"
      ],
      "metadata": {
        "id": "12qvRBOzfs54"
      },
      "id": "12qvRBOzfs54"
    },
    {
      "cell_type": "markdown",
      "source": [
        "We will need the `LLMRouter` from the `spatio_textual.llm` module to define the LLM provider (e.g `openai`), the specific model (e.g. `gpt-4o-mini`) as well as API key and other parameters.\n",
        "> You can store your API keys on Colab for easy access or paste it when prompted in the is demo"
      ],
      "metadata": {
        "id": "VAqIL0ztLK_F"
      },
      "id": "VAqIL0ztLK_F"
    },
    {
      "cell_type": "code",
      "source": [
        "#@title ###### So let's import `LLMRouter` and set the API key.\n",
        "from spatio_textual.llm import LLMRouter\n",
        "from google.colab import userdata\n",
        "\n",
        "try:\n",
        "  api_key = userdata.get('OPENAI_API_KEY')\n",
        "except:\n",
        "  api_key = input('API KEY: ')"
      ],
      "metadata": {
        "id": "F2rt2apk7SPJ"
      },
      "id": "F2rt2apk7SPJ",
      "execution_count": null,
      "outputs": []
    },
    {
      "cell_type": "code",
      "source": [
        "#@title ###### We can now set up the router and instantiate `SentimentAnalyzer` with `llm` for the backend.\n",
        "router = LLMRouter(provider=\"openai\", model=\"gpt-4o-mini\",\n",
        "    api_key= api_key, # else OPENAI_API_KEY / ANTHROPIC_API_KEY / GOOGLE_API_KEY / GROQ_API_KEY\n",
        "    # base_url=\"https://api.x.ai\",  # for OpenAI-compatible endpoints like xAI/Together\n",
        "    temperature=0.0,\n",
        "    max_tokens=64,\n",
        ")\n",
        "sa = SentimentAnalyzer(backend=\"llm\", llm_fn=router.sentiment)"
      ],
      "metadata": {
        "id": "_1UfbK7avhYb"
      },
      "id": "_1UfbK7avhYb",
      "execution_count": null,
      "outputs": []
    },
    {
      "cell_type": "code",
      "source": [
        "#@title ###### Now we are ready to predict texts.\n",
        "llm__sentiment_scores = sa.predict(texts)\n",
        "llm__sentiment_scores"
      ],
      "metadata": {
        "id": "sYNG8JONCHTR"
      },
      "id": "sYNG8JONCHTR",
      "execution_count": null,
      "outputs": []
    },
    {
      "cell_type": "code",
      "source": [
        "#@title ###### Oh 🤔, we probably need the signed scores as well.\n",
        "llm__sentiment_scores = sa.predict(texts, include_signed=True)\n",
        "llm__sentiment_scores"
      ],
      "metadata": {
        "id": "_b8UQyZkQQj4"
      },
      "id": "_b8UQyZkQQj4",
      "execution_count": null,
      "outputs": []
    },
    {
      "cell_type": "code",
      "source": [
        "#@title ###### Combining it with `entities`...\n",
        "results = entities\n",
        "for r, p in zip(results, llm__sentiment_scores):\n",
        "    r.update({\"llm_sentiment_label\": p[\"label\"], \"llm_sentiment_score\": p[\"score\"],\n",
        "              \"llm_signed_score\": p[\"signed\"]})\n",
        "\n",
        "pd.DataFrame([{k:row.get(k) for k in [\n",
        "    \"segId\",\"text\",\"entities\",\"verb_data\",\"llm_sentiment_label\",\n",
        "    \"llm_sentiment_score\", \"llm_signed_score\"\n",
        "    ]} for row in results])"
      ],
      "metadata": {
        "id": "cVHyk_K0Rcay"
      },
      "id": "cVHyk_K0Rcay",
      "execution_count": null,
      "outputs": []
    },
    {
      "cell_type": "markdown",
      "source": [
        "---\n",
        "## Adding Emotion"
      ],
      "metadata": {
        "id": "_9x7rQXh5WHH"
      },
      "id": "_9x7rQXh5WHH"
    },
    {
      "cell_type": "markdown",
      "source": [
        "### Expanding `texts` with Emotion Classes"
      ],
      "metadata": {
        "id": "WpyltJoT_cmQ"
      },
      "id": "WpyltJoT_cmQ"
    },
    {
      "cell_type": "code",
      "source": [
        "#@title ###### Let's expanded `texts` a bit to reflect other emotion classes\n",
        "texts = [\n",
        "    # JOY (positive valence)\n",
        "    \"I felt safe and relieved when we reached the farmhouse.\",\n",
        "    \"We were reunited with my sister and welcomed inside.\",\n",
        "\n",
        "    # SURPRISE (slightly positive/neutral valence)\n",
        "    \"Suddenly, the guards announced a change we did not expect.\",\n",
        "    \"To my surprise, the train stopped before dawn.\",\n",
        "\n",
        "    # SADNESS (negative valence)\n",
        "    \"I cried for days after the loss of my friend.\",\n",
        "    \"We mourned in silence, thinking about those who were gone.\",\n",
        "\n",
        "    # FEAR (negative valence)\n",
        "    \"We were afraid, hungry, and cold during the march.\",\n",
        "    \"I was terrified when the sirens sounded across the camp.\",\n",
        "\n",
        "    # ANGER (negative valence)\n",
        "    \"I was furious at the cruelty we faced.\",\n",
        "    \"He spoke with rage about the injustice they suffered.\",\n",
        "\n",
        "    # DISGUST (negative valence)\n",
        "    \"We were disgusted by the filth in the barracks.\",\n",
        "    \"The stench made us nauseated and we looked away.\",\n",
        "\n",
        "    # NEUTRAL (baseline)\n",
        "    \"They asked us questions.\",\n",
        "    \"We walked along the road and waited in line.\",\n",
        "]"
      ],
      "metadata": {
        "id": "wzoH4-3DxRdF",
        "cellView": "form"
      },
      "id": "wzoH4-3DxRdF",
      "execution_count": null,
      "outputs": []
    },
    {
      "cell_type": "code",
      "source": [
        "#@title ###### As in the sentiment example, we want to annotate the `entities` in `texts`\n",
        "entities = ann.annotate_texts(\n",
        "    texts,\n",
        "    include_text=True,    # Let's you include the text in the result\n",
        "    include_verbs=True)   # Let's you extract verbs\n",
        "entities\n",
        "\n",
        "pd.DataFrame([{k:row.get(k) for k in [\n",
        "    \"segId\",\"text\",\"entities\",\"verb_data\"]} for row in entities])"
      ],
      "metadata": {
        "collapsed": true,
        "cellView": "form",
        "id": "ZdxtsE8xA383"
      },
      "id": "ZdxtsE8xA383",
      "execution_count": null,
      "outputs": []
    },
    {
      "cell_type": "markdown",
      "source": [
        "Now, let's label each text with one of the emotion classes.\n",
        "\n",
        "We will start by importing the `EmotionAnalyzer` from `spatio_textual`'s `emotion` module."
      ],
      "metadata": {
        "id": "OE4-lg06CmzR"
      },
      "id": "OE4-lg06CmzR"
    },
    {
      "cell_type": "code",
      "source": [
        "from spatio_textual.emotion import EmotionAnalyzer"
      ],
      "metadata": {
        "id": "ZgMyt7r9txrM"
      },
      "id": "ZgMyt7r9txrM",
      "execution_count": null,
      "outputs": []
    },
    {
      "cell_type": "markdown",
      "source": [
        "### 1. Rule-based Emotion Analysis"
      ],
      "metadata": {
        "id": "ZvrY04sQ68tS"
      },
      "id": "ZvrY04sQ68tS"
    },
    {
      "cell_type": "markdown",
      "source": [
        "**How it works**\n",
        "\n",
        "1. **Tokenize** the text into lowercase words (strip punctuation).\n",
        "2. **Count matches** against each emotion lexicon: `joy`, `surprise`, `sadness`, `fear`, `anger`, `disgust`.\n",
        "   A `neutral` bucket is kept as baseline (no counts).\n",
        "3. **Convert counts to probabilities** with a softmax. If no matches at all, set `neutral = 1`.\n",
        "4. **Pick the label** as the emotion with the highest probability; the **score** is that top probability.\n",
        "5. Optionally compute a **valence** (signed score in $[-1,1]$) by weighting the distribution with fixed positivity/negativity weights.\n",
        "\n",
        "---\n",
        "\n",
        "**Notation:**\n",
        "\n",
        "Let the emotion set be\n",
        "$\\mathcal{E}=\\{\\text{neutral},\\ \\text{joy},\\ \\text{surprise},\\ \\text{sadness},\\ \\text{fear},\\ \\text{anger},\\ \\text{disgust}\\}.$\n",
        "\n",
        "**Counts (per emotion $e$)**\n",
        "$c_e=\\#\\{\\text{tokens matching lexicon for } e\\},\\quad c_{\\text{neutral}}=0.$\n",
        "\n",
        "**Distribution $d_e$ (probabilities)**\n",
        "\n",
        "* If $\\sum_{e\\neq \\text{neutral}} c_e = 0$:\n",
        "  $d_{\\text{neutral}}=1,\\quad d_{e}=0\\ \\text{for } e\\neq \\text{neutral}.$\n",
        "* Else (softmax over counts):\n",
        "  $d_e=\\frac{\\exp(c_e)}{\\sum\\limits_{e'\\in\\mathcal{E}}\\exp(c_{e'})}.$\n",
        "\n",
        "**Label & confidence**\n",
        "\n",
        "$$text{label}=\\arg\\max_{e\\in\\mathcal{E}} d_e,\\qquad\n",
        "\\text{score}=\\max_{e\\in\\mathcal{E}} d_e.\\]\n",
        "\n",
        "---\n",
        "\n",
        "### Optional: Valence (signed score in \\([-1,1]\\))\n",
        "Choose fixed weights \\(w(e)\\):  \n",
        "\n",
        "$[\n",
        "w(\\text{neutral})=0, w(\\text{joy})=1, w(\\text{surprise})=0.2, w(\\text{sadness})=-1, w(\\text{fear})=-0.8, w(\\text{anger})=-0.7, w(\\text{disgust})=-0.7]$\n",
        "\n",
        "Then\n",
        "\n",
        "$[\\text{signed}=\\sum_{e\\in\\mathcal{E}} d_e\\,w(e)\\ \\in [-1,1]]$\n",
        "\n",
        "(Clip to \\([-1,1]\\) if rounding pushes you out of range.)\n",
        "\n",
        "**Optional coarse label from valence** (mirrors your sentiment thresholds):  \n",
        "$[\\text{positive if } \\text{signed}>0.15;\\quad\n",
        "[\\text{negative if } \\text{signed}< -0.15;\\quad\n",
        "[\\text{neutral otherwise.}\\]$\n",
        "\n",
        "---\n",
        "\n",
        "### Quick examples\n",
        "- “**I felt safe and relieved when we reached the farmhouse.**”  \n",
        "\\(c_{\\text{joy}}>0\\), others \\(\\approx 0\\) → \\(d_{\\text{joy}}\\) highest → **label = joy**,  \n",
        "**signed** \\(\\approx +d_{\\text{joy}}\\) (positive).\n",
        "\n",
        "- “**We were afraid, hungry, and cold during the march.**”  \n",
        "\\(c_{\\text{fear}}>0\\) → \\(d_{\\text{fear}}\\) highest → **label = fear**,  \n",
        "**signed** \\(\\approx -0.8\\times d_{\\text{fear}}\\) (negative).\n",
        "\n",
        "- “**They asked us questions.**”  \n",
        "No matches → **neutral** distribution → **label = neutral**, **signed = 0**.\n",
        "$$\n"
      ],
      "metadata": {
        "id": "EGQZjTawSXFr"
      },
      "id": "EGQZjTawSXFr"
    },
    {
      "cell_type": "code",
      "source": [
        "# Rule backend with valence and distribution\n",
        "emo = EmotionAnalyzer(backend=\"rule\")\n",
        "emotion_scores = emo.predict(texts, include_signed=True)"
      ],
      "metadata": {
        "id": "ONBd56gbsSOm"
      },
      "id": "ONBd56gbsSOm",
      "execution_count": null,
      "outputs": []
    },
    {
      "cell_type": "code",
      "source": [
        "#@title ###### Annotate `entities` and add emotion scores...\n",
        "results = entities\n",
        "for r, p in zip(results, emotion_scores):\n",
        "    r.update({\"emotion_label\": p[\"label\"], \"emotion_score\": p[\"score\"],\n",
        "              \"emotion_score\": p[\"signed\"]})\n",
        "\n",
        "pd.DataFrame([{k:row.get(k) for k in [\n",
        "    \"segId\",\"text\",\"entities\",\"verb_data\",\"emotion_label\",\n",
        "    \"emotion_score\", \"emotion_score\"\n",
        "    ]} for row in results])"
      ],
      "metadata": {
        "id": "VcciCoTC5rAe"
      },
      "id": "VcciCoTC5rAe",
      "execution_count": null,
      "outputs": []
    },
    {
      "cell_type": "markdown",
      "metadata": {
        "id": "WUug1mSxWhup"
      },
      "source": [
        "## Tips & Troubleshooting  <a id='tips'></a>\n",
        "- Rule backend is offline and immediate but simplistic; HF/LLM provide richer signals.\n",
        "- Keep inputs as short segments for better classifier performance.\n"
      ],
      "id": "WUug1mSxWhup"
    },
    {
      "cell_type": "markdown",
      "metadata": {
        "id": "0vmoCDVPWhup"
      },
      "source": [
        "## Summary  <a id='summary'></a>\n",
        "You ran sentiment classification with the rule backend and saw how to plug an HF pipeline.\n"
      ],
      "id": "0vmoCDVPWhup"
    }
  ],
  "metadata": {
    "colab": {
      "provenance": [],
      "machine_shape": "hm",
      "gpuType": "T4",
      "collapsed_sections": [
        "NVn4p9HqZimN",
        "7PMJR_HS7acT"
      ],
      "include_colab_link": true
    },
    "kernelspec": {
      "display_name": "Python 3",
      "name": "python3"
    },
    "language_info": {
      "name": "python",
      "pygments_lexer": "ipython3"
    },
    "accelerator": "GPU"
  },
  "nbformat": 4,
  "nbformat_minor": 5
}