{
  "cells": [
    {
      "cell_type": "markdown",
      "metadata": {
        "id": "view-in-github",
        "colab_type": "text"
      },
      "source": [
        "<a href=\"https://colab.research.google.com/github/SpaceTimeNarratives/spatio-textual-colab-demos/blob/main/demo_1_entity_annotation.ipynb\" target=\"_parent\"><img src=\"https://colab.research.google.com/assets/colab-badge.svg\" alt=\"Open In Colab\"/></a>"
      ]
    },
    {
      "cell_type": "markdown",
      "metadata": {
        "id": "QBrCPj878Txz"
      },
      "source": [
        "# Introducing `spatio-textual` Python package"
      ]
    },
    {
      "cell_type": "markdown",
      "metadata": {
        "id": "8OL1Nd-F8WEQ"
      },
      "source": [
        "**spatio-textual**: a Python package for spatial entity recognition and verb relation extraction from text created by the [Spatial Narratives Project](https://spacetimenarratives.github.io/) and designed to support spatio-textual annotation, analysis and visualization in digital humanities projects, with initial applications to:\n",
        "\n",
        "- the *Corpus of Lake District Writing* (CLDW)\n",
        "- Holocaust survivors' testimonies (e.g., USC Shoah Foundation archives)\n",
        "\n",
        "This package leverages spaCy and gazetteer-based classification to identify and label spatial entities such as cities, countries, camps, and geographic nouns, and also extracts action-verb contexts involving these entities.\n"
      ]
    },
    {
      "cell_type": "markdown",
      "metadata": {
        "id": "ET6wKFGP-SOG"
      },
      "source": [
        "---\n",
        "## Setting up\n",
        "Download `en_core_web_trf` spaCy model and install `spatio-textual` package.\n",
        "\n",
        "**_Note:_** *Please wait a while, this may take a minute or 2...* 🕐\n"
      ]
    },
    {
      "cell_type": "code",
      "execution_count": 1,
      "metadata": {
        "id": "FuaB_QNJcoYc",
        "outputId": "4d2d0166-f2f1-46ae-89df-3aad4121a808",
        "colab": {
          "base_uri": "https://localhost:8080/"
        }
      },
      "outputs": [
        {
          "output_type": "stream",
          "name": "stdout",
          "text": [
            "Collecting en-core-web-trf==3.8.0\n",
            "  Downloading https://github.com/explosion/spacy-models/releases/download/en_core_web_trf-3.8.0/en_core_web_trf-3.8.0-py3-none-any.whl (457.4 MB)\n",
            "\u001b[2K     \u001b[90m━━━━━━━━━━━━━━━━━━━━━━━━━━━━━━━━━━━━━━━\u001b[0m \u001b[32m457.4/457.4 MB\u001b[0m \u001b[31m5.3 MB/s\u001b[0m eta \u001b[36m0:00:00\u001b[0m\n",
            "\u001b[?25hCollecting spacy-curated-transformers<1.0.0,>=0.2.2 (from en-core-web-trf==3.8.0)\n",
            "  Downloading spacy_curated_transformers-0.3.1-py2.py3-none-any.whl.metadata (2.7 kB)\n",
            "Collecting curated-transformers<0.2.0,>=0.1.0 (from spacy-curated-transformers<1.0.0,>=0.2.2->en-core-web-trf==3.8.0)\n",
            "  Downloading curated_transformers-0.1.1-py2.py3-none-any.whl.metadata (965 bytes)\n",
            "Collecting curated-tokenizers<0.1.0,>=0.0.9 (from spacy-curated-transformers<1.0.0,>=0.2.2->en-core-web-trf==3.8.0)\n",
            "  Downloading curated_tokenizers-0.0.9-cp312-cp312-manylinux_2_17_x86_64.manylinux2014_x86_64.whl.metadata (1.9 kB)\n",
            "Requirement already satisfied: torch>=1.12.0 in /usr/local/lib/python3.12/dist-packages (from spacy-curated-transformers<1.0.0,>=0.2.2->en-core-web-trf==3.8.0) (2.8.0+cu126)\n",
            "Requirement already satisfied: regex>=2022 in /usr/local/lib/python3.12/dist-packages (from curated-tokenizers<0.1.0,>=0.0.9->spacy-curated-transformers<1.0.0,>=0.2.2->en-core-web-trf==3.8.0) (2024.11.6)\n",
            "Requirement already satisfied: filelock in /usr/local/lib/python3.12/dist-packages (from torch>=1.12.0->spacy-curated-transformers<1.0.0,>=0.2.2->en-core-web-trf==3.8.0) (3.19.1)\n",
            "Requirement already satisfied: typing-extensions>=4.10.0 in /usr/local/lib/python3.12/dist-packages (from torch>=1.12.0->spacy-curated-transformers<1.0.0,>=0.2.2->en-core-web-trf==3.8.0) (4.15.0)\n",
            "Requirement already satisfied: setuptools in /usr/local/lib/python3.12/dist-packages (from torch>=1.12.0->spacy-curated-transformers<1.0.0,>=0.2.2->en-core-web-trf==3.8.0) (75.2.0)\n",
            "Requirement already satisfied: sympy>=1.13.3 in /usr/local/lib/python3.12/dist-packages (from torch>=1.12.0->spacy-curated-transformers<1.0.0,>=0.2.2->en-core-web-trf==3.8.0) (1.13.3)\n",
            "Requirement already satisfied: networkx in /usr/local/lib/python3.12/dist-packages (from torch>=1.12.0->spacy-curated-transformers<1.0.0,>=0.2.2->en-core-web-trf==3.8.0) (3.5)\n",
            "Requirement already satisfied: jinja2 in /usr/local/lib/python3.12/dist-packages (from torch>=1.12.0->spacy-curated-transformers<1.0.0,>=0.2.2->en-core-web-trf==3.8.0) (3.1.6)\n",
            "Requirement already satisfied: fsspec in /usr/local/lib/python3.12/dist-packages (from torch>=1.12.0->spacy-curated-transformers<1.0.0,>=0.2.2->en-core-web-trf==3.8.0) (2025.3.0)\n",
            "Requirement already satisfied: nvidia-cuda-nvrtc-cu12==12.6.77 in /usr/local/lib/python3.12/dist-packages (from torch>=1.12.0->spacy-curated-transformers<1.0.0,>=0.2.2->en-core-web-trf==3.8.0) (12.6.77)\n",
            "Requirement already satisfied: nvidia-cuda-runtime-cu12==12.6.77 in /usr/local/lib/python3.12/dist-packages (from torch>=1.12.0->spacy-curated-transformers<1.0.0,>=0.2.2->en-core-web-trf==3.8.0) (12.6.77)\n",
            "Requirement already satisfied: nvidia-cuda-cupti-cu12==12.6.80 in /usr/local/lib/python3.12/dist-packages (from torch>=1.12.0->spacy-curated-transformers<1.0.0,>=0.2.2->en-core-web-trf==3.8.0) (12.6.80)\n",
            "Requirement already satisfied: nvidia-cudnn-cu12==9.10.2.21 in /usr/local/lib/python3.12/dist-packages (from torch>=1.12.0->spacy-curated-transformers<1.0.0,>=0.2.2->en-core-web-trf==3.8.0) (9.10.2.21)\n",
            "Requirement already satisfied: nvidia-cublas-cu12==12.6.4.1 in /usr/local/lib/python3.12/dist-packages (from torch>=1.12.0->spacy-curated-transformers<1.0.0,>=0.2.2->en-core-web-trf==3.8.0) (12.6.4.1)\n",
            "Requirement already satisfied: nvidia-cufft-cu12==11.3.0.4 in /usr/local/lib/python3.12/dist-packages (from torch>=1.12.0->spacy-curated-transformers<1.0.0,>=0.2.2->en-core-web-trf==3.8.0) (11.3.0.4)\n",
            "Requirement already satisfied: nvidia-curand-cu12==10.3.7.77 in /usr/local/lib/python3.12/dist-packages (from torch>=1.12.0->spacy-curated-transformers<1.0.0,>=0.2.2->en-core-web-trf==3.8.0) (10.3.7.77)\n",
            "Requirement already satisfied: nvidia-cusolver-cu12==11.7.1.2 in /usr/local/lib/python3.12/dist-packages (from torch>=1.12.0->spacy-curated-transformers<1.0.0,>=0.2.2->en-core-web-trf==3.8.0) (11.7.1.2)\n",
            "Requirement already satisfied: nvidia-cusparse-cu12==12.5.4.2 in /usr/local/lib/python3.12/dist-packages (from torch>=1.12.0->spacy-curated-transformers<1.0.0,>=0.2.2->en-core-web-trf==3.8.0) (12.5.4.2)\n",
            "Requirement already satisfied: nvidia-cusparselt-cu12==0.7.1 in /usr/local/lib/python3.12/dist-packages (from torch>=1.12.0->spacy-curated-transformers<1.0.0,>=0.2.2->en-core-web-trf==3.8.0) (0.7.1)\n",
            "Requirement already satisfied: nvidia-nccl-cu12==2.27.3 in /usr/local/lib/python3.12/dist-packages (from torch>=1.12.0->spacy-curated-transformers<1.0.0,>=0.2.2->en-core-web-trf==3.8.0) (2.27.3)\n",
            "Requirement already satisfied: nvidia-nvtx-cu12==12.6.77 in /usr/local/lib/python3.12/dist-packages (from torch>=1.12.0->spacy-curated-transformers<1.0.0,>=0.2.2->en-core-web-trf==3.8.0) (12.6.77)\n",
            "Requirement already satisfied: nvidia-nvjitlink-cu12==12.6.85 in /usr/local/lib/python3.12/dist-packages (from torch>=1.12.0->spacy-curated-transformers<1.0.0,>=0.2.2->en-core-web-trf==3.8.0) (12.6.85)\n",
            "Requirement already satisfied: nvidia-cufile-cu12==1.11.1.6 in /usr/local/lib/python3.12/dist-packages (from torch>=1.12.0->spacy-curated-transformers<1.0.0,>=0.2.2->en-core-web-trf==3.8.0) (1.11.1.6)\n",
            "Requirement already satisfied: triton==3.4.0 in /usr/local/lib/python3.12/dist-packages (from torch>=1.12.0->spacy-curated-transformers<1.0.0,>=0.2.2->en-core-web-trf==3.8.0) (3.4.0)\n",
            "Requirement already satisfied: mpmath<1.4,>=1.1.0 in /usr/local/lib/python3.12/dist-packages (from sympy>=1.13.3->torch>=1.12.0->spacy-curated-transformers<1.0.0,>=0.2.2->en-core-web-trf==3.8.0) (1.3.0)\n",
            "Requirement already satisfied: MarkupSafe>=2.0 in /usr/local/lib/python3.12/dist-packages (from jinja2->torch>=1.12.0->spacy-curated-transformers<1.0.0,>=0.2.2->en-core-web-trf==3.8.0) (3.0.2)\n",
            "Downloading spacy_curated_transformers-0.3.1-py2.py3-none-any.whl (237 kB)\n",
            "\u001b[2K   \u001b[90m━━━━━━━━━━━━━━━━━━━━━━━━━━━━━━━━━━━━━━━━\u001b[0m \u001b[32m237.9/237.9 kB\u001b[0m \u001b[31m7.8 MB/s\u001b[0m eta \u001b[36m0:00:00\u001b[0m\n",
            "\u001b[?25hDownloading curated_tokenizers-0.0.9-cp312-cp312-manylinux_2_17_x86_64.manylinux2014_x86_64.whl (734 kB)\n",
            "\u001b[2K   \u001b[90m━━━━━━━━━━━━━━━━━━━━━━━━━━━━━━━━━━━━━━━━\u001b[0m \u001b[32m734.0/734.0 kB\u001b[0m \u001b[31m40.3 MB/s\u001b[0m eta \u001b[36m0:00:00\u001b[0m\n",
            "\u001b[?25hDownloading curated_transformers-0.1.1-py2.py3-none-any.whl (25 kB)\n",
            "Installing collected packages: curated-tokenizers, curated-transformers, spacy-curated-transformers, en-core-web-trf\n",
            "Successfully installed curated-tokenizers-0.0.9 curated-transformers-0.1.1 en-core-web-trf-3.8.0 spacy-curated-transformers-0.3.1\n",
            "\u001b[38;5;2m✔ Download and installation successful\u001b[0m\n",
            "You can now load the package via spacy.load('en_core_web_trf')\n",
            "\u001b[38;5;3m⚠ Restart to reload dependencies\u001b[0m\n",
            "If you are in a Jupyter or Colab notebook, you may need to restart Python in\n",
            "order to load all the package's dependencies. You can do this by selecting the\n",
            "'Restart kernel' or 'Restart runtime' option.\n",
            "  Installing build dependencies ... \u001b[?25l\u001b[?25hdone\n",
            "  Getting requirements to build wheel ... \u001b[?25l\u001b[?25hdone\n",
            "  Preparing metadata (pyproject.toml) ... \u001b[?25l\u001b[?25hdone\n",
            "\u001b[2K   \u001b[90m━━━━━━━━━━━━━━━━━━━━━━━━━━━━━━━━━━━━━━━━\u001b[0m \u001b[32m26.6/26.6 MB\u001b[0m \u001b[31m94.8 MB/s\u001b[0m eta \u001b[36m0:00:00\u001b[0m\n",
            "\u001b[?25h  Building wheel for spatio-textual (pyproject.toml) ... \u001b[?25l\u001b[?25hdone\n"
          ]
        }
      ],
      "source": [
        "!python -m spacy download en_core_web_trf\n",
        "!pip install -q git+https://github.com/SpaceTimeNarratives/spatio-textual.git"
      ]
    },
    {
      "cell_type": "markdown",
      "metadata": {
        "id": "Kt1OnOCpD13Q"
      },
      "source": [
        "---\n",
        "## Importing the `spatio-textual` package\n",
        "Having successfully downloaded the spaCy model and installed the `spatio-textual` package, it can now be imported and used in a Python environment to process text.\n",
        "\n",
        "*Again, this may take about a minute too...*"
      ]
    },
    {
      "cell_type": "code",
      "execution_count": 2,
      "metadata": {
        "id": "1PJGz3edrWZR"
      },
      "outputs": [],
      "source": [
        "import spatio_textual"
      ]
    },
    {
      "cell_type": "markdown",
      "metadata": {
        "id": "x2PfuuwaJcFB"
      },
      "source": [
        "The `spatio-textual` package has the `annotate` module with functions `annotate_text`, `annotate_texts`, `chunk_and_annotate_text`, `chunk_and_annotate_file` which identifies and labels spatial entities in text inputs of different formats.\n",
        "\n",
        "So we can import the functions directly as below"
      ]
    },
    {
      "cell_type": "code",
      "execution_count": 3,
      "metadata": {
        "id": "5zd_SQRQ8fSo"
      },
      "outputs": [],
      "source": [
        "from spatio_textual.annotate import (\n",
        "    annotate_text,            # annotates a single text\n",
        "    annotate_texts,           # annotates a collection of texts\n",
        "    chunk_and_annotate_text,  # chunks and annotates a text\n",
        "    chunk_and_annotate_file,  # chunks and annotates a file\n",
        "    annotate_files,           # annotates a collection of files\n",
        ")"
      ]
    },
    {
      "cell_type": "markdown",
      "metadata": {
        "id": "6FukHpG-ELxT"
      },
      "source": [
        "Also, we can manage the saving and loading of annotations using the package `utils` functions `save_annotations(...)` and `load_annotations(...)` respectively"
      ]
    },
    {
      "cell_type": "code",
      "execution_count": 4,
      "metadata": {
        "id": "S-aclXjeA6lF"
      },
      "outputs": [],
      "source": [
        "from spatio_textual.utils import save_annotations, load_annotations"
      ]
    },
    {
      "cell_type": "markdown",
      "metadata": {
        "id": "COQgoH2iLOpz"
      },
      "source": [
        "---\n",
        "## Annotating spatial entities"
      ]
    },
    {
      "cell_type": "markdown",
      "metadata": {
        "id": "ErwJyCwoOn9A"
      },
      "source": [
        "Beyond the typical labels for the named entity recognition task [`PERSON`, `ORG`, `LOC`, `DATE`], we have defined a set of entity labels that are relevant for our work as shown below:\n",
        "\n",
        "| Tag          | Description                                                  |\n",
        "| ------------ | ------------------------------------------------------------ |\n",
        "| `PERSON`     | A named person                                               |\n",
        "| `CONTINENT`  | A continent name (e.g. “Europe”, “Asia”)                     |\n",
        "| `COUNTRY`    | A country name (e.g. “Germany”, “Czechoslovakia”)            |\n",
        "| `US-STATE`   | A U.S. state name (e.g. “California”, “New York”)            |\n",
        "| `CITY`       | A city name (e.g. “Berlin”, “London”,  when classified)     |\n",
        "| `CAMP`       | A Holocaust-camp name e.g. “Auschwitz” (from your custom list)                |\n",
        "| `PLACE`      | Other place-type entities not matched above                  |\n",
        "| `GEONOUN`    | Generic geographic nouns (e.g. “valley”, “moor”)             |\n",
        "| `NON-VERBAL` | Terms like [PAUSES], [LAUGHS] in non-verbal list |\n",
        "| `FAMILY`     | Kinship terms (e.g. “mother”, “uncle”)                       |\n",
        "| `DATE`       | Temporal expressions (e.g. “March 9, 1996”)                  |\n",
        "| `TIME`       | Time-of-day expressions (e.g. “3 PM”)                        |\n",
        "| `EVENT`      | Named events (e.g. “D-Day”)                                  |\n",
        "| `QUANTITY`   | Numeric/measure expressions (e.g. “100 miles”)               |\n",
        "\n",
        "We will demonstrate how to use the `annotate` module functions to label spatial entities in text in the next cells."
      ]
    },
    {
      "cell_type": "markdown",
      "metadata": {
        "id": "ApoODrTs87P8"
      },
      "source": [
        "## Annotating text: `annotate_text(...)`"
      ]
    },
    {
      "cell_type": "code",
      "execution_count": 13,
      "metadata": {
        "id": "NxjAfBllvcoT",
        "outputId": "082e2696-a358-49a2-ab6a-2aa41135f0fb",
        "colab": {
          "base_uri": "https://localhost:8080/",
          "height": 53
        }
      },
      "outputs": [
        {
          "output_type": "display_data",
          "data": {
            "text/plain": [
              "'During the summer of 1942, my family and I were deported from our home in Krakow to the Plaszow labor camp. We spent several difficult months there before being transferred to Auschwitz-Birkenau.'"
            ],
            "application/vnd.google.colaboratory.intrinsic+json": {
              "type": "string"
            }
          },
          "metadata": {}
        }
      ],
      "source": [
        "#@title ###### Let's download and display the text in the `short-text` file...\n",
        "!wget -c -q \"https://raw.githubusercontent.com/SpaceTimeNarratives/spatio-textual/refs/heads/main/example-texts/short-text\"\n",
        "text = open(\"short-text\", 'r').read()\n",
        "display(text)"
      ]
    },
    {
      "cell_type": "code",
      "execution_count": 14,
      "metadata": {
        "id": "PK-CFbiTsUx6",
        "outputId": "cadcdb14-9c13-43c0-9e13-67c43bf6d76a",
        "colab": {
          "base_uri": "https://localhost:8080/"
        }
      },
      "outputs": [
        {
          "output_type": "execute_result",
          "data": {
            "text/plain": [
              "{'entities': [{'start_char': 7, 'token': 'the summer of 1942', 'tag': 'DATE'},\n",
              "  {'start_char': 74, 'token': 'Krakow', 'tag': 'PLACE'},\n",
              "  {'start_char': 88, 'token': 'Plaszow', 'tag': 'PLACE'},\n",
              "  {'start_char': 96, 'token': 'labor camp', 'tag': 'GEONOUN'},\n",
              "  {'start_char': 117, 'token': 'several difficult months', 'tag': 'DATE'},\n",
              "  {'start_char': 176, 'token': 'Auschwitz-Birkenau', 'tag': 'CAMP'}],\n",
              " 'verb_data': []}"
            ]
          },
          "metadata": {},
          "execution_count": 14
        }
      ],
      "source": [
        "#@title ###### ...we can then identify the entities with the `annotate_text(...)` function.\n",
        "result = annotate_text(text)\n",
        "result"
      ]
    },
    {
      "cell_type": "markdown",
      "metadata": {
        "id": "-4ZXu8eS4ZY4"
      },
      "source": [
        "We can see tokens identified as places (`PLACE`), geonouns (`GEONOUN`), camps (`CAMP`) etc.\n",
        "\n",
        "Observe, however, that the `verb_data` value is empty. The `verb_data` is meant to capture the 'actions' performed by actors in the text for further analysis.\n",
        "\n",
        "To fix this, we can set the optional parameter `include-verbs` to `True` in the function call."
      ]
    },
    {
      "cell_type": "code",
      "execution_count": 7,
      "metadata": {
        "id": "CS4v-HoKWrC0",
        "outputId": "dfb303b7-26c8-4971-97bf-ec6be73cfdbd",
        "colab": {
          "base_uri": "https://localhost:8080/",
          "height": 451
        }
      },
      "outputs": [
        {
          "output_type": "stream",
          "name": "stdout",
          "text": [
            "Entities:\n"
          ]
        },
        {
          "output_type": "display_data",
          "data": {
            "text/plain": [
              "[{'start_char': 7, 'token': 'the summer of 1942', 'tag': 'DATE'},\n",
              " {'start_char': 74, 'token': 'Krakow', 'tag': 'PLACE'},\n",
              " {'start_char': 88, 'token': 'Plaszow', 'tag': 'PLACE'},\n",
              " {'start_char': 96, 'token': 'labor camp', 'tag': 'GEONOUN'},\n",
              " {'start_char': 117, 'token': 'several difficult months', 'tag': 'DATE'},\n",
              " {'start_char': 176, 'token': 'Auschwitz-Birkenau', 'tag': 'CAMP'}]"
            ]
          },
          "metadata": {}
        },
        {
          "output_type": "stream",
          "name": "stdout",
          "text": [
            "\n",
            "Verb Data:\n"
          ]
        },
        {
          "output_type": "display_data",
          "data": {
            "text/plain": [
              "[{'sent-id': 0,\n",
              "  'verb': 'deported',\n",
              "  'subject': 'family',\n",
              "  'object': 'the summer of 1942',\n",
              "  'sentence': 'During the summer of 1942, my family and I were deported from our home in Krakow to the Plaszow labor camp.'},\n",
              " {'sent-id': 1,\n",
              "  'verb': 'spent',\n",
              "  'subject': 'We',\n",
              "  'object': 'several difficult months',\n",
              "  'sentence': '\\nWe spent several difficult months there before being transferred to Auschwitz-Birkenau.\"'},\n",
              " {'sent-id': 1,\n",
              "  'verb': 'transferred',\n",
              "  'subject': '',\n",
              "  'object': 'Auschwitz-Birkenau',\n",
              "  'sentence': '\\nWe spent several difficult months there before being transferred to Auschwitz-Birkenau.\"'}]"
            ]
          },
          "metadata": {}
        }
      ],
      "source": [
        "#@title ###### So let's modify the function calls to extract `verb_data`\n",
        "result = annotate_text(text, include_verbs=True)\n",
        "\n",
        "print(\"Entities:\")\n",
        "display(result['entities'])\n",
        "\n",
        "print(\"\\nVerb Data:\")\n",
        "display(result['verb_data'])"
      ]
    },
    {
      "cell_type": "markdown",
      "metadata": {
        "id": "v-NkvcFLE8H2"
      },
      "source": [
        "## Annotating a list of texts"
      ]
    },
    {
      "cell_type": "markdown",
      "metadata": {
        "id": "WaGV2fSNBd7b"
      },
      "source": [
        "If we have a collection of texts (instead of just one piece of text), we can use the `annotate_texts(...)` instead."
      ]
    },
    {
      "cell_type": "code",
      "execution_count": 15,
      "metadata": {
        "id": "3_pMriYiCTgx",
        "outputId": "88421146-d5df-4177-8ea3-e4e8475584cf",
        "colab": {
          "base_uri": "https://localhost:8080/",
          "height": 781
        }
      },
      "outputs": [
        {
          "output_type": "stream",
          "name": "stdout",
          "text": [
            "\n",
            "Entities:\n"
          ]
        },
        {
          "output_type": "display_data",
          "data": {
            "text/plain": [
              "[{'start_char': 47, 'token': 'Krakow', 'tag': 'PLACE'},\n",
              " {'start_char': 61, 'token': 'Plaszow', 'tag': 'PLACE'},\n",
              " {'start_char': 69, 'token': 'labor camp', 'tag': 'GEONOUN'}]"
            ]
          },
          "metadata": {}
        },
        {
          "output_type": "stream",
          "name": "stdout",
          "text": [
            "\n",
            "Verb Data:\n"
          ]
        },
        {
          "output_type": "display_data",
          "data": {
            "text/plain": [
              "[{'sent-id': 0,\n",
              "  'verb': 'deported',\n",
              "  'subject': 'family',\n",
              "  'object': 'home',\n",
              "  'sentence': 'My family and I were deported from our home in Krakow to the Plaszow labor camp.'}]"
            ]
          },
          "metadata": {}
        },
        {
          "output_type": "stream",
          "name": "stdout",
          "text": [
            "\n",
            "Entities:\n"
          ]
        },
        {
          "output_type": "display_data",
          "data": {
            "text/plain": [
              "[{'start_char': 9, 'token': 'several difficult months', 'tag': 'DATE'},\n",
              " {'start_char': 68, 'token': 'Maribor', 'tag': 'CITY'}]"
            ]
          },
          "metadata": {}
        },
        {
          "output_type": "stream",
          "name": "stdout",
          "text": [
            "\n",
            "Verb Data:\n"
          ]
        },
        {
          "output_type": "display_data",
          "data": {
            "text/plain": [
              "[{'sent-id': 0,\n",
              "  'verb': 'spent',\n",
              "  'subject': 'We',\n",
              "  'object': 'several difficult months',\n",
              "  'sentence': 'We spent several difficult months there before being transferred to Maribor.'},\n",
              " {'sent-id': 0,\n",
              "  'verb': 'transferred',\n",
              "  'subject': '',\n",
              "  'object': 'Maribor',\n",
              "  'sentence': 'We spent several difficult months there before being transferred to Maribor.'}]"
            ]
          },
          "metadata": {}
        },
        {
          "output_type": "stream",
          "name": "stdout",
          "text": [
            "\n",
            "Entities:\n"
          ]
        },
        {
          "output_type": "display_data",
          "data": {
            "text/plain": [
              "[{'start_char': 59, 'token': 'watchtowers', 'tag': 'GEONOUN'}]"
            ]
          },
          "metadata": {}
        },
        {
          "output_type": "stream",
          "name": "stdout",
          "text": [
            "\n",
            "Verb Data:\n"
          ]
        },
        {
          "output_type": "display_data",
          "data": {
            "text/plain": [
              "[{'sent-id': 0,\n",
              "  'verb': 'arrived',\n",
              "  'subject': 'we',\n",
              "  'object': 'place',\n",
              "  'sentence': 'Finally, we arrived at a place with barbed wire fences and watchtowers.'}]"
            ]
          },
          "metadata": {}
        },
        {
          "output_type": "stream",
          "name": "stdout",
          "text": [
            "\n",
            "Entities:\n"
          ]
        },
        {
          "output_type": "display_data",
          "data": {
            "text/plain": [
              "[{'start_char': 7, 'token': 'Auschwitz', 'tag': 'CAMP'}]"
            ]
          },
          "metadata": {}
        },
        {
          "output_type": "stream",
          "name": "stdout",
          "text": [
            "\n",
            "Verb Data:\n"
          ]
        },
        {
          "output_type": "display_data",
          "data": {
            "text/plain": [
              "[]"
            ]
          },
          "metadata": {}
        }
      ],
      "source": [
        "list_of_texts = [\n",
        "    \"My family and I were deported from our home in Krakow to the Plaszow labor camp.\",\n",
        "    \"We spent several difficult months there before being transferred to Maribor.\",\n",
        "    \"Finally, we arrived at a place with barbed wire fences and watchtowers.\",\n",
        "    \"It was Auschwitz.\"\n",
        "]\n",
        "\n",
        "results = annotate_texts(list_of_texts, include_verbs=True)\n",
        "for result in results:\n",
        "    print(\"\\nEntities:\")\n",
        "    display(result['entities'])\n",
        "\n",
        "    print(\"\\nVerb Data:\")\n",
        "    display(result['verb_data'])"
      ]
    },
    {
      "cell_type": "markdown",
      "metadata": {
        "id": "OzoBuJOKjsiB"
      },
      "source": [
        "## Annotating text segments"
      ]
    },
    {
      "cell_type": "markdown",
      "metadata": {
        "id": "obElrU2hj53B"
      },
      "source": [
        "Sometimes, we may need to split a text into segments (or chunks) before annotating them. This is similar to annotating a list of texts only that it includes the segmentation feature.\n",
        "\n",
        "This can be achieved by using `chunk_and_annotate_text(...)` on a text string or using `chunk_and_annotate_file(...)` on a text file. In both cases a key parameter to set is the `n_segments` which specifies the number of segments."
      ]
    },
    {
      "cell_type": "markdown",
      "metadata": {
        "id": "kdUT5Q4Nv4EZ"
      },
      "source": [
        "#### Using `chunk_and_annotate_text(...)`"
      ]
    },
    {
      "cell_type": "code",
      "execution_count": 16,
      "metadata": {
        "id": "pA_j2RQ0jrzx",
        "outputId": "0b65c201-132f-414f-aaf8-a34fa77c8a10",
        "colab": {
          "base_uri": "https://localhost:8080/",
          "height": 174
        }
      },
      "outputs": [
        {
          "output_type": "display_data",
          "data": {
            "text/plain": [
              "\"It was the spring of 1943 when they came for us. We were living in a small village near Krakow. The soldiers arrived early in the morning, shouting. They rounded everyone up and forced us onto crowded trains. The journey was terrible, days and nights without food or water. We didn't know where we were going, but the fear was palpable.\\n\\nFinally, we arrived at a place with barbed wire fences and watchtowers. It was Auschwitz. The separation was immediate. Men to one side, women and children to the other. I never saw my father again. My mother and I were sent to the women's camp. The conditions were horrific. Overcrowding, starvation, disease. We were forced to do hard labor, building roads and clearing rubble.\\n\\nOne day, my mother became very ill. I tried to care for her, but there was nothing I could do. She died a few weeks later. I was alone. The days blurred into weeks, weeks into months. The constant threat of death was always present. Selections were frequent, and those deemed too weak to work were sent to the gas chambers. I don't know how I survived. Maybe it was luck, maybe it was sheer will. The memories are still vivid, even after all these years. The hunger, the cold, the constant fear, the loss of everything I ever knew. It's a burden I carry every day.\\n\""
            ],
            "application/vnd.google.colaboratory.intrinsic+json": {
              "type": "string"
            }
          },
          "metadata": {}
        }
      ],
      "source": [
        "#@title ##### To demonstrate this let's download, read and display the text file `long-text`...\n",
        "!wget -c -q \"https://raw.githubusercontent.com/SpaceTimeNarratives/spatio-textual/refs/heads/main/example-texts/long-text\"\n",
        "text = open(\"long-text\", 'r').read()\n",
        "display(text)"
      ]
    },
    {
      "cell_type": "code",
      "execution_count": 17,
      "metadata": {
        "id": "P4jygm2Gl4Y8",
        "outputId": "e4c63d81-9a9c-4ccf-d2ad-c83df7b0f356",
        "colab": {
          "base_uri": "https://localhost:8080/"
        }
      },
      "outputs": [
        {
          "output_type": "execute_result",
          "data": {
            "text/plain": [
              "[{'entities': [{'start_char': 11, 'token': 'spring', 'tag': 'GEONOUN'},\n",
              "   {'start_char': 75, 'token': 'village', 'tag': 'GEONOUN'},\n",
              "   {'start_char': 88, 'token': 'Krakow', 'tag': 'PLACE'},\n",
              "   {'start_char': 117, 'token': 'early in the morning', 'tag': 'TIME'},\n",
              "   {'start_char': 235, 'token': 'days', 'tag': 'DATE'},\n",
              "   {'start_char': 244, 'token': 'nights', 'tag': 'DATE'}],\n",
              "  'verb_data': [],\n",
              "  'segId': 1,\n",
              "  'text': \"It was the spring of 1943 when they came for us. We were living in a small village near Krakow. The soldiers arrived early in the morning, shouting. They rounded everyone up and forced us onto crowded trains. The journey was terrible, days and nights without food or water. We didn't know where we were going, but the fear was palpable.\"},\n",
              " {'entities': [{'start_char': 59, 'token': 'watchtowers', 'tag': 'GEONOUN'},\n",
              "   {'start_char': 79, 'token': 'Auschwitz', 'tag': 'CAMP'},\n",
              "   {'start_char': 147, 'token': 'children', 'tag': 'FAMILY'},\n",
              "   {'start_char': 185, 'token': 'father', 'tag': 'FAMILY'},\n",
              "   {'start_char': 202, 'token': 'mother', 'tag': 'FAMILY'},\n",
              "   {'start_char': 240, 'token': 'camp', 'tag': 'GEONOUN'}],\n",
              "  'verb_data': [],\n",
              "  'segId': 2,\n",
              "  'text': \"Finally, we arrived at a place with barbed wire fences and watchtowers. It was Auschwitz. The separation was immediate. Men to one side, women and children to the other. I never saw my father again. My mother and I were sent to the women's camp.\"},\n",
              " {'entities': [{'start_char': 98, 'token': 'building', 'tag': 'GEONOUN'},\n",
              "   {'start_char': 146, 'token': 'mother', 'tag': 'FAMILY'}],\n",
              "  'verb_data': [],\n",
              "  'segId': 3,\n",
              "  'text': 'The conditions were horrific. Overcrowding, starvation, disease. We were forced to do hard labor, building roads and clearing rubble. One day, my mother became very ill. I tried to care for her, but there was nothing I could do.'},\n",
              " {'entities': [{'start_char': 9, 'token': 'a few weeks later', 'tag': 'DATE'},\n",
              "   {'start_char': 41, 'token': 'The days', 'tag': 'DATE'},\n",
              "   {'start_char': 63, 'token': 'weeks', 'tag': 'DATE'},\n",
              "   {'start_char': 70, 'token': 'weeks', 'tag': 'DATE'},\n",
              "   {'start_char': 81, 'token': 'months', 'tag': 'DATE'}],\n",
              "  'verb_data': [],\n",
              "  'segId': 4,\n",
              "  'text': 'She died a few weeks later. I was alone. The days blurred into weeks, weeks into months. The constant threat of death was always present. Selections were frequent, and those deemed too weak to work were sent to the gas chambers.'},\n",
              " {'entities': [{'start_char': 124, 'token': 'years', 'tag': 'DATE'},\n",
              "   {'start_char': 230, 'token': 'every day', 'tag': 'DATE'}],\n",
              "  'verb_data': [],\n",
              "  'segId': 5,\n",
              "  'text': \"I don't know how I survived. Maybe it was luck, maybe it was sheer will. The memories are still vivid, even after all these years. The hunger, the cold, the constant fear, the loss of everything I ever knew. It's a burden I carry every day.\"}]"
            ]
          },
          "metadata": {},
          "execution_count": 17
        }
      ],
      "source": [
        "#@title ##### ... then let's segment and annotate it with `chunk_and_annotate_text(...)`\n",
        "result = chunk_and_annotate_text(text, n_segments=5, include_text=True)\n",
        "result"
      ]
    },
    {
      "cell_type": "markdown",
      "metadata": {
        "id": "T7PtumbGwJW9"
      },
      "source": [
        "#### Using `chunk_and_annotate_file(...)`"
      ]
    },
    {
      "cell_type": "markdown",
      "source": [
        "With the `chunk_and_annotate_file(...)` function, you can actually pass a text file (instead of a text string as with `chunk_and_annotate_text(...)`) for annotation."
      ],
      "metadata": {
        "id": "l_BVCHcxWE0Q"
      }
    },
    {
      "cell_type": "markdown",
      "metadata": {
        "id": "iY0BiQkrcRVb"
      },
      "source": [
        ">**NOTE:** You can also upload your file using the file icon in the left sidebar. Then, replace the example text `long-text` with the name of your uploaded file."
      ]
    },
    {
      "cell_type": "code",
      "execution_count": 11,
      "metadata": {
        "id": "NzmT58ASwKP8",
        "outputId": "d81bf544-3a1a-4e97-8a4b-321c01036fed",
        "colab": {
          "base_uri": "https://localhost:8080/"
        }
      },
      "outputs": [
        {
          "output_type": "execute_result",
          "data": {
            "text/plain": [
              "[{'entities': [{'start_char': 11, 'token': 'spring', 'tag': 'GEONOUN'},\n",
              "   {'start_char': 75, 'token': 'village', 'tag': 'GEONOUN'},\n",
              "   {'start_char': 88, 'token': 'Krakow', 'tag': 'PLACE'},\n",
              "   {'start_char': 117, 'token': 'early in the morning', 'tag': 'TIME'},\n",
              "   {'start_char': 235, 'token': 'days', 'tag': 'DATE'},\n",
              "   {'start_char': 244, 'token': 'nights', 'tag': 'DATE'}],\n",
              "  'verb_data': [],\n",
              "  'file': 'long-text',\n",
              "  'fileId': 'long-text',\n",
              "  'segId': 1,\n",
              "  'segCount': 5},\n",
              " {'entities': [{'start_char': 59, 'token': 'watchtowers', 'tag': 'GEONOUN'},\n",
              "   {'start_char': 79, 'token': 'Auschwitz', 'tag': 'CAMP'},\n",
              "   {'start_char': 147, 'token': 'children', 'tag': 'FAMILY'},\n",
              "   {'start_char': 185, 'token': 'father', 'tag': 'FAMILY'},\n",
              "   {'start_char': 202, 'token': 'mother', 'tag': 'FAMILY'},\n",
              "   {'start_char': 240, 'token': 'camp', 'tag': 'GEONOUN'}],\n",
              "  'verb_data': [],\n",
              "  'file': 'long-text',\n",
              "  'fileId': 'long-text',\n",
              "  'segId': 2,\n",
              "  'segCount': 5},\n",
              " {'entities': [{'start_char': 98, 'token': 'building', 'tag': 'GEONOUN'},\n",
              "   {'start_char': 146, 'token': 'mother', 'tag': 'FAMILY'}],\n",
              "  'verb_data': [],\n",
              "  'file': 'long-text',\n",
              "  'fileId': 'long-text',\n",
              "  'segId': 3,\n",
              "  'segCount': 5},\n",
              " {'entities': [{'start_char': 9, 'token': 'a few weeks later', 'tag': 'DATE'},\n",
              "   {'start_char': 41, 'token': 'The days', 'tag': 'DATE'},\n",
              "   {'start_char': 63, 'token': 'weeks', 'tag': 'DATE'},\n",
              "   {'start_char': 70, 'token': 'weeks', 'tag': 'DATE'},\n",
              "   {'start_char': 81, 'token': 'months', 'tag': 'DATE'}],\n",
              "  'verb_data': [],\n",
              "  'file': 'long-text',\n",
              "  'fileId': 'long-text',\n",
              "  'segId': 4,\n",
              "  'segCount': 5},\n",
              " {'entities': [{'start_char': 124, 'token': 'years', 'tag': 'DATE'},\n",
              "   {'start_char': 230, 'token': 'every day', 'tag': 'DATE'}],\n",
              "  'verb_data': [],\n",
              "  'file': 'long-text',\n",
              "  'fileId': 'long-text',\n",
              "  'segId': 5,\n",
              "  'segCount': 5}]"
            ]
          },
          "metadata": {},
          "execution_count": 11
        }
      ],
      "source": [
        "#@title ##### ... Let's segment and annotate a file `chunk_and_annotate_file(...)`\n",
        "result = chunk_and_annotate_file('long-text', n_segments=5)\n",
        "result"
      ]
    },
    {
      "cell_type": "markdown",
      "metadata": {
        "id": "ZRduMzA98pBR"
      },
      "source": [
        "## Annotating files"
      ]
    },
    {
      "cell_type": "markdown",
      "metadata": {
        "id": "456eaef0"
      },
      "source": [
        "We can also pass a file or a collection of files in a folder as an input to annotate,"
      ]
    },
    {
      "cell_type": "code",
      "execution_count": 12,
      "metadata": {
        "id": "v64g-VB0zzdE",
        "outputId": "ed99cd8b-d8a3-4151-b592-440e45a7e008",
        "colab": {
          "base_uri": "https://localhost:8080/"
        }
      },
      "outputs": [
        {
          "output_type": "execute_result",
          "data": {
            "text/plain": [
              "[{'entities': [{'start_char': 11, 'token': 'spring', 'tag': 'GEONOUN'},\n",
              "   {'start_char': 75, 'token': 'village', 'tag': 'GEONOUN'},\n",
              "   {'start_char': 88, 'token': 'Krakow', 'tag': 'PLACE'},\n",
              "   {'start_char': 117, 'token': 'early in the morning', 'tag': 'TIME'},\n",
              "   {'start_char': 235, 'token': 'days', 'tag': 'DATE'},\n",
              "   {'start_char': 244, 'token': 'nights', 'tag': 'DATE'}],\n",
              "  'verb_data': [{'sent-id': 0,\n",
              "    'verb': 'came',\n",
              "    'subject': 'they',\n",
              "    'object': 'us',\n",
              "    'sentence': 'It was the spring of 1943 when they came for us.'},\n",
              "   {'sent-id': 1,\n",
              "    'verb': 'living',\n",
              "    'subject': 'We',\n",
              "    'object': 'village',\n",
              "    'sentence': 'We were living in a small village near Krakow.'},\n",
              "   {'sent-id': 2,\n",
              "    'verb': 'arrived',\n",
              "    'subject': 'soldiers',\n",
              "    'object': '',\n",
              "    'sentence': 'The soldiers arrived early in the morning, shouting.'},\n",
              "   {'sent-id': 2,\n",
              "    'verb': 'shouting',\n",
              "    'subject': '',\n",
              "    'object': '',\n",
              "    'sentence': 'The soldiers arrived early in the morning, shouting.'},\n",
              "   {'sent-id': 3,\n",
              "    'verb': 'rounded',\n",
              "    'subject': 'They',\n",
              "    'object': 'everyone',\n",
              "    'sentence': 'They rounded everyone up and forced us onto crowded trains.'},\n",
              "   {'sent-id': 3,\n",
              "    'verb': 'forced',\n",
              "    'subject': '',\n",
              "    'object': 'us',\n",
              "    'sentence': 'They rounded everyone up and forced us onto crowded trains.'},\n",
              "   {'sent-id': 5,\n",
              "    'verb': 'know',\n",
              "    'subject': 'We',\n",
              "    'object': '',\n",
              "    'sentence': \"We didn't know where we were going, but the fear was palpable.\"},\n",
              "   {'sent-id': 5,\n",
              "    'verb': 'going',\n",
              "    'subject': 'we',\n",
              "    'object': '',\n",
              "    'sentence': \"We didn't know where we were going, but the fear was palpable.\"}],\n",
              "  'file': 'long-text',\n",
              "  'fileId': 'long-text',\n",
              "  'segId': 1,\n",
              "  'segCount': 5,\n",
              "  'text': \"It was the spring of 1943 when they came for us. We were living in a small village near Krakow. The soldiers arrived early in the morning, shouting. They rounded everyone up and forced us onto crowded trains. The journey was terrible, days and nights without food or water. We didn't know where we were going, but the fear was palpable.\"},\n",
              " {'entities': [{'start_char': 59, 'token': 'watchtowers', 'tag': 'GEONOUN'},\n",
              "   {'start_char': 79, 'token': 'Auschwitz', 'tag': 'CAMP'},\n",
              "   {'start_char': 147, 'token': 'children', 'tag': 'FAMILY'},\n",
              "   {'start_char': 185, 'token': 'father', 'tag': 'FAMILY'},\n",
              "   {'start_char': 202, 'token': 'mother', 'tag': 'FAMILY'},\n",
              "   {'start_char': 240, 'token': 'camp', 'tag': 'GEONOUN'}],\n",
              "  'verb_data': [{'sent-id': 0,\n",
              "    'verb': 'arrived',\n",
              "    'subject': 'we',\n",
              "    'object': 'place',\n",
              "    'sentence': 'Finally, we arrived at a place with barbed wire fences and watchtowers.'},\n",
              "   {'sent-id': 4,\n",
              "    'verb': 'saw',\n",
              "    'subject': 'I',\n",
              "    'object': 'father',\n",
              "    'sentence': 'I never saw my father again.'},\n",
              "   {'sent-id': 5,\n",
              "    'verb': 'sent',\n",
              "    'subject': 'mother',\n",
              "    'object': 'camp',\n",
              "    'sentence': \"My mother and I were sent to the women's camp.\"}],\n",
              "  'file': 'long-text',\n",
              "  'fileId': 'long-text',\n",
              "  'segId': 2,\n",
              "  'segCount': 5,\n",
              "  'text': \"Finally, we arrived at a place with barbed wire fences and watchtowers. It was Auschwitz. The separation was immediate. Men to one side, women and children to the other. I never saw my father again. My mother and I were sent to the women's camp.\"},\n",
              " {'entities': [{'start_char': 98, 'token': 'building', 'tag': 'GEONOUN'},\n",
              "   {'start_char': 146, 'token': 'mother', 'tag': 'FAMILY'}],\n",
              "  'verb_data': [{'sent-id': 2,\n",
              "    'verb': 'forced',\n",
              "    'subject': 'We',\n",
              "    'object': '',\n",
              "    'sentence': 'We were forced to do hard labor, building roads and clearing rubble.'},\n",
              "   {'sent-id': 2,\n",
              "    'verb': 'do',\n",
              "    'subject': '',\n",
              "    'object': 'labor',\n",
              "    'sentence': 'We were forced to do hard labor, building roads and clearing rubble.'},\n",
              "   {'sent-id': 2,\n",
              "    'verb': 'building',\n",
              "    'subject': '',\n",
              "    'object': 'roads',\n",
              "    'sentence': 'We were forced to do hard labor, building roads and clearing rubble.'},\n",
              "   {'sent-id': 2,\n",
              "    'verb': 'clearing',\n",
              "    'subject': '',\n",
              "    'object': 'rubble',\n",
              "    'sentence': 'We were forced to do hard labor, building roads and clearing rubble.'},\n",
              "   {'sent-id': 3,\n",
              "    'verb': 'became',\n",
              "    'subject': 'mother',\n",
              "    'object': '',\n",
              "    'sentence': 'One day, my mother became very ill.'},\n",
              "   {'sent-id': 4,\n",
              "    'verb': 'tried',\n",
              "    'subject': 'I',\n",
              "    'object': '',\n",
              "    'sentence': 'I tried to care for her, but there was nothing I could do.'},\n",
              "   {'sent-id': 4,\n",
              "    'verb': 'care',\n",
              "    'subject': '',\n",
              "    'object': 'her',\n",
              "    'sentence': 'I tried to care for her, but there was nothing I could do.'},\n",
              "   {'sent-id': 4,\n",
              "    'verb': 'was',\n",
              "    'subject': '',\n",
              "    'object': '',\n",
              "    'sentence': 'I tried to care for her, but there was nothing I could do.'},\n",
              "   {'sent-id': 4,\n",
              "    'verb': 'do',\n",
              "    'subject': 'I',\n",
              "    'object': '',\n",
              "    'sentence': 'I tried to care for her, but there was nothing I could do.'}],\n",
              "  'file': 'long-text',\n",
              "  'fileId': 'long-text',\n",
              "  'segId': 3,\n",
              "  'segCount': 5,\n",
              "  'text': 'The conditions were horrific. Overcrowding, starvation, disease. We were forced to do hard labor, building roads and clearing rubble. One day, my mother became very ill. I tried to care for her, but there was nothing I could do.'},\n",
              " {'entities': [{'start_char': 9, 'token': 'a few weeks later', 'tag': 'DATE'},\n",
              "   {'start_char': 41, 'token': 'The days', 'tag': 'DATE'},\n",
              "   {'start_char': 63, 'token': 'weeks', 'tag': 'DATE'},\n",
              "   {'start_char': 70, 'token': 'weeks', 'tag': 'DATE'},\n",
              "   {'start_char': 81, 'token': 'months', 'tag': 'DATE'}],\n",
              "  'verb_data': [{'sent-id': 0,\n",
              "    'verb': 'died',\n",
              "    'subject': 'She',\n",
              "    'object': '',\n",
              "    'sentence': 'She died a few weeks later.'},\n",
              "   {'sent-id': 2,\n",
              "    'verb': 'blurred',\n",
              "    'subject': 'The days',\n",
              "    'object': 'weeks',\n",
              "    'sentence': 'The days blurred into weeks, weeks into months.'},\n",
              "   {'sent-id': 4,\n",
              "    'verb': 'deemed',\n",
              "    'subject': '',\n",
              "    'object': '',\n",
              "    'sentence': 'Selections were frequent, and those deemed too weak to work were sent to the gas chambers.'},\n",
              "   {'sent-id': 4,\n",
              "    'verb': 'work',\n",
              "    'subject': '',\n",
              "    'object': '',\n",
              "    'sentence': 'Selections were frequent, and those deemed too weak to work were sent to the gas chambers.'},\n",
              "   {'sent-id': 4,\n",
              "    'verb': 'sent',\n",
              "    'subject': 'those',\n",
              "    'object': 'chambers',\n",
              "    'sentence': 'Selections were frequent, and those deemed too weak to work were sent to the gas chambers.'}],\n",
              "  'file': 'long-text',\n",
              "  'fileId': 'long-text',\n",
              "  'segId': 4,\n",
              "  'segCount': 5,\n",
              "  'text': 'She died a few weeks later. I was alone. The days blurred into weeks, weeks into months. The constant threat of death was always present. Selections were frequent, and those deemed too weak to work were sent to the gas chambers.'},\n",
              " {'entities': [{'start_char': 124, 'token': 'years', 'tag': 'DATE'},\n",
              "   {'start_char': 230, 'token': 'every day', 'tag': 'DATE'}],\n",
              "  'verb_data': [{'sent-id': 0,\n",
              "    'verb': 'know',\n",
              "    'subject': 'I',\n",
              "    'object': '',\n",
              "    'sentence': \"I don't know how I survived.\"},\n",
              "   {'sent-id': 0,\n",
              "    'verb': 'survived',\n",
              "    'subject': 'I',\n",
              "    'object': '',\n",
              "    'sentence': \"I don't know how I survived.\"},\n",
              "   {'sent-id': 3,\n",
              "    'verb': 'knew',\n",
              "    'subject': 'I',\n",
              "    'object': '',\n",
              "    'sentence': 'The hunger, the cold, the constant fear, the loss of everything I ever knew.'},\n",
              "   {'sent-id': 4,\n",
              "    'verb': 'carry',\n",
              "    'subject': 'I',\n",
              "    'object': '',\n",
              "    'sentence': \"It's a burden I carry every day.\"}],\n",
              "  'file': 'long-text',\n",
              "  'fileId': 'long-text',\n",
              "  'segId': 5,\n",
              "  'segCount': 5,\n",
              "  'text': \"I don't know how I survived. Maybe it was luck, maybe it was sheer will. The memories are still vivid, even after all these years. The hunger, the cold, the constant fear, the loss of everything I ever knew. It's a burden I carry every day.\"}]"
            ]
          },
          "metadata": {},
          "execution_count": 12
        }
      ],
      "source": [
        "#@title ###### Let's start by segmenting and annotating the `long-text` file...\n",
        "result = annotate_files('long-text',\n",
        "                        chunk=True,\n",
        "                        n_segments=5,\n",
        "                        include_text=True,\n",
        "                        include_verbs=True)\n",
        "result"
      ]
    },
    {
      "cell_type": "code",
      "source": [
        "#@title ###### We can also annotate multiple files...\n",
        "result = annotate_files(['short-text','long-text'],\n",
        "                        chunk=True,\n",
        "                        n_segments=5,\n",
        "                        include_text=True,\n",
        "                        include_verbs=True)\n",
        "result"
      ],
      "metadata": {
        "id": "4VQEViLRT3x5",
        "outputId": "f7839031-cf0a-4520-b4ee-ad491a1b0cf6",
        "colab": {
          "base_uri": "https://localhost:8080/"
        }
      },
      "execution_count": 20,
      "outputs": [
        {
          "output_type": "execute_result",
          "data": {
            "text/plain": [
              "[{'entities': [{'start_char': 7, 'token': 'the summer of 1942', 'tag': 'DATE'},\n",
              "   {'start_char': 74, 'token': 'Krakow', 'tag': 'PLACE'},\n",
              "   {'start_char': 88, 'token': 'Plaszow', 'tag': 'PLACE'},\n",
              "   {'start_char': 96, 'token': 'labor camp', 'tag': 'GEONOUN'}],\n",
              "  'verb_data': [{'sent-id': 0,\n",
              "    'verb': 'deported',\n",
              "    'subject': 'family',\n",
              "    'object': 'the summer of 1942',\n",
              "    'sentence': 'During the summer of 1942, my family and I were deported from our home in Krakow to the Plaszow labor camp.'}],\n",
              "  'file': 'short-text',\n",
              "  'fileId': 'short-text',\n",
              "  'segId': 1,\n",
              "  'segCount': 2,\n",
              "  'text': 'During the summer of 1942, my family and I were deported from our home in Krakow to the Plaszow labor camp.'},\n",
              " {'entities': [{'start_char': 9,\n",
              "    'token': 'several difficult months',\n",
              "    'tag': 'DATE'},\n",
              "   {'start_char': 68, 'token': 'Auschwitz-Birkenau', 'tag': 'CAMP'}],\n",
              "  'verb_data': [{'sent-id': 0,\n",
              "    'verb': 'spent',\n",
              "    'subject': 'We',\n",
              "    'object': 'several difficult months',\n",
              "    'sentence': 'We spent several difficult months there before being transferred to Auschwitz-Birkenau.'},\n",
              "   {'sent-id': 0,\n",
              "    'verb': 'transferred',\n",
              "    'subject': '',\n",
              "    'object': 'Auschwitz-Birkenau',\n",
              "    'sentence': 'We spent several difficult months there before being transferred to Auschwitz-Birkenau.'}],\n",
              "  'file': 'short-text',\n",
              "  'fileId': 'short-text',\n",
              "  'segId': 2,\n",
              "  'segCount': 2,\n",
              "  'text': 'We spent several difficult months there before being transferred to Auschwitz-Birkenau.'},\n",
              " {'entities': [{'start_char': 11, 'token': 'spring', 'tag': 'GEONOUN'},\n",
              "   {'start_char': 75, 'token': 'village', 'tag': 'GEONOUN'},\n",
              "   {'start_char': 88, 'token': 'Krakow', 'tag': 'PLACE'},\n",
              "   {'start_char': 117, 'token': 'early in the morning', 'tag': 'TIME'},\n",
              "   {'start_char': 235, 'token': 'days', 'tag': 'DATE'},\n",
              "   {'start_char': 244, 'token': 'nights', 'tag': 'DATE'}],\n",
              "  'verb_data': [{'sent-id': 0,\n",
              "    'verb': 'came',\n",
              "    'subject': 'they',\n",
              "    'object': 'us',\n",
              "    'sentence': 'It was the spring of 1943 when they came for us.'},\n",
              "   {'sent-id': 1,\n",
              "    'verb': 'living',\n",
              "    'subject': 'We',\n",
              "    'object': 'village',\n",
              "    'sentence': 'We were living in a small village near Krakow.'},\n",
              "   {'sent-id': 2,\n",
              "    'verb': 'arrived',\n",
              "    'subject': 'soldiers',\n",
              "    'object': '',\n",
              "    'sentence': 'The soldiers arrived early in the morning, shouting.'},\n",
              "   {'sent-id': 2,\n",
              "    'verb': 'shouting',\n",
              "    'subject': '',\n",
              "    'object': '',\n",
              "    'sentence': 'The soldiers arrived early in the morning, shouting.'},\n",
              "   {'sent-id': 3,\n",
              "    'verb': 'rounded',\n",
              "    'subject': 'They',\n",
              "    'object': 'everyone',\n",
              "    'sentence': 'They rounded everyone up and forced us onto crowded trains.'},\n",
              "   {'sent-id': 3,\n",
              "    'verb': 'forced',\n",
              "    'subject': '',\n",
              "    'object': 'us',\n",
              "    'sentence': 'They rounded everyone up and forced us onto crowded trains.'},\n",
              "   {'sent-id': 5,\n",
              "    'verb': 'know',\n",
              "    'subject': 'We',\n",
              "    'object': '',\n",
              "    'sentence': \"We didn't know where we were going, but the fear was palpable.\"},\n",
              "   {'sent-id': 5,\n",
              "    'verb': 'going',\n",
              "    'subject': 'we',\n",
              "    'object': '',\n",
              "    'sentence': \"We didn't know where we were going, but the fear was palpable.\"}],\n",
              "  'file': 'long-text',\n",
              "  'fileId': 'long-text',\n",
              "  'segId': 1,\n",
              "  'segCount': 5,\n",
              "  'text': \"It was the spring of 1943 when they came for us. We were living in a small village near Krakow. The soldiers arrived early in the morning, shouting. They rounded everyone up and forced us onto crowded trains. The journey was terrible, days and nights without food or water. We didn't know where we were going, but the fear was palpable.\"},\n",
              " {'entities': [{'start_char': 59, 'token': 'watchtowers', 'tag': 'GEONOUN'},\n",
              "   {'start_char': 79, 'token': 'Auschwitz', 'tag': 'CAMP'},\n",
              "   {'start_char': 147, 'token': 'children', 'tag': 'FAMILY'},\n",
              "   {'start_char': 185, 'token': 'father', 'tag': 'FAMILY'},\n",
              "   {'start_char': 202, 'token': 'mother', 'tag': 'FAMILY'},\n",
              "   {'start_char': 240, 'token': 'camp', 'tag': 'GEONOUN'}],\n",
              "  'verb_data': [{'sent-id': 0,\n",
              "    'verb': 'arrived',\n",
              "    'subject': 'we',\n",
              "    'object': 'place',\n",
              "    'sentence': 'Finally, we arrived at a place with barbed wire fences and watchtowers.'},\n",
              "   {'sent-id': 4,\n",
              "    'verb': 'saw',\n",
              "    'subject': 'I',\n",
              "    'object': 'father',\n",
              "    'sentence': 'I never saw my father again.'},\n",
              "   {'sent-id': 5,\n",
              "    'verb': 'sent',\n",
              "    'subject': 'mother',\n",
              "    'object': 'camp',\n",
              "    'sentence': \"My mother and I were sent to the women's camp.\"}],\n",
              "  'file': 'long-text',\n",
              "  'fileId': 'long-text',\n",
              "  'segId': 2,\n",
              "  'segCount': 5,\n",
              "  'text': \"Finally, we arrived at a place with barbed wire fences and watchtowers. It was Auschwitz. The separation was immediate. Men to one side, women and children to the other. I never saw my father again. My mother and I were sent to the women's camp.\"},\n",
              " {'entities': [{'start_char': 98, 'token': 'building', 'tag': 'GEONOUN'},\n",
              "   {'start_char': 146, 'token': 'mother', 'tag': 'FAMILY'}],\n",
              "  'verb_data': [{'sent-id': 2,\n",
              "    'verb': 'forced',\n",
              "    'subject': 'We',\n",
              "    'object': '',\n",
              "    'sentence': 'We were forced to do hard labor, building roads and clearing rubble.'},\n",
              "   {'sent-id': 2,\n",
              "    'verb': 'do',\n",
              "    'subject': '',\n",
              "    'object': 'labor',\n",
              "    'sentence': 'We were forced to do hard labor, building roads and clearing rubble.'},\n",
              "   {'sent-id': 2,\n",
              "    'verb': 'building',\n",
              "    'subject': '',\n",
              "    'object': 'roads',\n",
              "    'sentence': 'We were forced to do hard labor, building roads and clearing rubble.'},\n",
              "   {'sent-id': 2,\n",
              "    'verb': 'clearing',\n",
              "    'subject': '',\n",
              "    'object': 'rubble',\n",
              "    'sentence': 'We were forced to do hard labor, building roads and clearing rubble.'},\n",
              "   {'sent-id': 3,\n",
              "    'verb': 'became',\n",
              "    'subject': 'mother',\n",
              "    'object': '',\n",
              "    'sentence': 'One day, my mother became very ill.'},\n",
              "   {'sent-id': 4,\n",
              "    'verb': 'tried',\n",
              "    'subject': 'I',\n",
              "    'object': '',\n",
              "    'sentence': 'I tried to care for her, but there was nothing I could do.'},\n",
              "   {'sent-id': 4,\n",
              "    'verb': 'care',\n",
              "    'subject': '',\n",
              "    'object': 'her',\n",
              "    'sentence': 'I tried to care for her, but there was nothing I could do.'},\n",
              "   {'sent-id': 4,\n",
              "    'verb': 'was',\n",
              "    'subject': '',\n",
              "    'object': '',\n",
              "    'sentence': 'I tried to care for her, but there was nothing I could do.'},\n",
              "   {'sent-id': 4,\n",
              "    'verb': 'do',\n",
              "    'subject': 'I',\n",
              "    'object': '',\n",
              "    'sentence': 'I tried to care for her, but there was nothing I could do.'}],\n",
              "  'file': 'long-text',\n",
              "  'fileId': 'long-text',\n",
              "  'segId': 3,\n",
              "  'segCount': 5,\n",
              "  'text': 'The conditions were horrific. Overcrowding, starvation, disease. We were forced to do hard labor, building roads and clearing rubble. One day, my mother became very ill. I tried to care for her, but there was nothing I could do.'},\n",
              " {'entities': [{'start_char': 9, 'token': 'a few weeks later', 'tag': 'DATE'},\n",
              "   {'start_char': 41, 'token': 'The days', 'tag': 'DATE'},\n",
              "   {'start_char': 63, 'token': 'weeks', 'tag': 'DATE'},\n",
              "   {'start_char': 70, 'token': 'weeks', 'tag': 'DATE'},\n",
              "   {'start_char': 81, 'token': 'months', 'tag': 'DATE'}],\n",
              "  'verb_data': [{'sent-id': 0,\n",
              "    'verb': 'died',\n",
              "    'subject': 'She',\n",
              "    'object': '',\n",
              "    'sentence': 'She died a few weeks later.'},\n",
              "   {'sent-id': 2,\n",
              "    'verb': 'blurred',\n",
              "    'subject': 'The days',\n",
              "    'object': 'weeks',\n",
              "    'sentence': 'The days blurred into weeks, weeks into months.'},\n",
              "   {'sent-id': 4,\n",
              "    'verb': 'deemed',\n",
              "    'subject': '',\n",
              "    'object': '',\n",
              "    'sentence': 'Selections were frequent, and those deemed too weak to work were sent to the gas chambers.'},\n",
              "   {'sent-id': 4,\n",
              "    'verb': 'work',\n",
              "    'subject': '',\n",
              "    'object': '',\n",
              "    'sentence': 'Selections were frequent, and those deemed too weak to work were sent to the gas chambers.'},\n",
              "   {'sent-id': 4,\n",
              "    'verb': 'sent',\n",
              "    'subject': 'those',\n",
              "    'object': 'chambers',\n",
              "    'sentence': 'Selections were frequent, and those deemed too weak to work were sent to the gas chambers.'}],\n",
              "  'file': 'long-text',\n",
              "  'fileId': 'long-text',\n",
              "  'segId': 4,\n",
              "  'segCount': 5,\n",
              "  'text': 'She died a few weeks later. I was alone. The days blurred into weeks, weeks into months. The constant threat of death was always present. Selections were frequent, and those deemed too weak to work were sent to the gas chambers.'},\n",
              " {'entities': [{'start_char': 124, 'token': 'years', 'tag': 'DATE'},\n",
              "   {'start_char': 230, 'token': 'every day', 'tag': 'DATE'}],\n",
              "  'verb_data': [{'sent-id': 0,\n",
              "    'verb': 'know',\n",
              "    'subject': 'I',\n",
              "    'object': '',\n",
              "    'sentence': \"I don't know how I survived.\"},\n",
              "   {'sent-id': 0,\n",
              "    'verb': 'survived',\n",
              "    'subject': 'I',\n",
              "    'object': '',\n",
              "    'sentence': \"I don't know how I survived.\"},\n",
              "   {'sent-id': 3,\n",
              "    'verb': 'knew',\n",
              "    'subject': 'I',\n",
              "    'object': '',\n",
              "    'sentence': 'The hunger, the cold, the constant fear, the loss of everything I ever knew.'},\n",
              "   {'sent-id': 4,\n",
              "    'verb': 'carry',\n",
              "    'subject': 'I',\n",
              "    'object': '',\n",
              "    'sentence': \"It's a burden I carry every day.\"}],\n",
              "  'file': 'long-text',\n",
              "  'fileId': 'long-text',\n",
              "  'segId': 5,\n",
              "  'segCount': 5,\n",
              "  'text': \"I don't know how I survived. Maybe it was luck, maybe it was sheer will. The memories are still vivid, even after all these years. The hunger, the cold, the constant fear, the loss of everything I ever knew. It's a burden I carry every day.\"}]"
            ]
          },
          "metadata": {},
          "execution_count": 20
        }
      ]
    },
    {
      "cell_type": "markdown",
      "metadata": {
        "id": "cVkL7vLqBpdh"
      },
      "source": [
        "## Saving and loading files"
      ]
    },
    {
      "cell_type": "markdown",
      "metadata": {
        "id": "KzWH0kjSB33z"
      },
      "source": [
        "Annotations can be saved for future analysis and visualisation using the `save_annotations()` function. The supported formats include: `json`, `jsonl`, `csv` and `tsv`."
      ]
    },
    {
      "cell_type": "code",
      "execution_count": 21,
      "metadata": {
        "id": "xENxoDoW1taO"
      },
      "outputs": [],
      "source": [
        "# from spatio_textual.utils import save_annotations\n",
        "save_annotations(result, 'result.jsonl')"
      ]
    },
    {
      "cell_type": "markdown",
      "metadata": {
        "id": "VEPrNHBfFMTe"
      },
      "source": [
        "Saved annotation can be reloaded in memory as a Pandas dataframe using the `load_annotations()` function."
      ]
    },
    {
      "cell_type": "code",
      "execution_count": 22,
      "metadata": {
        "id": "Pl3eExEtBYps",
        "outputId": "aad82cd5-f57f-4f28-a35f-5fab5cb35e03",
        "colab": {
          "base_uri": "https://localhost:8080/",
          "height": 390
        }
      },
      "outputs": [
        {
          "output_type": "execute_result",
          "data": {
            "text/plain": [
              "                                            entities  \\\n",
              "0  [{'start_char': 7, 'token': 'the summer of 194...   \n",
              "1  [{'start_char': 9, 'token': 'several difficult...   \n",
              "2  [{'start_char': 11, 'token': 'spring', 'tag': ...   \n",
              "3  [{'start_char': 59, 'token': 'watchtowers', 't...   \n",
              "4  [{'start_char': 98, 'token': 'building', 'tag'...   \n",
              "5  [{'start_char': 9, 'token': 'a few weeks later...   \n",
              "6  [{'start_char': 124, 'token': 'years', 'tag': ...   \n",
              "\n",
              "                                           verb_data        file      fileId  \\\n",
              "0  [{'sent-id': 0, 'verb': 'deported', 'subject':...  short-text  short-text   \n",
              "1  [{'sent-id': 0, 'verb': 'spent', 'subject': 'W...  short-text  short-text   \n",
              "2  [{'sent-id': 0, 'verb': 'came', 'subject': 'th...   long-text   long-text   \n",
              "3  [{'sent-id': 0, 'verb': 'arrived', 'subject': ...   long-text   long-text   \n",
              "4  [{'sent-id': 2, 'verb': 'forced', 'subject': '...   long-text   long-text   \n",
              "5  [{'sent-id': 0, 'verb': 'died', 'subject': 'Sh...   long-text   long-text   \n",
              "6  [{'sent-id': 0, 'verb': 'know', 'subject': 'I'...   long-text   long-text   \n",
              "\n",
              "   segId  segCount                                               text error  \n",
              "0      1         2  During the summer of 1942, my family and I wer...  None  \n",
              "1      2         2  We spent several difficult months there before...  None  \n",
              "2      1         5  It was the spring of 1943 when they came for u...  None  \n",
              "3      2         5  Finally, we arrived at a place with barbed wir...  None  \n",
              "4      3         5  The conditions were horrific. Overcrowding, st...  None  \n",
              "5      4         5  She died a few weeks later. I was alone. The d...  None  \n",
              "6      5         5  I don't know how I survived. Maybe it was luck...  None  "
            ],
            "text/html": [
              "\n",
              "  <div id=\"df-953c8e08-7b61-4f26-9bb5-4b4d8020c5a0\" class=\"colab-df-container\">\n",
              "    <div>\n",
              "<style scoped>\n",
              "    .dataframe tbody tr th:only-of-type {\n",
              "        vertical-align: middle;\n",
              "    }\n",
              "\n",
              "    .dataframe tbody tr th {\n",
              "        vertical-align: top;\n",
              "    }\n",
              "\n",
              "    .dataframe thead th {\n",
              "        text-align: right;\n",
              "    }\n",
              "</style>\n",
              "<table border=\"1\" class=\"dataframe\">\n",
              "  <thead>\n",
              "    <tr style=\"text-align: right;\">\n",
              "      <th></th>\n",
              "      <th>entities</th>\n",
              "      <th>verb_data</th>\n",
              "      <th>file</th>\n",
              "      <th>fileId</th>\n",
              "      <th>segId</th>\n",
              "      <th>segCount</th>\n",
              "      <th>text</th>\n",
              "      <th>error</th>\n",
              "    </tr>\n",
              "  </thead>\n",
              "  <tbody>\n",
              "    <tr>\n",
              "      <th>0</th>\n",
              "      <td>[{'start_char': 7, 'token': 'the summer of 194...</td>\n",
              "      <td>[{'sent-id': 0, 'verb': 'deported', 'subject':...</td>\n",
              "      <td>short-text</td>\n",
              "      <td>short-text</td>\n",
              "      <td>1</td>\n",
              "      <td>2</td>\n",
              "      <td>During the summer of 1942, my family and I wer...</td>\n",
              "      <td>None</td>\n",
              "    </tr>\n",
              "    <tr>\n",
              "      <th>1</th>\n",
              "      <td>[{'start_char': 9, 'token': 'several difficult...</td>\n",
              "      <td>[{'sent-id': 0, 'verb': 'spent', 'subject': 'W...</td>\n",
              "      <td>short-text</td>\n",
              "      <td>short-text</td>\n",
              "      <td>2</td>\n",
              "      <td>2</td>\n",
              "      <td>We spent several difficult months there before...</td>\n",
              "      <td>None</td>\n",
              "    </tr>\n",
              "    <tr>\n",
              "      <th>2</th>\n",
              "      <td>[{'start_char': 11, 'token': 'spring', 'tag': ...</td>\n",
              "      <td>[{'sent-id': 0, 'verb': 'came', 'subject': 'th...</td>\n",
              "      <td>long-text</td>\n",
              "      <td>long-text</td>\n",
              "      <td>1</td>\n",
              "      <td>5</td>\n",
              "      <td>It was the spring of 1943 when they came for u...</td>\n",
              "      <td>None</td>\n",
              "    </tr>\n",
              "    <tr>\n",
              "      <th>3</th>\n",
              "      <td>[{'start_char': 59, 'token': 'watchtowers', 't...</td>\n",
              "      <td>[{'sent-id': 0, 'verb': 'arrived', 'subject': ...</td>\n",
              "      <td>long-text</td>\n",
              "      <td>long-text</td>\n",
              "      <td>2</td>\n",
              "      <td>5</td>\n",
              "      <td>Finally, we arrived at a place with barbed wir...</td>\n",
              "      <td>None</td>\n",
              "    </tr>\n",
              "    <tr>\n",
              "      <th>4</th>\n",
              "      <td>[{'start_char': 98, 'token': 'building', 'tag'...</td>\n",
              "      <td>[{'sent-id': 2, 'verb': 'forced', 'subject': '...</td>\n",
              "      <td>long-text</td>\n",
              "      <td>long-text</td>\n",
              "      <td>3</td>\n",
              "      <td>5</td>\n",
              "      <td>The conditions were horrific. Overcrowding, st...</td>\n",
              "      <td>None</td>\n",
              "    </tr>\n",
              "    <tr>\n",
              "      <th>5</th>\n",
              "      <td>[{'start_char': 9, 'token': 'a few weeks later...</td>\n",
              "      <td>[{'sent-id': 0, 'verb': 'died', 'subject': 'Sh...</td>\n",
              "      <td>long-text</td>\n",
              "      <td>long-text</td>\n",
              "      <td>4</td>\n",
              "      <td>5</td>\n",
              "      <td>She died a few weeks later. I was alone. The d...</td>\n",
              "      <td>None</td>\n",
              "    </tr>\n",
              "    <tr>\n",
              "      <th>6</th>\n",
              "      <td>[{'start_char': 124, 'token': 'years', 'tag': ...</td>\n",
              "      <td>[{'sent-id': 0, 'verb': 'know', 'subject': 'I'...</td>\n",
              "      <td>long-text</td>\n",
              "      <td>long-text</td>\n",
              "      <td>5</td>\n",
              "      <td>5</td>\n",
              "      <td>I don't know how I survived. Maybe it was luck...</td>\n",
              "      <td>None</td>\n",
              "    </tr>\n",
              "  </tbody>\n",
              "</table>\n",
              "</div>\n",
              "    <div class=\"colab-df-buttons\">\n",
              "\n",
              "  <div class=\"colab-df-container\">\n",
              "    <button class=\"colab-df-convert\" onclick=\"convertToInteractive('df-953c8e08-7b61-4f26-9bb5-4b4d8020c5a0')\"\n",
              "            title=\"Convert this dataframe to an interactive table.\"\n",
              "            style=\"display:none;\">\n",
              "\n",
              "  <svg xmlns=\"http://www.w3.org/2000/svg\" height=\"24px\" viewBox=\"0 -960 960 960\">\n",
              "    <path d=\"M120-120v-720h720v720H120Zm60-500h600v-160H180v160Zm220 220h160v-160H400v160Zm0 220h160v-160H400v160ZM180-400h160v-160H180v160Zm440 0h160v-160H620v160ZM180-180h160v-160H180v160Zm440 0h160v-160H620v160Z\"/>\n",
              "  </svg>\n",
              "    </button>\n",
              "\n",
              "  <style>\n",
              "    .colab-df-container {\n",
              "      display:flex;\n",
              "      gap: 12px;\n",
              "    }\n",
              "\n",
              "    .colab-df-convert {\n",
              "      background-color: #E8F0FE;\n",
              "      border: none;\n",
              "      border-radius: 50%;\n",
              "      cursor: pointer;\n",
              "      display: none;\n",
              "      fill: #1967D2;\n",
              "      height: 32px;\n",
              "      padding: 0 0 0 0;\n",
              "      width: 32px;\n",
              "    }\n",
              "\n",
              "    .colab-df-convert:hover {\n",
              "      background-color: #E2EBFA;\n",
              "      box-shadow: 0px 1px 2px rgba(60, 64, 67, 0.3), 0px 1px 3px 1px rgba(60, 64, 67, 0.15);\n",
              "      fill: #174EA6;\n",
              "    }\n",
              "\n",
              "    .colab-df-buttons div {\n",
              "      margin-bottom: 4px;\n",
              "    }\n",
              "\n",
              "    [theme=dark] .colab-df-convert {\n",
              "      background-color: #3B4455;\n",
              "      fill: #D2E3FC;\n",
              "    }\n",
              "\n",
              "    [theme=dark] .colab-df-convert:hover {\n",
              "      background-color: #434B5C;\n",
              "      box-shadow: 0px 1px 3px 1px rgba(0, 0, 0, 0.15);\n",
              "      filter: drop-shadow(0px 1px 2px rgba(0, 0, 0, 0.3));\n",
              "      fill: #FFFFFF;\n",
              "    }\n",
              "  </style>\n",
              "\n",
              "    <script>\n",
              "      const buttonEl =\n",
              "        document.querySelector('#df-953c8e08-7b61-4f26-9bb5-4b4d8020c5a0 button.colab-df-convert');\n",
              "      buttonEl.style.display =\n",
              "        google.colab.kernel.accessAllowed ? 'block' : 'none';\n",
              "\n",
              "      async function convertToInteractive(key) {\n",
              "        const element = document.querySelector('#df-953c8e08-7b61-4f26-9bb5-4b4d8020c5a0');\n",
              "        const dataTable =\n",
              "          await google.colab.kernel.invokeFunction('convertToInteractive',\n",
              "                                                    [key], {});\n",
              "        if (!dataTable) return;\n",
              "\n",
              "        const docLinkHtml = 'Like what you see? Visit the ' +\n",
              "          '<a target=\"_blank\" href=https://colab.research.google.com/notebooks/data_table.ipynb>data table notebook</a>'\n",
              "          + ' to learn more about interactive tables.';\n",
              "        element.innerHTML = '';\n",
              "        dataTable['output_type'] = 'display_data';\n",
              "        await google.colab.output.renderOutput(dataTable, element);\n",
              "        const docLink = document.createElement('div');\n",
              "        docLink.innerHTML = docLinkHtml;\n",
              "        element.appendChild(docLink);\n",
              "      }\n",
              "    </script>\n",
              "  </div>\n",
              "\n",
              "\n",
              "    <div id=\"df-8d61c6f6-1dac-4b42-94a3-67fbc27aaa62\">\n",
              "      <button class=\"colab-df-quickchart\" onclick=\"quickchart('df-8d61c6f6-1dac-4b42-94a3-67fbc27aaa62')\"\n",
              "                title=\"Suggest charts\"\n",
              "                style=\"display:none;\">\n",
              "\n",
              "<svg xmlns=\"http://www.w3.org/2000/svg\" height=\"24px\"viewBox=\"0 0 24 24\"\n",
              "     width=\"24px\">\n",
              "    <g>\n",
              "        <path d=\"M19 3H5c-1.1 0-2 .9-2 2v14c0 1.1.9 2 2 2h14c1.1 0 2-.9 2-2V5c0-1.1-.9-2-2-2zM9 17H7v-7h2v7zm4 0h-2V7h2v10zm4 0h-2v-4h2v4z\"/>\n",
              "    </g>\n",
              "</svg>\n",
              "      </button>\n",
              "\n",
              "<style>\n",
              "  .colab-df-quickchart {\n",
              "      --bg-color: #E8F0FE;\n",
              "      --fill-color: #1967D2;\n",
              "      --hover-bg-color: #E2EBFA;\n",
              "      --hover-fill-color: #174EA6;\n",
              "      --disabled-fill-color: #AAA;\n",
              "      --disabled-bg-color: #DDD;\n",
              "  }\n",
              "\n",
              "  [theme=dark] .colab-df-quickchart {\n",
              "      --bg-color: #3B4455;\n",
              "      --fill-color: #D2E3FC;\n",
              "      --hover-bg-color: #434B5C;\n",
              "      --hover-fill-color: #FFFFFF;\n",
              "      --disabled-bg-color: #3B4455;\n",
              "      --disabled-fill-color: #666;\n",
              "  }\n",
              "\n",
              "  .colab-df-quickchart {\n",
              "    background-color: var(--bg-color);\n",
              "    border: none;\n",
              "    border-radius: 50%;\n",
              "    cursor: pointer;\n",
              "    display: none;\n",
              "    fill: var(--fill-color);\n",
              "    height: 32px;\n",
              "    padding: 0;\n",
              "    width: 32px;\n",
              "  }\n",
              "\n",
              "  .colab-df-quickchart:hover {\n",
              "    background-color: var(--hover-bg-color);\n",
              "    box-shadow: 0 1px 2px rgba(60, 64, 67, 0.3), 0 1px 3px 1px rgba(60, 64, 67, 0.15);\n",
              "    fill: var(--button-hover-fill-color);\n",
              "  }\n",
              "\n",
              "  .colab-df-quickchart-complete:disabled,\n",
              "  .colab-df-quickchart-complete:disabled:hover {\n",
              "    background-color: var(--disabled-bg-color);\n",
              "    fill: var(--disabled-fill-color);\n",
              "    box-shadow: none;\n",
              "  }\n",
              "\n",
              "  .colab-df-spinner {\n",
              "    border: 2px solid var(--fill-color);\n",
              "    border-color: transparent;\n",
              "    border-bottom-color: var(--fill-color);\n",
              "    animation:\n",
              "      spin 1s steps(1) infinite;\n",
              "  }\n",
              "\n",
              "  @keyframes spin {\n",
              "    0% {\n",
              "      border-color: transparent;\n",
              "      border-bottom-color: var(--fill-color);\n",
              "      border-left-color: var(--fill-color);\n",
              "    }\n",
              "    20% {\n",
              "      border-color: transparent;\n",
              "      border-left-color: var(--fill-color);\n",
              "      border-top-color: var(--fill-color);\n",
              "    }\n",
              "    30% {\n",
              "      border-color: transparent;\n",
              "      border-left-color: var(--fill-color);\n",
              "      border-top-color: var(--fill-color);\n",
              "      border-right-color: var(--fill-color);\n",
              "    }\n",
              "    40% {\n",
              "      border-color: transparent;\n",
              "      border-right-color: var(--fill-color);\n",
              "      border-top-color: var(--fill-color);\n",
              "    }\n",
              "    60% {\n",
              "      border-color: transparent;\n",
              "      border-right-color: var(--fill-color);\n",
              "    }\n",
              "    80% {\n",
              "      border-color: transparent;\n",
              "      border-right-color: var(--fill-color);\n",
              "      border-bottom-color: var(--fill-color);\n",
              "    }\n",
              "    90% {\n",
              "      border-color: transparent;\n",
              "      border-bottom-color: var(--fill-color);\n",
              "    }\n",
              "  }\n",
              "</style>\n",
              "\n",
              "      <script>\n",
              "        async function quickchart(key) {\n",
              "          const quickchartButtonEl =\n",
              "            document.querySelector('#' + key + ' button');\n",
              "          quickchartButtonEl.disabled = true;  // To prevent multiple clicks.\n",
              "          quickchartButtonEl.classList.add('colab-df-spinner');\n",
              "          try {\n",
              "            const charts = await google.colab.kernel.invokeFunction(\n",
              "                'suggestCharts', [key], {});\n",
              "          } catch (error) {\n",
              "            console.error('Error during call to suggestCharts:', error);\n",
              "          }\n",
              "          quickchartButtonEl.classList.remove('colab-df-spinner');\n",
              "          quickchartButtonEl.classList.add('colab-df-quickchart-complete');\n",
              "        }\n",
              "        (() => {\n",
              "          let quickchartButtonEl =\n",
              "            document.querySelector('#df-8d61c6f6-1dac-4b42-94a3-67fbc27aaa62 button');\n",
              "          quickchartButtonEl.style.display =\n",
              "            google.colab.kernel.accessAllowed ? 'block' : 'none';\n",
              "        })();\n",
              "      </script>\n",
              "    </div>\n",
              "\n",
              "    </div>\n",
              "  </div>\n"
            ],
            "application/vnd.google.colaboratory.intrinsic+json": {
              "type": "dataframe",
              "repr_error": "Out of range float values are not JSON compliant: nan"
            }
          },
          "metadata": {},
          "execution_count": 22
        }
      ],
      "source": [
        "load_annotations('result.jsonl')"
      ]
    },
    {
      "cell_type": "markdown",
      "metadata": {
        "id": "Lda1ctcazsUL"
      },
      "source": [
        "# ToDo\n",
        "Additional features to include\n",
        "- ~Annotating a list of texts~ Done ✅\n",
        "- ~Saving annotations to files (what format: csv/tsv, json, jsonl)~ Done ✅\n",
        "- ~loading annotations from corpus file~ Done ✅\n",
        "- Emotion classification (LLM vs BERT-based)\n",
        "- Sentiment.\n",
        "- Geocoding\n",
        "- Create the `Lake District` and `Holocaust` modules?\n",
        "  - `Holocaust`:\n",
        "      - `journey` extraction\n",
        "      - `event` extraction\n",
        "  - `Lake District`:\n",
        "      - `nearness`\n",
        "      - `wild` and `picturesque`\n",
        "- Analysis\n",
        "- Visualization"
      ]
    }
  ],
  "metadata": {
    "colab": {
      "collapsed_sections": [
        "ET6wKFGP-SOG",
        "Kt1OnOCpD13Q",
        "COQgoH2iLOpz",
        "ApoODrTs87P8"
      ],
      "provenance": [],
      "machine_shape": "hm",
      "gpuType": "A100",
      "authorship_tag": "ABX9TyMCh1ddNzAjERc74vrE5Agj",
      "include_colab_link": true
    },
    "kernelspec": {
      "display_name": "Python 3",
      "name": "python3"
    },
    "language_info": {
      "name": "python"
    },
    "accelerator": "GPU"
  },
  "nbformat": 4,
  "nbformat_minor": 0
}
