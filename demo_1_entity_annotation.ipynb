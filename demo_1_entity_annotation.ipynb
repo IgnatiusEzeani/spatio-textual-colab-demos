{
  "cells": [
    {
      "cell_type": "markdown",
      "metadata": {
        "id": "view-in-github",
        "colab_type": "text"
      },
      "source": [
        "<a href=\"https://colab.research.google.com/github/IgnatiusEzeani/spatio-textual-colab-demos/blob/main/demo_1_entity_annotation.ipynb\" target=\"_parent\"><img src=\"https://colab.research.google.com/assets/colab-badge.svg\" alt=\"Open In Colab\"/></a>"
      ]
    },
    {
      "cell_type": "markdown",
      "metadata": {
        "id": "QBrCPj878Txz"
      },
      "source": [
        "# Introducing `spatio-textual` Python package"
      ]
    },
    {
      "cell_type": "markdown",
      "metadata": {
        "id": "8OL1Nd-F8WEQ"
      },
      "source": [
        "**spatio-textual**: a Python package for spatial entity recognition and verb relation extraction from text created by the [Spatial Narratives Project](https://spacetimenarratives.github.io/) and designed to support spatio-textual annotation, analysis and visualization in digital humanities projects, with initial applications to:\n",
        "\n",
        "- the *Corpus of Lake District Writing* (CLDW)\n",
        "- Holocaust survivors' testimonies (e.g., USC Shoah Foundation archives)\n",
        "\n",
        "This package leverages spaCy and gazetteer-based classification to identify and label spatial entities such as cities, countries, camps, and geographic nouns, and also extracts action-verb contexts involving these entities.\n"
      ]
    },
    {
      "cell_type": "markdown",
      "metadata": {
        "id": "ET6wKFGP-SOG"
      },
      "source": [
        "---\n",
        "## Setting up\n",
        "Download `en_core_web_trf` spaCy model and install `spatio-textual` package.\n",
        "\n",
        "**_Note:_** *Please wait a while, this may take a minute or 2...* 🕐\n"
      ]
    },
    {
      "cell_type": "code",
      "execution_count": null,
      "metadata": {
        "id": "FuaB_QNJcoYc"
      },
      "outputs": [],
      "source": [
        "!python -m spacy download en_core_web_trf\n",
        "!pip install -q git+https://github.com/SpaceTimeNarratives/spatio-textual.git"
      ]
    },
    {
      "cell_type": "markdown",
      "metadata": {
        "id": "Kt1OnOCpD13Q"
      },
      "source": [
        "---\n",
        "## Importing the `spatio-textual` package\n",
        "Having successfully downloaded the spaCy model and installed the `spatio-textual` package, it can now be imported and used in a Python environment to process text.\n",
        "\n",
        "*Again, this may take about a minute too...*"
      ]
    },
    {
      "cell_type": "code",
      "execution_count": null,
      "metadata": {
        "id": "1PJGz3edrWZR"
      },
      "outputs": [],
      "source": [
        "import spatio_textual"
      ]
    },
    {
      "cell_type": "markdown",
      "metadata": {
        "id": "x2PfuuwaJcFB"
      },
      "source": [
        "The `spatio-textual` package has the `annotate` module with functions `annotate_text`, `annotate_texts`, `chunk_and_annotate_text`, `chunk_and_annotate_file` which identifies and labels spatial entities in text inputs of different formats.\n",
        "\n",
        "So we can import the functions directly as below"
      ]
    },
    {
      "cell_type": "code",
      "execution_count": null,
      "metadata": {
        "id": "5zd_SQRQ8fSo"
      },
      "outputs": [],
      "source": [
        "from spatio_textual.annotate import (\n",
        "    annotate_text,            # annotates a single text\n",
        "    annotate_texts,           # annotates a collection of texts\n",
        "    chunk_and_annotate_text,  # chunks and annotates a text\n",
        "    chunk_and_annotate_file,  # chunks and annotates a file\n",
        "    annotate_files,           # annotates a collection of files\n",
        ")"
      ]
    },
    {
      "cell_type": "markdown",
      "metadata": {
        "id": "6FukHpG-ELxT"
      },
      "source": [
        "Also, we can manage the saving and loading of annotations using the package `utils` functions `save_annotations(...)` and `load_annotations(...)` respectively"
      ]
    },
    {
      "cell_type": "code",
      "execution_count": null,
      "metadata": {
        "id": "S-aclXjeA6lF"
      },
      "outputs": [],
      "source": [
        "from spatio_textual.utils import save_annotations, load_annotations"
      ]
    },
    {
      "cell_type": "markdown",
      "metadata": {
        "id": "COQgoH2iLOpz"
      },
      "source": [
        "---\n",
        "## Annotating spatial entities"
      ]
    },
    {
      "cell_type": "markdown",
      "metadata": {
        "id": "ErwJyCwoOn9A"
      },
      "source": [
        "Beyond the typical labels for the named entity recognition task [`PERSON`, `ORG`, `LOC`, `DATE`], we have defined a set of entity labels that are relevant for our work as shown below:\n",
        "\n",
        "| Tag          | Description                                                  |\n",
        "| ------------ | ------------------------------------------------------------ |\n",
        "| `PERSON`     | A named person                                               |\n",
        "| `CONTINENT`  | A continent name (e.g. “Europe”, “Asia”)                     |\n",
        "| `COUNTRY`    | A country name (e.g. “Germany”, “Czechoslovakia”)            |\n",
        "| `US-STATE`   | A U.S. state name (e.g. “California”, “New York”)            |\n",
        "| `CITY`       | A city name (e.g. “Berlin”, “London”,  when classified)     |\n",
        "| `CAMP`       | A Holocaust-camp name e.g. “Auschwitz” (from your custom list)                |\n",
        "| `PLACE`      | Other place-type entities not matched above                  |\n",
        "| `GEONOUN`    | Generic geographic nouns (e.g. “valley”, “moor”)             |\n",
        "| `NON-VERBAL` | Terms like [PAUSES], [LAUGHS] in non-verbal list |\n",
        "| `FAMILY`     | Kinship terms (e.g. “mother”, “uncle”)                       |\n",
        "| `DATE`       | Temporal expressions (e.g. “March 9, 1996”)                  |\n",
        "| `TIME`       | Time-of-day expressions (e.g. “3 PM”)                        |\n",
        "| `EVENT`      | Named events (e.g. “D-Day”)                                  |\n",
        "| `QUANTITY`   | Numeric/measure expressions (e.g. “100 miles”)               |\n",
        "\n",
        "We will demonstrate how to use the `annotate` module functions to label spatial entities in text in the next cells."
      ]
    },
    {
      "cell_type": "markdown",
      "metadata": {
        "id": "ApoODrTs87P8"
      },
      "source": [
        "## Annotating text: `annotate_text(...)`"
      ]
    },
    {
      "cell_type": "code",
      "execution_count": null,
      "metadata": {
        "id": "NxjAfBllvcoT",
        "cellView": "form"
      },
      "outputs": [],
      "source": [
        "#@title ###### Let's download and display the text in the `short-text` file...\n",
        "!wget -c -q \"https://raw.githubusercontent.com/SpaceTimeNarratives/spatio-textual/refs/heads/main/example-texts/short-text\"\n",
        "text = open(\"short-text\", 'r').read()\n",
        "display(text)"
      ]
    },
    {
      "cell_type": "code",
      "execution_count": null,
      "metadata": {
        "id": "PK-CFbiTsUx6",
        "cellView": "form"
      },
      "outputs": [],
      "source": [
        "#@title ###### ...we can then identify the entities with the `annotate_text(...)` function.\n",
        "result = annotate_text(text)\n",
        "result"
      ]
    },
    {
      "cell_type": "markdown",
      "metadata": {
        "id": "-4ZXu8eS4ZY4"
      },
      "source": [
        "We can see tokens identified as places (`PLACE`), geonouns (`GEONOUN`), camps (`CAMP`) etc.\n",
        "\n",
        "Observe, however, that the `verb_data` value is empty. The `verb_data` is meant to capture the 'actions' performed by actors in the text for further analysis.\n",
        "\n",
        "To fix this, we can set the optional parameter `include-verbs` to `True` in the function call."
      ]
    },
    {
      "cell_type": "code",
      "execution_count": null,
      "metadata": {
        "id": "CS4v-HoKWrC0",
        "cellView": "form"
      },
      "outputs": [],
      "source": [
        "#@title ###### So let's modify the function calls to extract `verb_data`\n",
        "result = annotate_text(text, include_verbs=True)\n",
        "\n",
        "print(\"Entities:\")\n",
        "display(result['entities'])\n",
        "\n",
        "print(\"\\nVerb Data:\")\n",
        "display(result['verb_data'])"
      ]
    },
    {
      "cell_type": "markdown",
      "metadata": {
        "id": "v-NkvcFLE8H2"
      },
      "source": [
        "## Annotating a list of texts"
      ]
    },
    {
      "cell_type": "markdown",
      "metadata": {
        "id": "WaGV2fSNBd7b"
      },
      "source": [
        "If we have a collection of texts (instead of just one piece of text), we can use the `annotate_texts(...)` instead."
      ]
    },
    {
      "cell_type": "code",
      "execution_count": null,
      "metadata": {
        "id": "3_pMriYiCTgx"
      },
      "outputs": [],
      "source": [
        "list_of_texts = [\n",
        "    \"My family and I were deported from our home in Krakow to the Plaszow labor camp.\",\n",
        "    \"We spent several difficult months there before being transferred to Maribor.\",\n",
        "    \"Finally, we arrived at a place with barbed wire fences and watchtowers.\",\n",
        "    \"It was Auschwitz.\"\n",
        "]\n",
        "\n",
        "results = annotate_texts(list_of_texts, include_verbs=True)\n",
        "for result in results:\n",
        "    print(\"\\nEntities:\")\n",
        "    display(result['entities'])\n",
        "\n",
        "    print(\"\\nVerb Data:\")\n",
        "    display(result['verb_data'])"
      ]
    },
    {
      "cell_type": "markdown",
      "metadata": {
        "id": "OzoBuJOKjsiB"
      },
      "source": [
        "## Annotating text segments"
      ]
    },
    {
      "cell_type": "markdown",
      "metadata": {
        "id": "obElrU2hj53B"
      },
      "source": [
        "Sometimes, we may need to split a text into segments (or chunks) before annotating them. This is similar to annotating a list of texts only that it includes the segmentation feature.\n",
        "\n",
        "This can be achieved by using `chunk_and_annotate_text(...)` on a text string or using `chunk_and_annotate_file(...)` on a text file. In both cases a key parameter to set is the `n_segments` which specifies the number of segments."
      ]
    },
    {
      "cell_type": "markdown",
      "metadata": {
        "id": "kdUT5Q4Nv4EZ"
      },
      "source": [
        "#### Using `chunk_and_annotate_text(...)`"
      ]
    },
    {
      "cell_type": "code",
      "execution_count": null,
      "metadata": {
        "id": "pA_j2RQ0jrzx"
      },
      "outputs": [],
      "source": [
        "#@title ##### To demonstrate this let's download, read and display the text file `long-text`...\n",
        "!wget -c -q \"https://raw.githubusercontent.com/SpaceTimeNarratives/spatio-textual/refs/heads/main/example-texts/long-text\"\n",
        "text = open(\"long-text\", 'r').read()\n",
        "display(text)"
      ]
    },
    {
      "cell_type": "code",
      "execution_count": null,
      "metadata": {
        "id": "P4jygm2Gl4Y8"
      },
      "outputs": [],
      "source": [
        "#@title ##### ... then let's segment and annotate it with `chunk_and_annotate_text(...)`\n",
        "result = chunk_and_annotate_text(text, n_segments=5, include_text=True)\n",
        "result"
      ]
    },
    {
      "cell_type": "markdown",
      "metadata": {
        "id": "T7PtumbGwJW9"
      },
      "source": [
        "#### Using `chunk_and_annotate_file(...)`"
      ]
    },
    {
      "cell_type": "markdown",
      "source": [
        "With the `chunk_and_annotate_file(...)` function, you can actually pass a text file (instead of a text string as with `chunk_and_annotate_text(...)`) for annotation."
      ],
      "metadata": {
        "id": "l_BVCHcxWE0Q"
      }
    },
    {
      "cell_type": "markdown",
      "metadata": {
        "id": "iY0BiQkrcRVb"
      },
      "source": [
        ">**NOTE:** You can also upload your file using the file icon in the left sidebar. Then, replace the example text `long-text` with the name of your uploaded file."
      ]
    },
    {
      "cell_type": "code",
      "execution_count": null,
      "metadata": {
        "id": "NzmT58ASwKP8"
      },
      "outputs": [],
      "source": [
        "#@title ##### ... Let's segment and annotate a file `chunk_and_annotate_file(...)`\n",
        "result = chunk_and_annotate_file('long-text', n_segments=5)\n",
        "result"
      ]
    },
    {
      "cell_type": "markdown",
      "metadata": {
        "id": "ZRduMzA98pBR"
      },
      "source": [
        "## Annotating files"
      ]
    },
    {
      "cell_type": "markdown",
      "metadata": {
        "id": "456eaef0"
      },
      "source": [
        "We can also pass a file or a collection of files in a folder as an input to annotate,"
      ]
    },
    {
      "cell_type": "code",
      "execution_count": null,
      "metadata": {
        "id": "v64g-VB0zzdE"
      },
      "outputs": [],
      "source": [
        "#@title ###### Let's start by segmenting and annotating the `long-text` file...\n",
        "result = annotate_files('long-text',\n",
        "                        chunk=True,\n",
        "                        n_segments=5,\n",
        "                        include_text=True,\n",
        "                        include_verbs=True)\n",
        "result"
      ]
    },
    {
      "cell_type": "code",
      "source": [
        "#@title ###### We can also annotate multiple files...\n",
        "result = annotate_files(['short-text','long-text'],\n",
        "                        chunk=True,\n",
        "                        n_segments=5,\n",
        "                        include_text=True,\n",
        "                        include_verbs=True)\n",
        "result"
      ],
      "metadata": {
        "id": "4VQEViLRT3x5"
      },
      "execution_count": null,
      "outputs": []
    },
    {
      "cell_type": "markdown",
      "metadata": {
        "id": "cVkL7vLqBpdh"
      },
      "source": [
        "## Saving and loading files"
      ]
    },
    {
      "cell_type": "markdown",
      "metadata": {
        "id": "KzWH0kjSB33z"
      },
      "source": [
        "Annotations can be saved for future analysis and visualisation using the `save_annotations()` function. The supported formats include: `json`, `jsonl`, `csv` and `tsv`."
      ]
    },
    {
      "cell_type": "code",
      "execution_count": null,
      "metadata": {
        "id": "xENxoDoW1taO"
      },
      "outputs": [],
      "source": [
        "# from spatio_textual.utils import save_annotations\n",
        "save_annotations(result, 'result.jsonl')"
      ]
    },
    {
      "cell_type": "markdown",
      "metadata": {
        "id": "VEPrNHBfFMTe"
      },
      "source": [
        "Saved annotation can be reloaded in memory as a Pandas dataframe using the `load_annotations()` function."
      ]
    },
    {
      "cell_type": "code",
      "execution_count": null,
      "metadata": {
        "id": "Pl3eExEtBYps"
      },
      "outputs": [],
      "source": [
        "load_annotations('result.jsonl')"
      ]
    }
  ],
  "metadata": {
    "colab": {
      "collapsed_sections": [
        "ET6wKFGP-SOG",
        "Kt1OnOCpD13Q",
        "COQgoH2iLOpz",
        "ApoODrTs87P8"
      ],
      "provenance": [],
      "machine_shape": "hm",
      "gpuType": "A100",
      "authorship_tag": "ABX9TyMn3ahiOykN9v1RyQ5oIQfY",
      "include_colab_link": true
    },
    "kernelspec": {
      "display_name": "Python 3",
      "name": "python3"
    },
    "language_info": {
      "name": "python"
    },
    "accelerator": "GPU"
  },
  "nbformat": 4,
  "nbformat_minor": 0
}